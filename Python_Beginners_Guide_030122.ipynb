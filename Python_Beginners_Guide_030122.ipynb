{
 "cells": [
  {
   "cell_type": "markdown",
   "id": "3cb8d066",
   "metadata": {},
   "source": [
    "'''Core Python Libraries for data analysis\n",
    "Areas of Application : Library - Description\n",
    "\n",
    "1) Statistical computations - Scipy: \n",
    "Scipy contains moudules for optimization and computation\n",
    "it provides libraries for several statistical distributions and statistical tests.\n",
    "\n",
    "\n",
    "2) Statistical Modeling - StatsModels:\n",
    "StatsModel is a python module that provides classes and functions for various statistical analysis.\n",
    "\n",
    "3) Mathmatical Computation - Numpy:\n",
    "Numpy is the fundamental package for scientific computing involving large arrays and matrices.\n",
    "it provides useful mathmatical computation capabilities.\n",
    "\n",
    "4) Data Structure Operations (Dataframes) - Pandas:\n",
    "Pandas provides high-performance, easy-to-use data \n",
    "structures called DataFrame for exploration and analysis. \n",
    "DataFrames are the key data structures that feed into most of \n",
    "the statistical and machine learning models.\n",
    "\n",
    "5) Visualization - Matplotlib:\n",
    "It is a 2D plotting library.\n",
    "\n",
    "6) More elegant Visualization -Seaborn:\n",
    "According to seaborn.pydata.org, Seaborn is a Python \n",
    "visualization library based on matplotlib. It provides a \n",
    "high-level interface for drawing attractive statistical graphics.\n",
    "\n",
    "7) Machine Learning Algorithm - Scikit-learn (aka sklearn):\n",
    "Scikit-learn provides a range of supervised and \n",
    "unsupervised learning algorithms.\n",
    "\n",
    "8) IDE (Integrated Development Environment) - Jupyter Notebook:\n",
    "According to jupyter.org, the Jupyter Notebook is an open-\n",
    "source web application that allows you to create and share \n",
    "documents that contain live code, equations, visualizations, \n",
    "and explanatory text.\n",
    "\n",
    "9) API : Application Programming Interfaces(API)\n",
    "Ref: https://www.analyticsvidhya.com/blog/2016/11/an-introduction-to-apis-application-programming-interfaces-5-apis-a-data-scientist-must-know/\n",
    "\n",
    "10 ) Graphical user interface (GUI) or command line interface (CLI)\n",
    "\n",
    "\n",
    "\n",
    "'''"
   ]
  },
  {
   "cell_type": "markdown",
   "id": "f280727c",
   "metadata": {},
   "source": [
    "Jupyter Notebook is browser based interpreter that allows us to interactively work with Python"
   ]
  },
  {
   "cell_type": "code",
   "execution_count": 1,
   "id": "83d54e01",
   "metadata": {},
   "outputs": [
    {
     "name": "stdout",
     "output_type": "stream",
     "text": [
      "this is python\n"
     ]
    }
   ],
   "source": [
    "print(\"this is python\")"
   ]
  },
  {
   "cell_type": "markdown",
   "id": "d1c4d42f",
   "metadata": {},
   "source": [
    "# Variable in Python"
   ]
  },
  {
   "cell_type": "markdown",
   "id": "07cfa8b1",
   "metadata": {},
   "source": [
    "Data/values can be stored in temporary storage spaces called variables. "
   ]
  },
  {
   "cell_type": "code",
   "execution_count": 2,
   "id": "ef4c96b4",
   "metadata": {},
   "outputs": [],
   "source": [
    "student = 'john'"
   ]
  },
  {
   "cell_type": "code",
   "execution_count": 3,
   "id": "50fbb834",
   "metadata": {},
   "outputs": [
    {
     "data": {
      "text/plain": [
       "'john'"
      ]
     },
     "execution_count": 3,
     "metadata": {},
     "output_type": "execute_result"
    }
   ],
   "source": [
    "student"
   ]
  },
  {
   "cell_type": "code",
   "execution_count": 4,
   "id": "605b087b",
   "metadata": {},
   "outputs": [],
   "source": [
    "student = 'quency'"
   ]
  },
  {
   "cell_type": "code",
   "execution_count": 5,
   "id": "53e4b847",
   "metadata": {},
   "outputs": [
    {
     "data": {
      "text/plain": [
       "'quency'"
      ]
     },
     "execution_count": 5,
     "metadata": {},
     "output_type": "execute_result"
    }
   ],
   "source": [
    "student"
   ]
  },
  {
   "cell_type": "markdown",
   "id": "0f92e429",
   "metadata": {},
   "source": [
    "# Data type\n",
    "1) integer\n",
    "\n",
    "2) string\n",
    "\n",
    "3) Boolean\n",
    "\n",
    "4) float"
   ]
  },
  {
   "cell_type": "code",
   "execution_count": 6,
   "id": "84a0ea0a",
   "metadata": {},
   "outputs": [],
   "source": [
    "#Interger\n",
    "age = 21"
   ]
  },
  {
   "cell_type": "code",
   "execution_count": 7,
   "id": "75747563",
   "metadata": {},
   "outputs": [
    {
     "data": {
      "text/plain": [
       "21"
      ]
     },
     "execution_count": 7,
     "metadata": {},
     "output_type": "execute_result"
    }
   ],
   "source": [
    "age"
   ]
  },
  {
   "cell_type": "code",
   "execution_count": 8,
   "id": "aed1418f",
   "metadata": {},
   "outputs": [
    {
     "data": {
      "text/plain": [
       "int"
      ]
     },
     "execution_count": 8,
     "metadata": {},
     "output_type": "execute_result"
    }
   ],
   "source": [
    "type(age)"
   ]
  },
  {
   "cell_type": "code",
   "execution_count": 9,
   "id": "f32a521e",
   "metadata": {},
   "outputs": [
    {
     "data": {
      "text/plain": [
       "'dorra'"
      ]
     },
     "execution_count": 9,
     "metadata": {},
     "output_type": "execute_result"
    }
   ],
   "source": [
    "# string\n",
    "name = 'dorra'\n",
    "name"
   ]
  },
  {
   "cell_type": "code",
   "execution_count": 10,
   "id": "bbcf534d",
   "metadata": {},
   "outputs": [],
   "source": [
    "#float & boolean variables\n",
    "Product_price = 2342.34\n",
    "success = True"
   ]
  },
  {
   "cell_type": "code",
   "execution_count": 11,
   "id": "077b288b",
   "metadata": {},
   "outputs": [
    {
     "data": {
      "text/plain": [
       "int"
      ]
     },
     "execution_count": 11,
     "metadata": {},
     "output_type": "execute_result"
    }
   ],
   "source": [
    "type(age)"
   ]
  },
  {
   "cell_type": "code",
   "execution_count": 12,
   "id": "4f5b6cab",
   "metadata": {},
   "outputs": [
    {
     "data": {
      "text/plain": [
       "str"
      ]
     },
     "execution_count": 12,
     "metadata": {},
     "output_type": "execute_result"
    }
   ],
   "source": [
    "type(name)"
   ]
  },
  {
   "cell_type": "code",
   "execution_count": 13,
   "id": "1cbf107a",
   "metadata": {},
   "outputs": [
    {
     "data": {
      "text/plain": [
       "float"
      ]
     },
     "execution_count": 13,
     "metadata": {},
     "output_type": "execute_result"
    }
   ],
   "source": [
    "type(Product_price)"
   ]
  },
  {
   "cell_type": "code",
   "execution_count": 14,
   "id": "5bf59834",
   "metadata": {},
   "outputs": [
    {
     "data": {
      "text/plain": [
       "bool"
      ]
     },
     "execution_count": 14,
     "metadata": {},
     "output_type": "execute_result"
    }
   ],
   "source": [
    "type(success)"
   ]
  },
  {
   "cell_type": "code",
   "execution_count": 15,
   "id": "64a6adfc",
   "metadata": {},
   "outputs": [
    {
     "data": {
      "text/plain": [
       "(3+4j)"
      ]
     },
     "execution_count": 15,
     "metadata": {},
     "output_type": "execute_result"
    }
   ],
   "source": [
    "a1 = 3+4j    # in python 'i' will be represened as 'j'\n",
    "a1"
   ]
  },
  {
   "cell_type": "code",
   "execution_count": 16,
   "id": "1a8737d4",
   "metadata": {},
   "outputs": [
    {
     "data": {
      "text/plain": [
       "complex"
      ]
     },
     "execution_count": 16,
     "metadata": {},
     "output_type": "execute_result"
    }
   ],
   "source": [
    "type(a1)"
   ]
  },
  {
   "cell_type": "markdown",
   "id": "d7be72f9",
   "metadata": {},
   "source": [
    "# Operators"
   ]
  },
  {
   "cell_type": "code",
   "execution_count": 17,
   "id": "3e3b1317",
   "metadata": {},
   "outputs": [],
   "source": [
    "#Arithmatic operators"
   ]
  },
  {
   "cell_type": "code",
   "execution_count": 18,
   "id": "6203a6f5",
   "metadata": {},
   "outputs": [],
   "source": [
    "# +,-,/,*"
   ]
  },
  {
   "cell_type": "code",
   "execution_count": 19,
   "id": "4470a10f",
   "metadata": {},
   "outputs": [],
   "source": [
    "a=10\n",
    "b=20"
   ]
  },
  {
   "cell_type": "code",
   "execution_count": 20,
   "id": "07a06bca",
   "metadata": {},
   "outputs": [
    {
     "data": {
      "text/plain": [
       "30"
      ]
     },
     "execution_count": 20,
     "metadata": {},
     "output_type": "execute_result"
    }
   ],
   "source": [
    "a+b"
   ]
  },
  {
   "cell_type": "code",
   "execution_count": 21,
   "id": "97a0826a",
   "metadata": {},
   "outputs": [
    {
     "data": {
      "text/plain": [
       "-10"
      ]
     },
     "execution_count": 21,
     "metadata": {},
     "output_type": "execute_result"
    }
   ],
   "source": [
    "a-b"
   ]
  },
  {
   "cell_type": "code",
   "execution_count": 22,
   "id": "020a1911",
   "metadata": {},
   "outputs": [
    {
     "data": {
      "text/plain": [
       "200"
      ]
     },
     "execution_count": 22,
     "metadata": {},
     "output_type": "execute_result"
    }
   ],
   "source": [
    "a*b"
   ]
  },
  {
   "cell_type": "code",
   "execution_count": 23,
   "id": "bddc7986",
   "metadata": {},
   "outputs": [
    {
     "data": {
      "text/plain": [
       "0.5"
      ]
     },
     "execution_count": 23,
     "metadata": {},
     "output_type": "execute_result"
    }
   ],
   "source": [
    "a/b"
   ]
  },
  {
   "cell_type": "code",
   "execution_count": 24,
   "id": "452ebaed",
   "metadata": {},
   "outputs": [],
   "source": [
    "#Relational Operators"
   ]
  },
  {
   "cell_type": "code",
   "execution_count": 25,
   "id": "562a8bab",
   "metadata": {},
   "outputs": [],
   "source": [
    "# <,>,==,<="
   ]
  },
  {
   "cell_type": "code",
   "execution_count": 26,
   "id": "80488769",
   "metadata": {},
   "outputs": [],
   "source": [
    "a = 50\n",
    "b =100"
   ]
  },
  {
   "cell_type": "code",
   "execution_count": 27,
   "id": "768dc907",
   "metadata": {},
   "outputs": [
    {
     "data": {
      "text/plain": [
       "False"
      ]
     },
     "execution_count": 27,
     "metadata": {},
     "output_type": "execute_result"
    }
   ],
   "source": [
    "a>b "
   ]
  },
  {
   "cell_type": "code",
   "execution_count": 28,
   "id": "0caf5d00",
   "metadata": {},
   "outputs": [
    {
     "data": {
      "text/plain": [
       "True"
      ]
     },
     "execution_count": 28,
     "metadata": {},
     "output_type": "execute_result"
    }
   ],
   "source": [
    "a<b"
   ]
  },
  {
   "cell_type": "code",
   "execution_count": 29,
   "id": "6539c0ad",
   "metadata": {},
   "outputs": [
    {
     "data": {
      "text/plain": [
       "False"
      ]
     },
     "execution_count": 29,
     "metadata": {},
     "output_type": "execute_result"
    }
   ],
   "source": [
    "a==b"
   ]
  },
  {
   "cell_type": "code",
   "execution_count": 30,
   "id": "417d7f5f",
   "metadata": {},
   "outputs": [
    {
     "data": {
      "text/plain": [
       "True"
      ]
     },
     "execution_count": 30,
     "metadata": {},
     "output_type": "execute_result"
    }
   ],
   "source": [
    "a<=b"
   ]
  },
  {
   "cell_type": "code",
   "execution_count": 31,
   "id": "ab3a8749",
   "metadata": {},
   "outputs": [],
   "source": [
    "#logical operators"
   ]
  },
  {
   "cell_type": "code",
   "execution_count": 32,
   "id": "b232195a",
   "metadata": {},
   "outputs": [],
   "source": [
    "# & | 'and','or'"
   ]
  },
  {
   "cell_type": "code",
   "execution_count": 33,
   "id": "8fdc058b",
   "metadata": {},
   "outputs": [],
   "source": [
    "a = True\n",
    "b = False"
   ]
  },
  {
   "cell_type": "code",
   "execution_count": 34,
   "id": "ee700312",
   "metadata": {},
   "outputs": [
    {
     "data": {
      "text/plain": [
       "True"
      ]
     },
     "execution_count": 34,
     "metadata": {},
     "output_type": "execute_result"
    }
   ],
   "source": [
    "a&a"
   ]
  },
  {
   "cell_type": "code",
   "execution_count": 35,
   "id": "501bbf2a",
   "metadata": {},
   "outputs": [
    {
     "data": {
      "text/plain": [
       "False"
      ]
     },
     "execution_count": 35,
     "metadata": {},
     "output_type": "execute_result"
    }
   ],
   "source": [
    "a&b"
   ]
  },
  {
   "cell_type": "code",
   "execution_count": 36,
   "id": "e89d4fad",
   "metadata": {},
   "outputs": [
    {
     "data": {
      "text/plain": [
       "False"
      ]
     },
     "execution_count": 36,
     "metadata": {},
     "output_type": "execute_result"
    }
   ],
   "source": [
    "b&a"
   ]
  },
  {
   "cell_type": "code",
   "execution_count": 37,
   "id": "a40bd5f7",
   "metadata": {},
   "outputs": [
    {
     "data": {
      "text/plain": [
       "False"
      ]
     },
     "execution_count": 37,
     "metadata": {},
     "output_type": "execute_result"
    }
   ],
   "source": [
    "b | b"
   ]
  },
  {
   "cell_type": "code",
   "execution_count": 38,
   "id": "76b94d79",
   "metadata": {},
   "outputs": [
    {
     "data": {
      "text/plain": [
       "True"
      ]
     },
     "execution_count": 38,
     "metadata": {},
     "output_type": "execute_result"
    }
   ],
   "source": [
    "a | b"
   ]
  },
  {
   "cell_type": "code",
   "execution_count": 39,
   "id": "eb3fbc84",
   "metadata": {},
   "outputs": [
    {
     "data": {
      "text/plain": [
       "True"
      ]
     },
     "execution_count": 39,
     "metadata": {},
     "output_type": "execute_result"
    }
   ],
   "source": [
    "b | a"
   ]
  },
  {
   "cell_type": "code",
   "execution_count": 40,
   "id": "8622a4fb",
   "metadata": {},
   "outputs": [
    {
     "data": {
      "text/plain": [
       "True"
      ]
     },
     "execution_count": 40,
     "metadata": {},
     "output_type": "execute_result"
    }
   ],
   "source": [
    "a | a"
   ]
  },
  {
   "cell_type": "markdown",
   "id": "00429a06",
   "metadata": {},
   "source": [
    "# Meaningful small componenets in Pyhton\n",
    "\n",
    "1) keywords\n",
    "\n",
    "2) identifiers\n",
    "\n",
    "3) literals\n",
    "\n",
    "4) operators"
   ]
  },
  {
   "cell_type": "code",
   "execution_count": 41,
   "id": "e8e37cb8",
   "metadata": {},
   "outputs": [],
   "source": [
    "# Keywords - Refer SS Python_keywords_1\n",
    "# identifiers - Refer SS Python_identifiers_2 \n",
    "# literals - Refer SS Python_literals_3\n"
   ]
  },
  {
   "cell_type": "code",
   "execution_count": 42,
   "id": "009713cc",
   "metadata": {},
   "outputs": [],
   "source": [
    "# Extracting Individual character"
   ]
  },
  {
   "cell_type": "code",
   "execution_count": 43,
   "id": "549eae6d",
   "metadata": {},
   "outputs": [],
   "source": [
    "#index - in python Indexing starts with '0' & last value not inclusives\n",
    "my_string = \"my name is jassi\""
   ]
  },
  {
   "cell_type": "code",
   "execution_count": 44,
   "id": "a368c0d3",
   "metadata": {},
   "outputs": [
    {
     "data": {
      "text/plain": [
       "'m'"
      ]
     },
     "execution_count": 44,
     "metadata": {},
     "output_type": "execute_result"
    }
   ],
   "source": [
    "my_string[0]"
   ]
  },
  {
   "cell_type": "code",
   "execution_count": 45,
   "id": "db5a532f",
   "metadata": {},
   "outputs": [
    {
     "data": {
      "text/plain": [
       "'y'"
      ]
     },
     "execution_count": 45,
     "metadata": {},
     "output_type": "execute_result"
    }
   ],
   "source": [
    "my_string[1]"
   ]
  },
  {
   "cell_type": "code",
   "execution_count": 46,
   "id": "a88f6a43",
   "metadata": {},
   "outputs": [
    {
     "data": {
      "text/plain": [
       "'i'"
      ]
     },
     "execution_count": 46,
     "metadata": {},
     "output_type": "execute_result"
    }
   ],
   "source": [
    "my_string[-1]"
   ]
  },
  {
   "cell_type": "code",
   "execution_count": 47,
   "id": "b67891bd",
   "metadata": {},
   "outputs": [
    {
     "data": {
      "text/plain": [
       "'me is ja'"
      ]
     },
     "execution_count": 47,
     "metadata": {},
     "output_type": "execute_result"
    }
   ],
   "source": [
    "my_string[5:13]"
   ]
  },
  {
   "cell_type": "code",
   "execution_count": 48,
   "id": "9535efca",
   "metadata": {},
   "outputs": [
    {
     "data": {
      "text/plain": [
       "'me is '"
      ]
     },
     "execution_count": 48,
     "metadata": {},
     "output_type": "execute_result"
    }
   ],
   "source": [
    "my_string[5:11]"
   ]
  },
  {
   "cell_type": "code",
   "execution_count": 49,
   "id": "a8250746",
   "metadata": {},
   "outputs": [
    {
     "data": {
      "text/plain": [
       "'me is ja'"
      ]
     },
     "execution_count": 49,
     "metadata": {},
     "output_type": "execute_result"
    }
   ],
   "source": [
    "my_string[5:13]"
   ]
  },
  {
   "cell_type": "code",
   "execution_count": 50,
   "id": "4f4476d2",
   "metadata": {},
   "outputs": [
    {
     "data": {
      "text/plain": [
       "'me is j'"
      ]
     },
     "execution_count": 50,
     "metadata": {},
     "output_type": "execute_result"
    }
   ],
   "source": [
    "my_string[5:12]"
   ]
  },
  {
   "cell_type": "code",
   "execution_count": 51,
   "id": "8feb96eb",
   "metadata": {},
   "outputs": [],
   "source": [
    "# string functions"
   ]
  },
  {
   "cell_type": "code",
   "execution_count": 52,
   "id": "6952e9a1",
   "metadata": {},
   "outputs": [
    {
     "data": {
      "text/plain": [
       "16"
      ]
     },
     "execution_count": 52,
     "metadata": {},
     "output_type": "execute_result"
    }
   ],
   "source": [
    "len(my_string)"
   ]
  },
  {
   "cell_type": "code",
   "execution_count": 53,
   "id": "c1a1b6b0",
   "metadata": {},
   "outputs": [
    {
     "data": {
      "text/plain": [
       "'my name is jassi'"
      ]
     },
     "execution_count": 53,
     "metadata": {},
     "output_type": "execute_result"
    }
   ],
   "source": [
    "my_string.lower()"
   ]
  },
  {
   "cell_type": "code",
   "execution_count": 54,
   "id": "6e05538a",
   "metadata": {},
   "outputs": [
    {
     "data": {
      "text/plain": [
       "'MY NAME IS JASSI'"
      ]
     },
     "execution_count": 54,
     "metadata": {},
     "output_type": "execute_result"
    }
   ],
   "source": [
    "my_string.upper()"
   ]
  },
  {
   "cell_type": "code",
   "execution_count": 55,
   "id": "c3a8a7e9",
   "metadata": {},
   "outputs": [],
   "source": [
    "#replacing sub string"
   ]
  },
  {
   "cell_type": "code",
   "execution_count": 56,
   "id": "1220e6e1",
   "metadata": {},
   "outputs": [
    {
     "data": {
      "text/plain": [
       "'ma name is jassi'"
      ]
     },
     "execution_count": 56,
     "metadata": {},
     "output_type": "execute_result"
    }
   ],
   "source": [
    "my_string.replace('y','a')"
   ]
  },
  {
   "cell_type": "code",
   "execution_count": 57,
   "id": "709302c5",
   "metadata": {},
   "outputs": [
    {
     "data": {
      "text/plain": [
       "'the python world hello hello python world'"
      ]
     },
     "execution_count": 57,
     "metadata": {},
     "output_type": "execute_result"
    }
   ],
   "source": [
    "new_string = \"the python world hello hello python world\"\n",
    "new_string"
   ]
  },
  {
   "cell_type": "code",
   "execution_count": 58,
   "id": "35bbfbc4",
   "metadata": {},
   "outputs": [
    {
     "data": {
      "text/plain": [
       "2"
      ]
     },
     "execution_count": 58,
     "metadata": {},
     "output_type": "execute_result"
    }
   ],
   "source": [
    "new_string.count('hello') # to check sub string how much time repeating/number of ocurrences"
   ]
  },
  {
   "cell_type": "code",
   "execution_count": 59,
   "id": "f1cf365f",
   "metadata": {},
   "outputs": [],
   "source": [
    "# finding the index of substring"
   ]
  },
  {
   "cell_type": "code",
   "execution_count": 60,
   "id": "12cd24c5",
   "metadata": {},
   "outputs": [
    {
     "data": {
      "text/plain": [
       "'this is python'"
      ]
     },
     "execution_count": 60,
     "metadata": {},
     "output_type": "execute_result"
    }
   ],
   "source": [
    "v1 = 'this is python'\n",
    "v1"
   ]
  },
  {
   "cell_type": "code",
   "execution_count": 61,
   "id": "621a09a2",
   "metadata": {},
   "outputs": [
    {
     "data": {
      "text/plain": [
       "8"
      ]
     },
     "execution_count": 61,
     "metadata": {},
     "output_type": "execute_result"
    }
   ],
   "source": [
    "v1.find('python')"
   ]
  },
  {
   "cell_type": "code",
   "execution_count": 62,
   "id": "37a97dde",
   "metadata": {},
   "outputs": [
    {
     "data": {
      "text/plain": [
       "8"
      ]
     },
     "execution_count": 62,
     "metadata": {},
     "output_type": "execute_result"
    }
   ],
   "source": [
    "v1.find('p')"
   ]
  },
  {
   "cell_type": "code",
   "execution_count": 63,
   "id": "35be2560",
   "metadata": {},
   "outputs": [
    {
     "data": {
      "text/plain": [
       "'i like mangoes,apples,cherry'"
      ]
     },
     "execution_count": 63,
     "metadata": {},
     "output_type": "execute_result"
    }
   ],
   "source": [
    "# spliting a string\n",
    "v2 = 'i like mangoes,apples,cherry'\n",
    "v2"
   ]
  },
  {
   "cell_type": "code",
   "execution_count": 64,
   "id": "6a9ecc58",
   "metadata": {},
   "outputs": [
    {
     "data": {
      "text/plain": [
       "['i like mangoes', 'apples', 'cherry']"
      ]
     },
     "execution_count": 64,
     "metadata": {},
     "output_type": "execute_result"
    }
   ],
   "source": [
    "v2.split(',')"
   ]
  },
  {
   "cell_type": "code",
   "execution_count": 65,
   "id": "6ee8969d",
   "metadata": {},
   "outputs": [],
   "source": [
    "v3 = 'persident obama is best president of us'"
   ]
  },
  {
   "cell_type": "code",
   "execution_count": 66,
   "id": "84675594",
   "metadata": {},
   "outputs": [
    {
     "data": {
      "text/plain": [
       "['p', 'rsid', 'nt obama is b', 'st pr', 'sid', 'nt of us']"
      ]
     },
     "execution_count": 66,
     "metadata": {},
     "output_type": "execute_result"
    }
   ],
   "source": [
    "v3.split('e')"
   ]
  },
  {
   "cell_type": "markdown",
   "id": "fd5826cd",
   "metadata": {},
   "source": [
    "# Data Structures"
   ]
  },
  {
   "cell_type": "markdown",
   "id": "86f3b705",
   "metadata": {},
   "source": [
    "Tuple:\n",
    "\n",
    "Tuple is an ordered collection of elements enclosed with ()\n",
    "\n",
    "Tuple are Immutable"
   ]
  },
  {
   "cell_type": "code",
   "execution_count": 67,
   "id": "3fcd986f",
   "metadata": {},
   "outputs": [],
   "source": [
    "tup1 = (1,'a',True)"
   ]
  },
  {
   "cell_type": "code",
   "execution_count": 68,
   "id": "8ef09b93",
   "metadata": {},
   "outputs": [
    {
     "data": {
      "text/plain": [
       "(1, 'a', True)"
      ]
     },
     "execution_count": 68,
     "metadata": {},
     "output_type": "execute_result"
    }
   ],
   "source": [
    "tup1"
   ]
  },
  {
   "cell_type": "code",
   "execution_count": 69,
   "id": "ecc1ab76",
   "metadata": {},
   "outputs": [
    {
     "data": {
      "text/plain": [
       "tuple"
      ]
     },
     "execution_count": 69,
     "metadata": {},
     "output_type": "execute_result"
    }
   ],
   "source": [
    "type(tup1)"
   ]
  },
  {
   "cell_type": "code",
   "execution_count": 70,
   "id": "9aa4f334",
   "metadata": {},
   "outputs": [
    {
     "data": {
      "text/plain": [
       "1"
      ]
     },
     "execution_count": 70,
     "metadata": {},
     "output_type": "execute_result"
    }
   ],
   "source": [
    "tup1[0]"
   ]
  },
  {
   "cell_type": "code",
   "execution_count": 71,
   "id": "6a38f9b0",
   "metadata": {},
   "outputs": [
    {
     "data": {
      "text/plain": [
       "True"
      ]
     },
     "execution_count": 71,
     "metadata": {},
     "output_type": "execute_result"
    }
   ],
   "source": [
    "tup1[-1]"
   ]
  },
  {
   "cell_type": "code",
   "execution_count": 72,
   "id": "610ad03f",
   "metadata": {},
   "outputs": [
    {
     "data": {
      "text/plain": [
       "('a', True)"
      ]
     },
     "execution_count": 72,
     "metadata": {},
     "output_type": "execute_result"
    }
   ],
   "source": [
    "tup1[1:4]"
   ]
  },
  {
   "cell_type": "code",
   "execution_count": 73,
   "id": "67f9c0c8",
   "metadata": {},
   "outputs": [
    {
     "data": {
      "text/plain": [
       "True"
      ]
     },
     "execution_count": 73,
     "metadata": {},
     "output_type": "execute_result"
    }
   ],
   "source": [
    "tup1[2]"
   ]
  },
  {
   "cell_type": "code",
   "execution_count": 74,
   "id": "f4c7e7ca",
   "metadata": {},
   "outputs": [
    {
     "ename": "TypeError",
     "evalue": "'tuple' object does not support item assignment",
     "output_type": "error",
     "traceback": [
      "\u001b[1;31m---------------------------------------------------------------------------\u001b[0m",
      "\u001b[1;31mTypeError\u001b[0m                                 Traceback (most recent call last)",
      "\u001b[1;32m<ipython-input-74-0f2426b981db>\u001b[0m in \u001b[0;36m<module>\u001b[1;34m\u001b[0m\n\u001b[1;32m----> 1\u001b[1;33m \u001b[0mtup1\u001b[0m\u001b[1;33m[\u001b[0m\u001b[1;36m2\u001b[0m\u001b[1;33m]\u001b[0m \u001b[1;33m=\u001b[0m \u001b[1;34m\"hello\"\u001b[0m  \u001b[1;31m# you can not modify a tuple because it is immutable\u001b[0m\u001b[1;33m\u001b[0m\u001b[1;33m\u001b[0m\u001b[0m\n\u001b[0m",
      "\u001b[1;31mTypeError\u001b[0m: 'tuple' object does not support item assignment"
     ]
    }
   ],
   "source": [
    "tup1[2] = \"hello\"  # you can not modify a tuple because it is immutable"
   ]
  },
  {
   "cell_type": "code",
   "execution_count": null,
   "id": "479e0f95",
   "metadata": {},
   "outputs": [],
   "source": [
    "#concat tuples\n",
    "tup1 = (1,2,3)\n",
    "tup2 = (4,5,6)"
   ]
  },
  {
   "cell_type": "code",
   "execution_count": null,
   "id": "d1ea9ccc",
   "metadata": {},
   "outputs": [],
   "source": [
    "tup1,tup2"
   ]
  },
  {
   "cell_type": "code",
   "execution_count": null,
   "id": "41da7a90",
   "metadata": {},
   "outputs": [],
   "source": [
    "tup1+tup2"
   ]
  },
  {
   "cell_type": "code",
   "execution_count": null,
   "id": "4a7b6a14",
   "metadata": {},
   "outputs": [],
   "source": [
    "#Repeat\n",
    "tup1 = ('sparta',300)\n",
    "tup1*3"
   ]
  },
  {
   "cell_type": "code",
   "execution_count": null,
   "id": "a0c7cdec",
   "metadata": {},
   "outputs": [],
   "source": [
    "#Repeat & Concat Tuple Elements\n",
    "tup1 = ('sparta',300)\n",
    "tup2 = (4,5,6)\n",
    "tup1*3 + tup2"
   ]
  },
  {
   "cell_type": "code",
   "execution_count": null,
   "id": "9953d13f",
   "metadata": {},
   "outputs": [],
   "source": [
    "# minimum value\n",
    "tup1 = (1,2,3,4,5)\n",
    "min(tup1)"
   ]
  },
  {
   "cell_type": "code",
   "execution_count": null,
   "id": "4736a920",
   "metadata": {},
   "outputs": [],
   "source": [
    "max(tup1)"
   ]
  },
  {
   "cell_type": "code",
   "execution_count": null,
   "id": "8b60138a",
   "metadata": {},
   "outputs": [],
   "source": [
    "odidebut = ('kohli',2008)"
   ]
  },
  {
   "cell_type": "code",
   "execution_count": null,
   "id": "10ee6511",
   "metadata": {},
   "outputs": [],
   "source": [
    "odidebut"
   ]
  },
  {
   "cell_type": "code",
   "execution_count": null,
   "id": "7092f6d1",
   "metadata": {},
   "outputs": [],
   "source": [
    "#tuple elements index starts with 0.\n",
    "odidebut[0]"
   ]
  },
  {
   "cell_type": "markdown",
   "id": "5c89e276",
   "metadata": {},
   "source": [
    "# List\n",
    "\n",
    "List is an ordered collection of enclosed with [ ]\n",
    "\n",
    "Lists are mutable"
   ]
  },
  {
   "cell_type": "markdown",
   "id": "f6c7394b",
   "metadata": {},
   "source": [
    "lists are like  arrays, but can contain heterogenous items,that is, a single list can contain item of type integer,\n",
    "float, string or objects.\n",
    "It is also not a unique set of items,that is, the values can repeat.\n",
    "Lists are mutable and generally initialized with a list of values specified inside square brackets or an empty list."
   ]
  },
  {
   "cell_type": "code",
   "execution_count": null,
   "id": "cbcf49c9",
   "metadata": {},
   "outputs": [],
   "source": [
    "#creating empty list\n",
    "emptylist = []"
   ]
  },
  {
   "cell_type": "code",
   "execution_count": null,
   "id": "0782c964",
   "metadata": {},
   "outputs": [],
   "source": [
    "batsmen = ['Rohit','Dhawan', 'Kohli', 'Rahane','Raydu', 'Dhoni']"
   ]
  },
  {
   "cell_type": "code",
   "execution_count": null,
   "id": "cd06b6ca",
   "metadata": {},
   "outputs": [],
   "source": [
    "#list can be accessed using Index as follows:\n",
    "batsmen[0]"
   ]
  },
  {
   "cell_type": "markdown",
   "id": "e708d7aa",
   "metadata": {},
   "source": [
    "slicing a list - A slice of list can be obtained using an index range seperated by colon(:).A range [0:2] means starting with \n",
    "index 0 until index 2, but not including 2."
   ]
  },
  {
   "cell_type": "code",
   "execution_count": null,
   "id": "21b91452",
   "metadata": {},
   "outputs": [],
   "source": [
    "batsmen[0:2]"
   ]
  },
  {
   "cell_type": "code",
   "execution_count": null,
   "id": "a08225e4",
   "metadata": {},
   "outputs": [],
   "source": [
    "# Accessing the last elements\n",
    "batsmen[-1]"
   ]
  },
  {
   "cell_type": "code",
   "execution_count": null,
   "id": "4386da19",
   "metadata": {},
   "outputs": [],
   "source": [
    "len(batsmen)"
   ]
  },
  {
   "cell_type": "code",
   "execution_count": null,
   "id": "e07f672d",
   "metadata": {},
   "outputs": [],
   "source": [
    "bowlers = ['Bumrah', 'Shami', 'Bhuvi', 'Kuldeep', 'Chahal']"
   ]
  },
  {
   "cell_type": "code",
   "execution_count": null,
   "id": "7d853c0d",
   "metadata": {},
   "outputs": [],
   "source": [
    "all_players = batsmen+bowlers"
   ]
  },
  {
   "cell_type": "code",
   "execution_count": null,
   "id": "d8ca4bf2",
   "metadata": {},
   "outputs": [],
   "source": [
    "all_players"
   ]
  },
  {
   "cell_type": "code",
   "execution_count": null,
   "id": "2595b0d1",
   "metadata": {},
   "outputs": [],
   "source": [
    "'bumrah' in bowlers # finding if items exist in list or not"
   ]
  },
  {
   "cell_type": "code",
   "execution_count": null,
   "id": "913f8dcd",
   "metadata": {},
   "outputs": [],
   "source": [
    "all_players.index('Dhoni') # finding the index of an item in the list."
   ]
  },
  {
   "cell_type": "code",
   "execution_count": null,
   "id": "95aca110",
   "metadata": {},
   "outputs": [],
   "source": [
    "all_players.reverse() #items in a list can be arranged in reverse order by calling reverse() function on the list."
   ]
  },
  {
   "cell_type": "code",
   "execution_count": null,
   "id": "e6b70ecc",
   "metadata": {},
   "outputs": [],
   "source": [
    "all_players"
   ]
  },
  {
   "cell_type": "code",
   "execution_count": null,
   "id": "489073de",
   "metadata": {},
   "outputs": [],
   "source": [
    "#changing the element at 0th index\n",
    "l1 = [1,'a',2,'b',3,\"c\"]"
   ]
  },
  {
   "cell_type": "code",
   "execution_count": null,
   "id": "51922443",
   "metadata": {},
   "outputs": [],
   "source": [
    "l1[0] = 100"
   ]
  },
  {
   "cell_type": "code",
   "execution_count": null,
   "id": "71ac8d10",
   "metadata": {},
   "outputs": [],
   "source": [
    "l1"
   ]
  },
  {
   "cell_type": "code",
   "execution_count": null,
   "id": "f0ca3e92",
   "metadata": {},
   "outputs": [],
   "source": [
    "#append new element\n",
    "l1.append(\"sparta\")"
   ]
  },
  {
   "cell_type": "code",
   "execution_count": null,
   "id": "9ecdc4cd",
   "metadata": {},
   "outputs": [],
   "source": [
    "l1"
   ]
  },
  {
   "cell_type": "code",
   "execution_count": null,
   "id": "9f28a1a6",
   "metadata": {},
   "outputs": [],
   "source": [
    "#poping the last element\n",
    "l1.pop()"
   ]
  },
  {
   "cell_type": "code",
   "execution_count": null,
   "id": "0e847d0c",
   "metadata": {},
   "outputs": [],
   "source": [
    "l1"
   ]
  },
  {
   "cell_type": "code",
   "execution_count": null,
   "id": "b24fa8a5",
   "metadata": {},
   "outputs": [],
   "source": [
    "#reverse\n",
    "l1.reverse()"
   ]
  },
  {
   "cell_type": "code",
   "execution_count": null,
   "id": "17157767",
   "metadata": {},
   "outputs": [],
   "source": [
    "l1"
   ]
  },
  {
   "cell_type": "code",
   "execution_count": null,
   "id": "8dcc1715",
   "metadata": {},
   "outputs": [],
   "source": [
    "#insert\n",
    "l1 = [1,'a',2,'b',3,\"c\"]\n",
    "l1.insert(1,'tree')\n",
    "l1"
   ]
  },
  {
   "cell_type": "code",
   "execution_count": null,
   "id": "dfb01de0",
   "metadata": {},
   "outputs": [],
   "source": [
    "#sorting\n",
    "l2 = ['mango','apples','banana','guava','cherry']\n",
    "l2"
   ]
  },
  {
   "cell_type": "code",
   "execution_count": null,
   "id": "42d6f11d",
   "metadata": {},
   "outputs": [],
   "source": [
    "l2.sort()"
   ]
  },
  {
   "cell_type": "code",
   "execution_count": null,
   "id": "c055369f",
   "metadata": {},
   "outputs": [],
   "source": [
    "l2"
   ]
  },
  {
   "cell_type": "code",
   "execution_count": null,
   "id": "7f05513f",
   "metadata": {},
   "outputs": [],
   "source": [
    "#concat\n",
    "l1 = [1,2,3]\n",
    "l2 = ['a','b','c']"
   ]
  },
  {
   "cell_type": "code",
   "execution_count": null,
   "id": "f6cc818f",
   "metadata": {},
   "outputs": [],
   "source": [
    "l1+l2"
   ]
  },
  {
   "cell_type": "code",
   "execution_count": null,
   "id": "6e515f59",
   "metadata": {},
   "outputs": [],
   "source": [
    "#repeat elemnets\n",
    "l1*3"
   ]
  },
  {
   "cell_type": "code",
   "execution_count": null,
   "id": "0846acda",
   "metadata": {},
   "outputs": [],
   "source": [
    "l2*3"
   ]
  },
  {
   "cell_type": "markdown",
   "id": "842d1c26",
   "metadata": {},
   "source": [
    "# Dictonary"
   ]
  },
  {
   "cell_type": "markdown",
   "id": "4065f7e8",
   "metadata": {},
   "source": [
    "Dictonary is an unordered collection of key - value pairs enclosed with { }\n",
    "\n",
    "Dictonary is mutable."
   ]
  },
  {
   "cell_type": "code",
   "execution_count": null,
   "id": "4758ce3f",
   "metadata": {},
   "outputs": [],
   "source": [
    "wcWinners = {1975:'West Indies',\n",
    "             1979: 'West Indies',\n",
    "             1983: 'India',\n",
    "             1987: 'Australia',\n",
    "             1991: 'Pakistan',\n",
    "             1996: 'Sri Lanka',\n",
    "             1999: 'Australia',\n",
    "             2003: 'Australia',\n",
    "             2007: 'Australia', \n",
    "             2011: 'India'}"
   ]
  },
  {
   "cell_type": "code",
   "execution_count": null,
   "id": "be81f1c8",
   "metadata": {},
   "outputs": [],
   "source": [
    "#the value of specific dictonary element can be accessed by key.\n",
    "wcWinners[1983]"
   ]
  },
  {
   "cell_type": "code",
   "execution_count": null,
   "id": "72a74c27",
   "metadata": {},
   "outputs": [],
   "source": [
    "wcWinners.values()"
   ]
  },
  {
   "cell_type": "code",
   "execution_count": null,
   "id": "60f6fee6",
   "metadata": {},
   "outputs": [],
   "source": [
    "wcWinners.keys()"
   ]
  },
  {
   "cell_type": "code",
   "execution_count": null,
   "id": "d0aa7505",
   "metadata": {},
   "outputs": [],
   "source": [
    "# the above list had repeted names of certain countries as they have won multiple times.\n",
    "# to find unique list of contries,above list can be converted to set.\n",
    "set(wcWinners.values())"
   ]
  },
  {
   "cell_type": "code",
   "execution_count": null,
   "id": "d0ae2329",
   "metadata": {},
   "outputs": [],
   "source": [
    "# adding new key-value pair to the dictonary.\n",
    "wcWinners[2015] = 'Australia'"
   ]
  },
  {
   "cell_type": "code",
   "execution_count": null,
   "id": "3863c5f2",
   "metadata": {},
   "outputs": [],
   "source": [
    "wcWinners"
   ]
  },
  {
   "cell_type": "code",
   "execution_count": null,
   "id": "62762576",
   "metadata": {},
   "outputs": [],
   "source": [
    "fruits = {'Apple' :10,'Orange':20,'Banana':30,'Guava':40}"
   ]
  },
  {
   "cell_type": "code",
   "execution_count": null,
   "id": "88ace3b2",
   "metadata": {},
   "outputs": [],
   "source": [
    "#changing an existing elements\n",
    "fruits['Apple'] = 100"
   ]
  },
  {
   "cell_type": "code",
   "execution_count": null,
   "id": "6bde593d",
   "metadata": {},
   "outputs": [],
   "source": [
    "fruits"
   ]
  },
  {
   "cell_type": "code",
   "execution_count": null,
   "id": "a5452065",
   "metadata": {},
   "outputs": [],
   "source": [
    "#update one dictonary's elements with another\n",
    "fruit1 = {'Apple' :10,'Orange':20}\n",
    "fruit2 = {'Banana':30,'Guava':40}"
   ]
  },
  {
   "cell_type": "code",
   "execution_count": null,
   "id": "8746e6c1",
   "metadata": {},
   "outputs": [],
   "source": [
    "fruit1.update(fruit2)"
   ]
  },
  {
   "cell_type": "code",
   "execution_count": null,
   "id": "766487d3",
   "metadata": {},
   "outputs": [],
   "source": [
    "fruit1"
   ]
  },
  {
   "cell_type": "code",
   "execution_count": null,
   "id": "e3f9e68d",
   "metadata": {},
   "outputs": [],
   "source": [
    "#poping an element\n",
    "fruit1.pop('Orange')\n",
    "fruit1"
   ]
  },
  {
   "cell_type": "markdown",
   "id": "40ddc4f5",
   "metadata": {},
   "source": [
    "# Set"
   ]
  },
  {
   "cell_type": "markdown",
   "id": "e97c63e0",
   "metadata": {},
   "source": [
    "Set is an Unordered and unindexed collection of elements enclosed with { }\n",
    "\n",
    "Duplicates are not allowed in sets."
   ]
  },
  {
   "cell_type": "code",
   "execution_count": null,
   "id": "852255ae",
   "metadata": {},
   "outputs": [],
   "source": [
    "print(\"'Hello'\")"
   ]
  },
  {
   "cell_type": "code",
   "execution_count": null,
   "id": "84b15430",
   "metadata": {},
   "outputs": [],
   "source": [
    "setofnumbers = {1,2,3,1,1,2,2,3,4,5,6,7}"
   ]
  },
  {
   "cell_type": "code",
   "execution_count": null,
   "id": "0687385f",
   "metadata": {},
   "outputs": [],
   "source": [
    "setofnumbers"
   ]
  },
  {
   "cell_type": "code",
   "execution_count": null,
   "id": "b3afec29",
   "metadata": {},
   "outputs": [],
   "source": [
    "#update one dictonary elements with another\n",
    "s1 = {1,\"a\",True,2,\"b\",False}"
   ]
  },
  {
   "cell_type": "code",
   "execution_count": null,
   "id": "ae82c03c",
   "metadata": {},
   "outputs": [],
   "source": [
    "s1.add(\"hello\")"
   ]
  },
  {
   "cell_type": "code",
   "execution_count": null,
   "id": "43081c0d",
   "metadata": {},
   "outputs": [],
   "source": [
    "s1"
   ]
  },
  {
   "cell_type": "code",
   "execution_count": null,
   "id": "e6c6a61b",
   "metadata": {},
   "outputs": [],
   "source": [
    "s1.update([10,20,30])"
   ]
  },
  {
   "cell_type": "code",
   "execution_count": null,
   "id": "463e19a8",
   "metadata": {},
   "outputs": [],
   "source": [
    "s1"
   ]
  },
  {
   "cell_type": "code",
   "execution_count": null,
   "id": "35e9223f",
   "metadata": {},
   "outputs": [],
   "source": [
    "s1.remove(\"b\")"
   ]
  },
  {
   "cell_type": "code",
   "execution_count": null,
   "id": "642df783",
   "metadata": {},
   "outputs": [],
   "source": [
    "s1"
   ]
  },
  {
   "cell_type": "code",
   "execution_count": null,
   "id": "38068005",
   "metadata": {},
   "outputs": [],
   "source": [
    "wc2011 = {'Dhoni', 'Sehwag', 'Tendulkar', 'Gambhir', \n",
    "            'Kohli', 'Raina', 'Yuvraj', 'Yusuf'}\n",
    "wc2015 = {'Dhoni', 'Dhawan', 'Rohit', 'Rahane',\n",
    "            'Kohli', 'Raina', 'Rayudu', 'Jadeja'}"
   ]
  },
  {
   "cell_type": "code",
   "execution_count": null,
   "id": "b3694dfc",
   "metadata": {},
   "outputs": [],
   "source": [
    "wc2011.union(wc2015)"
   ]
  },
  {
   "cell_type": "code",
   "execution_count": null,
   "id": "056339ab",
   "metadata": {},
   "outputs": [],
   "source": [
    "wc2011.intersection(wc2015)"
   ]
  },
  {
   "cell_type": "code",
   "execution_count": null,
   "id": "1f3be08c",
   "metadata": {},
   "outputs": [],
   "source": [
    "wc2015.difference(wc2011)"
   ]
  },
  {
   "cell_type": "markdown",
   "id": "ee552452",
   "metadata": {},
   "source": [
    "# Functional Programming"
   ]
  },
  {
   "cell_type": "code",
   "execution_count": null,
   "id": "743a9c33",
   "metadata": {},
   "outputs": [],
   "source": [
    "a=10\n",
    "b=20"
   ]
  },
  {
   "cell_type": "code",
   "execution_count": null,
   "id": "1fe5d218",
   "metadata": {},
   "outputs": [],
   "source": [
    "if b>a:\n",
    "    print('B is greater than A')"
   ]
  },
  {
   "cell_type": "code",
   "execution_count": null,
   "id": "a3620a72",
   "metadata": {},
   "outputs": [],
   "source": [
    "if a>b:\n",
    "    print('A is greater than B')\n",
    "else:\n",
    "    print('B is greater than A')"
   ]
  },
  {
   "cell_type": "code",
   "execution_count": null,
   "id": "1951bf6e",
   "metadata": {},
   "outputs": [],
   "source": [
    "a=10\n",
    "b=20\n",
    "c=30"
   ]
  },
  {
   "cell_type": "code",
   "execution_count": null,
   "id": "4f61033e",
   "metadata": {},
   "outputs": [],
   "source": [
    "if (a>b) & (a>c):\n",
    "    print('A is the greatest')\n",
    "elif (b>a) & (b>c):\n",
    "    print('B is the greatest')\n",
    "else:\n",
    "    print('C is the greatest')"
   ]
  },
  {
   "cell_type": "code",
   "execution_count": null,
   "id": "81c1c3f9",
   "metadata": {},
   "outputs": [],
   "source": [
    "x = 10\n",
    "y = 20"
   ]
  },
  {
   "cell_type": "code",
   "execution_count": null,
   "id": "4d412d9a",
   "metadata": {},
   "outputs": [],
   "source": [
    "if x > y:\n",
    "    print('x > y')\n",
    "elif x < y:\n",
    "    print('x < y')\n",
    "else:\n",
    "    print('x = y')"
   ]
  },
  {
   "cell_type": "code",
   "execution_count": null,
   "id": "a7f23483",
   "metadata": {},
   "outputs": [],
   "source": [
    "x = 5\n",
    "isgreater = True if x > 10 else False\n",
    "print(isgreater)"
   ]
  },
  {
   "cell_type": "code",
   "execution_count": null,
   "id": "00990930",
   "metadata": {},
   "outputs": [],
   "source": [
    "# if with Tuple"
   ]
  },
  {
   "cell_type": "code",
   "execution_count": null,
   "id": "8a9c7bc9",
   "metadata": {},
   "outputs": [],
   "source": [
    "tup1 = ('a','b','c')"
   ]
  },
  {
   "cell_type": "code",
   "execution_count": null,
   "id": "dd48cd38",
   "metadata": {},
   "outputs": [],
   "source": [
    "if 'a' in tup1:\n",
    "    print('value a is present in tup1')"
   ]
  },
  {
   "cell_type": "code",
   "execution_count": null,
   "id": "8d8880ec",
   "metadata": {},
   "outputs": [],
   "source": [
    "if 'z' in tup1:\n",
    "    print('value z is present in tup1')\n",
    "else:\n",
    "    print('value z is not present in tup1')"
   ]
  },
  {
   "cell_type": "code",
   "execution_count": null,
   "id": "9aa78f27",
   "metadata": {},
   "outputs": [],
   "source": [
    "#if with list"
   ]
  },
  {
   "cell_type": "code",
   "execution_count": null,
   "id": "ed4c9fe8",
   "metadata": {},
   "outputs": [],
   "source": [
    "l1 = ['a','b','c']"
   ]
  },
  {
   "cell_type": "code",
   "execution_count": null,
   "id": "0fcf3d9f",
   "metadata": {},
   "outputs": [],
   "source": [
    "if l1[1]=='b':\n",
    "    l1[1]='z'"
   ]
  },
  {
   "cell_type": "code",
   "execution_count": null,
   "id": "283f5ddd",
   "metadata": {},
   "outputs": [],
   "source": [
    "l1"
   ]
  },
  {
   "cell_type": "code",
   "execution_count": null,
   "id": "9c77dccd",
   "metadata": {},
   "outputs": [],
   "source": [
    "# if with dictonary"
   ]
  },
  {
   "cell_type": "code",
   "execution_count": null,
   "id": "6623c660",
   "metadata": {},
   "outputs": [],
   "source": [
    "d1 = {'k1':10,'k2':20,'k3':30}\n",
    "d1"
   ]
  },
  {
   "cell_type": "code",
   "execution_count": null,
   "id": "97dd8e76",
   "metadata": {},
   "outputs": [],
   "source": [
    "if d1['k3']==30:\n",
    "    d1['k3']=d1['k3']+100"
   ]
  },
  {
   "cell_type": "code",
   "execution_count": null,
   "id": "8932d15a",
   "metadata": {},
   "outputs": [],
   "source": [
    "d1"
   ]
  },
  {
   "cell_type": "markdown",
   "id": "3dd47cb8",
   "metadata": {},
   "source": [
    "# Looping\n",
    "\n",
    "Looping statements are used to repeat a task multiple times"
   ]
  },
  {
   "cell_type": "markdown",
   "id": "cf042921",
   "metadata": {},
   "source": [
    "# while Loop"
   ]
  },
  {
   "cell_type": "code",
   "execution_count": null,
   "id": "8a9a380a",
   "metadata": {},
   "outputs": [],
   "source": [
    "i=1\n",
    "while i<=10:\n",
    "    print(i)\n",
    "    i=i+1"
   ]
  },
  {
   "cell_type": "code",
   "execution_count": null,
   "id": "b5001433",
   "metadata": {},
   "outputs": [],
   "source": [
    "i = 1\n",
    "n = 2\n",
    "while i<=10:\n",
    "    print(n,\" * \",i,\"=\", n*i)\n",
    "    i = i+1"
   ]
  },
  {
   "cell_type": "code",
   "execution_count": null,
   "id": "291048b3",
   "metadata": {},
   "outputs": [],
   "source": [
    "i = 1\n",
    "n = 5\n",
    "while i<=10:\n",
    "    print(n,\" * \",i,\"=\", n*i)\n",
    "    i = i+1"
   ]
  },
  {
   "cell_type": "code",
   "execution_count": null,
   "id": "582580cd",
   "metadata": {},
   "outputs": [],
   "source": [
    "#while with list"
   ]
  },
  {
   "cell_type": "code",
   "execution_count": null,
   "id": "d7d47c44",
   "metadata": {},
   "outputs": [],
   "source": [
    "l1 = [1,2,3,4,5]"
   ]
  },
  {
   "cell_type": "code",
   "execution_count": null,
   "id": "1ba84d7f",
   "metadata": {},
   "outputs": [],
   "source": [
    "i=0\n"
   ]
  },
  {
   "cell_type": "code",
   "execution_count": null,
   "id": "b0305143",
   "metadata": {},
   "outputs": [],
   "source": [
    "while i<len(l1):\n",
    "    l1[i]=l1[i]+100\n",
    "    i = i+1"
   ]
  },
  {
   "cell_type": "code",
   "execution_count": null,
   "id": "a7f4c2da",
   "metadata": {},
   "outputs": [],
   "source": [
    "l1"
   ]
  },
  {
   "cell_type": "markdown",
   "id": "48c6f828",
   "metadata": {},
   "source": [
    "# For Loop\n",
    "\n",
    "For loop is used to iterate over a sequence (tuple,list,dictionary...)"
   ]
  },
  {
   "cell_type": "code",
   "execution_count": null,
   "id": "9648aee1",
   "metadata": {},
   "outputs": [],
   "source": [
    "l1 = ['mango','grapes','apple','orange']"
   ]
  },
  {
   "cell_type": "code",
   "execution_count": null,
   "id": "ee58817d",
   "metadata": {},
   "outputs": [],
   "source": [
    " for i in l1:\n",
    "        print(i)"
   ]
  },
  {
   "cell_type": "code",
   "execution_count": null,
   "id": "f79dc845",
   "metadata": {},
   "outputs": [],
   "source": [
    "#Nested loop (multiple for loop) "
   ]
  },
  {
   "cell_type": "code",
   "execution_count": null,
   "id": "148c2f8d",
   "metadata": {},
   "outputs": [],
   "source": [
    "l1 = ['white','black','gray']\n",
    "l2 = ['chair','book','laptop']"
   ]
  },
  {
   "cell_type": "code",
   "execution_count": null,
   "id": "79ecfe56",
   "metadata": {},
   "outputs": [],
   "source": [
    "for i in l1:\n",
    "    for j in l2:\n",
    "        print(i,j)"
   ]
  },
  {
   "cell_type": "markdown",
   "id": "53086abf",
   "metadata": {},
   "source": [
    "# Functions"
   ]
  },
  {
   "cell_type": "code",
   "execution_count": null,
   "id": "eeccff98",
   "metadata": {},
   "outputs": [],
   "source": [
    "# function is a block of code which performs a specific task"
   ]
  },
  {
   "cell_type": "code",
   "execution_count": null,
   "id": "5f2369e8",
   "metadata": {},
   "outputs": [],
   "source": [
    "def hello ():\n",
    "    print('hello world')"
   ]
  },
  {
   "cell_type": "code",
   "execution_count": null,
   "id": "77454b01",
   "metadata": {},
   "outputs": [],
   "source": [
    "hello()"
   ]
  },
  {
   "cell_type": "code",
   "execution_count": null,
   "id": "61ba09fb",
   "metadata": {},
   "outputs": [],
   "source": [
    "def add_10(x):\n",
    "    return x+10"
   ]
  },
  {
   "cell_type": "code",
   "execution_count": null,
   "id": "45947dfa",
   "metadata": {},
   "outputs": [],
   "source": [
    "add_10(9)"
   ]
  },
  {
   "cell_type": "code",
   "execution_count": null,
   "id": "662e74eb",
   "metadata": {},
   "outputs": [],
   "source": [
    "add_10(5)"
   ]
  },
  {
   "cell_type": "code",
   "execution_count": null,
   "id": "327c21cc",
   "metadata": {},
   "outputs": [],
   "source": [
    "def odd_even(x):\n",
    "    if x%2==0:\n",
    "        print(x,\"is even\")\n",
    "    else:\n",
    "        print(x ,\"is odd\")"
   ]
  },
  {
   "cell_type": "code",
   "execution_count": null,
   "id": "69b145fb",
   "metadata": {},
   "outputs": [],
   "source": [
    "odd_even(5)"
   ]
  },
  {
   "cell_type": "code",
   "execution_count": null,
   "id": "04293f49",
   "metadata": {},
   "outputs": [],
   "source": [
    "odd_even(10)"
   ]
  },
  {
   "cell_type": "code",
   "execution_count": null,
   "id": "8cf7c876",
   "metadata": {},
   "outputs": [],
   "source": [
    "# Lambda"
   ]
  },
  {
   "cell_type": "code",
   "execution_count": null,
   "id": "40ac5ea1",
   "metadata": {},
   "outputs": [],
   "source": [
    "g = lambda x: x *x*x"
   ]
  },
  {
   "cell_type": "code",
   "execution_count": null,
   "id": "78a1a983",
   "metadata": {},
   "outputs": [],
   "source": [
    "g"
   ]
  },
  {
   "cell_type": "code",
   "execution_count": null,
   "id": "57196b92",
   "metadata": {},
   "outputs": [],
   "source": [
    "g(7)"
   ]
  },
  {
   "cell_type": "code",
   "execution_count": null,
   "id": "c7e95684",
   "metadata": {},
   "outputs": [],
   "source": [
    "g(5)"
   ]
  },
  {
   "cell_type": "code",
   "execution_count": null,
   "id": "e870612e",
   "metadata": {},
   "outputs": [],
   "source": [
    "# lambda will use with map,filter & reduce"
   ]
  },
  {
   "cell_type": "code",
   "execution_count": null,
   "id": "2a7b8c99",
   "metadata": {},
   "outputs": [],
   "source": [
    "# lambda with filter"
   ]
  },
  {
   "cell_type": "code",
   "execution_count": null,
   "id": "f3c736e3",
   "metadata": {},
   "outputs": [],
   "source": [
    "l1 = [34,23,45,56,65,45,89,67,4,3,5,7,1]\n",
    "final_list = list(filter(lambda x: (x%2!=0),l1))  # if an interger is odd "
   ]
  },
  {
   "cell_type": "code",
   "execution_count": null,
   "id": "2d201d81",
   "metadata": {},
   "outputs": [],
   "source": [
    "final_list"
   ]
  },
  {
   "cell_type": "code",
   "execution_count": null,
   "id": "d34e59b4",
   "metadata": {},
   "outputs": [],
   "source": [
    "l1 = [34,23,45,56,65,45,89,67,4,3,5,7,1]\n",
    "final_list = list(filter(lambda x: (x%2==0),l1))  # if an interger is even"
   ]
  },
  {
   "cell_type": "code",
   "execution_count": null,
   "id": "0075d25f",
   "metadata": {},
   "outputs": [],
   "source": [
    "final_list"
   ]
  },
  {
   "cell_type": "code",
   "execution_count": null,
   "id": "1341b479",
   "metadata": {},
   "outputs": [],
   "source": [
    "# lambda with Map"
   ]
  },
  {
   "cell_type": "code",
   "execution_count": null,
   "id": "6a80a1d3",
   "metadata": {},
   "outputs": [],
   "source": [
    "intlist = [1,2,3,4,5,6,7,8,9]"
   ]
  },
  {
   "cell_type": "code",
   "execution_count": null,
   "id": "aecbc44c",
   "metadata": {},
   "outputs": [],
   "source": [
    "# create an empty list\n",
    "squarelist= []\n",
    "\n",
    "# loop through the intlist, square every item and append to result\n",
    "\n",
    "# list squarelist.\n",
    "\n",
    "for x in intlist:\n",
    "    squarelist.append(pow(x,2))\n",
    "print(squarelist)\n"
   ]
  },
  {
   "cell_type": "code",
   "execution_count": 75,
   "id": "f147226d",
   "metadata": {},
   "outputs": [],
   "source": [
    "l1 = [1,2,3,4,5,6,7,8,9]"
   ]
  },
  {
   "cell_type": "code",
   "execution_count": 76,
   "id": "0efee97f",
   "metadata": {},
   "outputs": [],
   "source": [
    "final_new_list = list(map(lambda x: x*2,l1))"
   ]
  },
  {
   "cell_type": "code",
   "execution_count": 77,
   "id": "ac919ef1",
   "metadata": {},
   "outputs": [
    {
     "data": {
      "text/plain": [
       "[2, 4, 6, 8, 10, 12, 14, 16, 18]"
      ]
     },
     "execution_count": 77,
     "metadata": {},
     "output_type": "execute_result"
    }
   ],
   "source": [
    "final_new_list"
   ]
  },
  {
   "cell_type": "code",
   "execution_count": 78,
   "id": "408ffd3f",
   "metadata": {},
   "outputs": [],
   "source": [
    "from functools import reduce"
   ]
  },
  {
   "cell_type": "code",
   "execution_count": 79,
   "id": "f396ba67",
   "metadata": {},
   "outputs": [],
   "source": [
    "sum = reduce(lambda x,y: x+y ,l1) # to find out a consolidated result"
   ]
  },
  {
   "cell_type": "code",
   "execution_count": 80,
   "id": "115feeb7",
   "metadata": {},
   "outputs": [
    {
     "data": {
      "text/plain": [
       "45"
      ]
     },
     "execution_count": 80,
     "metadata": {},
     "output_type": "execute_result"
    }
   ],
   "source": [
    "sum"
   ]
  },
  {
   "cell_type": "markdown",
   "id": "77a1f659",
   "metadata": {},
   "source": [
    "# python object - oriented programming: class & object"
   ]
  },
  {
   "cell_type": "code",
   "execution_count": 81,
   "id": "dffada11",
   "metadata": {},
   "outputs": [],
   "source": [
    "# class is a user defined data type\n",
    "# attributes & methods\n",
    "# object are specific instances of a class"
   ]
  },
  {
   "cell_type": "code",
   "execution_count": 82,
   "id": "d2347c6d",
   "metadata": {},
   "outputs": [],
   "source": [
    "class Phone:\n",
    "    def make_call(self):\n",
    "        print(\"I am making a call\")\n",
    "    def play_game(self):\n",
    "        print(\"I am playing game\")"
   ]
  },
  {
   "cell_type": "code",
   "execution_count": 83,
   "id": "8d98d1f3",
   "metadata": {},
   "outputs": [],
   "source": [
    "p1 = Phone()"
   ]
  },
  {
   "cell_type": "code",
   "execution_count": 84,
   "id": "1dbf0ae5",
   "metadata": {},
   "outputs": [
    {
     "name": "stdout",
     "output_type": "stream",
     "text": [
      "I am making a call\n"
     ]
    }
   ],
   "source": [
    "p1.make_call()"
   ]
  },
  {
   "cell_type": "code",
   "execution_count": 85,
   "id": "e0d8f2e3",
   "metadata": {},
   "outputs": [
    {
     "name": "stdout",
     "output_type": "stream",
     "text": [
      "I am playing game\n"
     ]
    }
   ],
   "source": [
    "p1.play_game()"
   ]
  },
  {
   "cell_type": "code",
   "execution_count": 86,
   "id": "b7911622",
   "metadata": {},
   "outputs": [],
   "source": [
    "class Phone:\n",
    "    def set_color(self,color):\n",
    "        self.color=color\n",
    "    def set_cost(self,cost):\n",
    "        self.cost=cost\n",
    "    def show_color(self):\n",
    "        return self.color\n",
    "    def show_cost(self):\n",
    "        return self.cost\n",
    "    def make_call(self):\n",
    "        print(\"make a  call\")\n",
    "    def play_game(self):\n",
    "        print(\"play a game\")"
   ]
  },
  {
   "cell_type": "code",
   "execution_count": 87,
   "id": "9f57c9d1",
   "metadata": {},
   "outputs": [],
   "source": [
    "p2 = Phone()"
   ]
  },
  {
   "cell_type": "code",
   "execution_count": 88,
   "id": "a22a6602",
   "metadata": {},
   "outputs": [],
   "source": [
    "p2.set_cost(6000)"
   ]
  },
  {
   "cell_type": "code",
   "execution_count": 89,
   "id": "5aa0ec88",
   "metadata": {},
   "outputs": [],
   "source": [
    "p2.set_color('Blue')"
   ]
  },
  {
   "cell_type": "code",
   "execution_count": 90,
   "id": "50711147",
   "metadata": {},
   "outputs": [
    {
     "data": {
      "text/plain": [
       "'Blue'"
      ]
     },
     "execution_count": 90,
     "metadata": {},
     "output_type": "execute_result"
    }
   ],
   "source": [
    "p2.show_color()"
   ]
  },
  {
   "cell_type": "code",
   "execution_count": 91,
   "id": "f5215ceb",
   "metadata": {},
   "outputs": [
    {
     "data": {
      "text/plain": [
       "6000"
      ]
     },
     "execution_count": 91,
     "metadata": {},
     "output_type": "execute_result"
    }
   ],
   "source": [
    "p2.show_cost()"
   ]
  },
  {
   "cell_type": "code",
   "execution_count": 92,
   "id": "cab92696",
   "metadata": {},
   "outputs": [
    {
     "name": "stdout",
     "output_type": "stream",
     "text": [
      "make a  call\n"
     ]
    }
   ],
   "source": [
    "p2.make_call()"
   ]
  },
  {
   "cell_type": "code",
   "execution_count": 93,
   "id": "1a3c02cd",
   "metadata": {},
   "outputs": [
    {
     "name": "stdout",
     "output_type": "stream",
     "text": [
      "play a game\n"
     ]
    }
   ],
   "source": [
    "p2.play_game()"
   ]
  },
  {
   "cell_type": "code",
   "execution_count": 94,
   "id": "4fb9a8fc",
   "metadata": {},
   "outputs": [],
   "source": [
    "class Employee:\n",
    "    def __init__(self,name,age,salary,gender):\n",
    "        self.name = name\n",
    "        self.age = age\n",
    "        self.salary = salary\n",
    "        self.gender = gender\n",
    "    \n",
    "    def show_employee_details(self):\n",
    "        print(\"Name of employee is: \",self.name)\n",
    "        print(\"age of employee is: \",self.age)\n",
    "        print(\"salary of employee is: \",self.salary)\n",
    "        print(\"gender of employee is: \",self.gender)"
   ]
  },
  {
   "cell_type": "code",
   "execution_count": 95,
   "id": "67cef674",
   "metadata": {},
   "outputs": [],
   "source": [
    "e1 = Employee('Ram',32,40000,'male')"
   ]
  },
  {
   "cell_type": "code",
   "execution_count": 96,
   "id": "7f06ce7c",
   "metadata": {},
   "outputs": [
    {
     "name": "stdout",
     "output_type": "stream",
     "text": [
      "Name of employee is:  Ram\n",
      "age of employee is:  32\n",
      "salary of employee is:  40000\n",
      "gender of employee is:  male\n"
     ]
    }
   ],
   "source": [
    "e1.show_employee_details()"
   ]
  },
  {
   "cell_type": "code",
   "execution_count": 97,
   "id": "e485374a",
   "metadata": {},
   "outputs": [],
   "source": [
    "class Vehicle:\n",
    "    \n",
    "    def __init__(self,mileage,cost):\n",
    "        self.mileage = mileage\n",
    "        self.cost = cost\n",
    "    \n",
    "    def show_details(self):\n",
    "        print('I am a Vehicle')\n",
    "        print('Mileage of Vehicle is ',self.mileage)\n",
    "        print('Cost of Vehicle is ', self.cost)"
   ]
  },
  {
   "cell_type": "code",
   "execution_count": 98,
   "id": "1e74606d",
   "metadata": {},
   "outputs": [
    {
     "name": "stdout",
     "output_type": "stream",
     "text": [
      "I am a Vehicle\n",
      "Mileage of Vehicle is  500\n",
      "Cost of Vehicle is  3000\n"
     ]
    }
   ],
   "source": [
    "v1 = Vehicle(500,3000)\n",
    "v1.show_details()"
   ]
  },
  {
   "cell_type": "code",
   "execution_count": 99,
   "id": "7f0324f6",
   "metadata": {},
   "outputs": [],
   "source": [
    "class Car(Vehicle):\n",
    "    def show_car(self):\n",
    "        print('I am a car')"
   ]
  },
  {
   "cell_type": "code",
   "execution_count": 100,
   "id": "696d0429",
   "metadata": {},
   "outputs": [],
   "source": [
    "c1 = Car(200,1200)"
   ]
  },
  {
   "cell_type": "code",
   "execution_count": 101,
   "id": "6daeb5ca",
   "metadata": {},
   "outputs": [
    {
     "name": "stdout",
     "output_type": "stream",
     "text": [
      "I am a Vehicle\n",
      "Mileage of Vehicle is  200\n",
      "Cost of Vehicle is  1200\n"
     ]
    }
   ],
   "source": [
    "c1.show_details()"
   ]
  },
  {
   "cell_type": "code",
   "execution_count": 102,
   "id": "68f534f6",
   "metadata": {},
   "outputs": [
    {
     "name": "stdout",
     "output_type": "stream",
     "text": [
      "I am a car\n"
     ]
    }
   ],
   "source": [
    "c1.show_car()"
   ]
  },
  {
   "cell_type": "code",
   "execution_count": 103,
   "id": "c3e9c61b",
   "metadata": {},
   "outputs": [],
   "source": [
    "#over riding init method"
   ]
  },
  {
   "cell_type": "code",
   "execution_count": 104,
   "id": "79b213e1",
   "metadata": {},
   "outputs": [],
   "source": [
    "class Car(Vehicle):\n",
    "    \n",
    "    def __init__(self,mileage,cost,tyres,hp):\n",
    "        super().__init__(mileage,cost)\n",
    "        self.tyres = tyres\n",
    "        self.hp = hp\n",
    "        \n",
    "    def show_car_details(self):\n",
    "        print('I am a Car')\n",
    "        print('Numbers of tyres is ',self.tyres)\n",
    "        print('value of horse power is ', self.hp)"
   ]
  },
  {
   "cell_type": "code",
   "execution_count": 105,
   "id": "6b8708e3",
   "metadata": {},
   "outputs": [],
   "source": [
    "c1 = Car(20,12000,4,300)"
   ]
  },
  {
   "cell_type": "code",
   "execution_count": 106,
   "id": "14043dad",
   "metadata": {},
   "outputs": [
    {
     "name": "stdout",
     "output_type": "stream",
     "text": [
      "I am a Vehicle\n",
      "Mileage of Vehicle is  20\n",
      "Cost of Vehicle is  12000\n"
     ]
    }
   ],
   "source": [
    "c1.show_details()"
   ]
  },
  {
   "cell_type": "code",
   "execution_count": 107,
   "id": "a0490602",
   "metadata": {},
   "outputs": [
    {
     "name": "stdout",
     "output_type": "stream",
     "text": [
      "I am a Car\n",
      "Numbers of tyres is  4\n",
      "value of horse power is  300\n"
     ]
    }
   ],
   "source": [
    "c1.show_car_details()"
   ]
  },
  {
   "cell_type": "markdown",
   "id": "887fa765",
   "metadata": {},
   "source": [
    "# Numpy - Numeric Python"
   ]
  },
  {
   "cell_type": "code",
   "execution_count": 108,
   "id": "1ba04f29",
   "metadata": {},
   "outputs": [],
   "source": [
    "import numpy as np"
   ]
  },
  {
   "cell_type": "code",
   "execution_count": 109,
   "id": "f6ad04ab",
   "metadata": {},
   "outputs": [
    {
     "data": {
      "text/plain": [
       "array([10, 20, 40])"
      ]
     },
     "execution_count": 109,
     "metadata": {},
     "output_type": "execute_result"
    }
   ],
   "source": [
    "n1 = np.array([10,20,40])\n",
    "n1"
   ]
  },
  {
   "cell_type": "code",
   "execution_count": 110,
   "id": "36487efd",
   "metadata": {},
   "outputs": [
    {
     "data": {
      "text/plain": [
       "[[10, 20, 30, 40], [50, 40, 20, 60]]"
      ]
     },
     "execution_count": 110,
     "metadata": {},
     "output_type": "execute_result"
    }
   ],
   "source": [
    "#multi dimension array\n",
    "n2 = ([[10,20,30,40],[50,40,20,60]])\n",
    "n2"
   ]
  },
  {
   "cell_type": "code",
   "execution_count": 111,
   "id": "ec0ac80f",
   "metadata": {},
   "outputs": [],
   "source": [
    "#type(n1)"
   ]
  },
  {
   "cell_type": "code",
   "execution_count": 112,
   "id": "87a377c2",
   "metadata": {},
   "outputs": [
    {
     "data": {
      "text/plain": [
       "list"
      ]
     },
     "execution_count": 112,
     "metadata": {},
     "output_type": "execute_result"
    }
   ],
   "source": [
    "type(n2)"
   ]
  },
  {
   "cell_type": "code",
   "execution_count": 113,
   "id": "7d393b55",
   "metadata": {},
   "outputs": [],
   "source": [
    "# initializing Numpy array with zeros"
   ]
  },
  {
   "cell_type": "code",
   "execution_count": 114,
   "id": "71a774b1",
   "metadata": {},
   "outputs": [
    {
     "data": {
      "text/plain": [
       "array([[0., 0.]])"
      ]
     },
     "execution_count": 114,
     "metadata": {},
     "output_type": "execute_result"
    }
   ],
   "source": [
    "n3 = np.zeros((1,2))\n",
    "n3"
   ]
  },
  {
   "cell_type": "code",
   "execution_count": 115,
   "id": "c5af35c2",
   "metadata": {},
   "outputs": [],
   "source": [
    "n4 = np.zeros((10,10))"
   ]
  },
  {
   "cell_type": "code",
   "execution_count": 116,
   "id": "7a30eab1",
   "metadata": {},
   "outputs": [
    {
     "data": {
      "text/plain": [
       "array([[0., 0., 0., 0., 0., 0., 0., 0., 0., 0.],\n",
       "       [0., 0., 0., 0., 0., 0., 0., 0., 0., 0.],\n",
       "       [0., 0., 0., 0., 0., 0., 0., 0., 0., 0.],\n",
       "       [0., 0., 0., 0., 0., 0., 0., 0., 0., 0.],\n",
       "       [0., 0., 0., 0., 0., 0., 0., 0., 0., 0.],\n",
       "       [0., 0., 0., 0., 0., 0., 0., 0., 0., 0.],\n",
       "       [0., 0., 0., 0., 0., 0., 0., 0., 0., 0.],\n",
       "       [0., 0., 0., 0., 0., 0., 0., 0., 0., 0.],\n",
       "       [0., 0., 0., 0., 0., 0., 0., 0., 0., 0.],\n",
       "       [0., 0., 0., 0., 0., 0., 0., 0., 0., 0.]])"
      ]
     },
     "execution_count": 116,
     "metadata": {},
     "output_type": "execute_result"
    }
   ],
   "source": [
    "n4"
   ]
  },
  {
   "cell_type": "code",
   "execution_count": 117,
   "id": "c10313b0",
   "metadata": {},
   "outputs": [],
   "source": [
    "# initializing Numpy array with same number : full method"
   ]
  },
  {
   "cell_type": "code",
   "execution_count": 118,
   "id": "c9e69bec",
   "metadata": {},
   "outputs": [],
   "source": [
    "n1 = np.full((2,2),10)"
   ]
  },
  {
   "cell_type": "code",
   "execution_count": 119,
   "id": "0a464ca9",
   "metadata": {},
   "outputs": [
    {
     "data": {
      "text/plain": [
       "array([[10, 10],\n",
       "       [10, 10]])"
      ]
     },
     "execution_count": 119,
     "metadata": {},
     "output_type": "execute_result"
    }
   ],
   "source": [
    "n1"
   ]
  },
  {
   "cell_type": "code",
   "execution_count": 120,
   "id": "5d3539e3",
   "metadata": {},
   "outputs": [],
   "source": [
    "# initializing Numpy array with a range"
   ]
  },
  {
   "cell_type": "code",
   "execution_count": 121,
   "id": "5a3a7ad0",
   "metadata": {},
   "outputs": [],
   "source": [
    "n1 = np.arange(10,20)"
   ]
  },
  {
   "cell_type": "code",
   "execution_count": 122,
   "id": "46c56063",
   "metadata": {},
   "outputs": [
    {
     "data": {
      "text/plain": [
       "array([10, 11, 12, 13, 14, 15, 16, 17, 18, 19])"
      ]
     },
     "execution_count": 122,
     "metadata": {},
     "output_type": "execute_result"
    }
   ],
   "source": [
    "n1"
   ]
  },
  {
   "cell_type": "code",
   "execution_count": 123,
   "id": "85b55b21",
   "metadata": {},
   "outputs": [],
   "source": [
    "n1 = np.arange(10,50,5)"
   ]
  },
  {
   "cell_type": "code",
   "execution_count": 124,
   "id": "7e871b25",
   "metadata": {},
   "outputs": [
    {
     "data": {
      "text/plain": [
       "array([10, 15, 20, 25, 30, 35, 40, 45])"
      ]
     },
     "execution_count": 124,
     "metadata": {},
     "output_type": "execute_result"
    }
   ],
   "source": [
    "n1"
   ]
  },
  {
   "cell_type": "code",
   "execution_count": 125,
   "id": "4b1000c9",
   "metadata": {},
   "outputs": [],
   "source": [
    "n1 = np.arange(40,101)"
   ]
  },
  {
   "cell_type": "code",
   "execution_count": 126,
   "id": "c27bec49",
   "metadata": {},
   "outputs": [
    {
     "data": {
      "text/plain": [
       "array([ 40,  41,  42,  43,  44,  45,  46,  47,  48,  49,  50,  51,  52,\n",
       "        53,  54,  55,  56,  57,  58,  59,  60,  61,  62,  63,  64,  65,\n",
       "        66,  67,  68,  69,  70,  71,  72,  73,  74,  75,  76,  77,  78,\n",
       "        79,  80,  81,  82,  83,  84,  85,  86,  87,  88,  89,  90,  91,\n",
       "        92,  93,  94,  95,  96,  97,  98,  99, 100])"
      ]
     },
     "execution_count": 126,
     "metadata": {},
     "output_type": "execute_result"
    }
   ],
   "source": [
    "n1"
   ]
  },
  {
   "cell_type": "code",
   "execution_count": 127,
   "id": "dea9cc1e",
   "metadata": {},
   "outputs": [],
   "source": [
    "n1 = np.random.randint(1,100,5)"
   ]
  },
  {
   "cell_type": "code",
   "execution_count": 128,
   "id": "44ecefca",
   "metadata": {},
   "outputs": [
    {
     "data": {
      "text/plain": [
       "array([51, 47, 77,  1, 23])"
      ]
     },
     "execution_count": 128,
     "metadata": {},
     "output_type": "execute_result"
    }
   ],
   "source": [
    "n1"
   ]
  },
  {
   "cell_type": "code",
   "execution_count": 129,
   "id": "4ce6e5d2",
   "metadata": {},
   "outputs": [],
   "source": [
    "n2 = np.random.randint(1,100,20)"
   ]
  },
  {
   "cell_type": "code",
   "execution_count": 130,
   "id": "fe881473",
   "metadata": {},
   "outputs": [
    {
     "data": {
      "text/plain": [
       "array([ 8, 75, 77, 31, 33, 98, 55, 87,  5, 69, 26, 48, 48, 96, 70, 19, 77,\n",
       "       49, 97,  9])"
      ]
     },
     "execution_count": 130,
     "metadata": {},
     "output_type": "execute_result"
    }
   ],
   "source": [
    "n2"
   ]
  },
  {
   "cell_type": "code",
   "execution_count": 131,
   "id": "82eb35c3",
   "metadata": {},
   "outputs": [],
   "source": [
    "#checking the shape of Numpy Arrays"
   ]
  },
  {
   "cell_type": "code",
   "execution_count": 132,
   "id": "c2744391",
   "metadata": {},
   "outputs": [],
   "source": [
    "n1 = np.array([[1,2,3,4],[3,4,5,6]])"
   ]
  },
  {
   "cell_type": "code",
   "execution_count": 133,
   "id": "91d03b4a",
   "metadata": {},
   "outputs": [
    {
     "data": {
      "text/plain": [
       "array([[1, 2, 3, 4],\n",
       "       [3, 4, 5, 6]])"
      ]
     },
     "execution_count": 133,
     "metadata": {},
     "output_type": "execute_result"
    }
   ],
   "source": [
    "n1"
   ]
  },
  {
   "cell_type": "code",
   "execution_count": 134,
   "id": "6c303110",
   "metadata": {},
   "outputs": [],
   "source": [
    "n1.shape = (4,2)"
   ]
  },
  {
   "cell_type": "code",
   "execution_count": 135,
   "id": "c9c037cd",
   "metadata": {},
   "outputs": [
    {
     "data": {
      "text/plain": [
       "array([[1, 2],\n",
       "       [3, 4],\n",
       "       [3, 4],\n",
       "       [5, 6]])"
      ]
     },
     "execution_count": 135,
     "metadata": {},
     "output_type": "execute_result"
    }
   ],
   "source": [
    "n1"
   ]
  },
  {
   "cell_type": "code",
   "execution_count": 136,
   "id": "17d31e41",
   "metadata": {},
   "outputs": [],
   "source": [
    "n1.shape = (8,1)"
   ]
  },
  {
   "cell_type": "code",
   "execution_count": 137,
   "id": "931f2644",
   "metadata": {},
   "outputs": [
    {
     "data": {
      "text/plain": [
       "array([[1],\n",
       "       [2],\n",
       "       [3],\n",
       "       [4],\n",
       "       [3],\n",
       "       [4],\n",
       "       [5],\n",
       "       [6]])"
      ]
     },
     "execution_count": 137,
     "metadata": {},
     "output_type": "execute_result"
    }
   ],
   "source": [
    "n1"
   ]
  },
  {
   "cell_type": "code",
   "execution_count": 138,
   "id": "2afbd2ed",
   "metadata": {},
   "outputs": [],
   "source": [
    "#joining Numpy Arrays"
   ]
  },
  {
   "cell_type": "code",
   "execution_count": 139,
   "id": "76462506",
   "metadata": {},
   "outputs": [],
   "source": [
    "n1 = np.array([10,20,30])\n",
    "n2 = np.array([40,50,60])"
   ]
  },
  {
   "cell_type": "code",
   "execution_count": 140,
   "id": "7bc20676",
   "metadata": {},
   "outputs": [
    {
     "data": {
      "text/plain": [
       "array([[10, 20, 30],\n",
       "       [40, 50, 60]])"
      ]
     },
     "execution_count": 140,
     "metadata": {},
     "output_type": "execute_result"
    }
   ],
   "source": [
    "np.vstack((n1,n2))"
   ]
  },
  {
   "cell_type": "code",
   "execution_count": 141,
   "id": "ee293f08",
   "metadata": {},
   "outputs": [
    {
     "data": {
      "text/plain": [
       "array([10, 20, 30, 40, 50, 60])"
      ]
     },
     "execution_count": 141,
     "metadata": {},
     "output_type": "execute_result"
    }
   ],
   "source": [
    "np.hstack((n1,n2))"
   ]
  },
  {
   "cell_type": "code",
   "execution_count": 142,
   "id": "009bce73",
   "metadata": {},
   "outputs": [
    {
     "data": {
      "text/plain": [
       "array([[10, 40],\n",
       "       [20, 50],\n",
       "       [30, 60]])"
      ]
     },
     "execution_count": 142,
     "metadata": {},
     "output_type": "execute_result"
    }
   ],
   "source": [
    "np.column_stack((n1,n2))"
   ]
  },
  {
   "cell_type": "code",
   "execution_count": 143,
   "id": "6aaa5c77",
   "metadata": {},
   "outputs": [],
   "source": [
    "l1 = np.array([10,20,30,40,50,60])\n",
    "l2 = np.array([50,60,70,80,90])"
   ]
  },
  {
   "cell_type": "code",
   "execution_count": 144,
   "id": "c68e1943",
   "metadata": {},
   "outputs": [
    {
     "data": {
      "text/plain": [
       "array([50, 60])"
      ]
     },
     "execution_count": 144,
     "metadata": {},
     "output_type": "execute_result"
    }
   ],
   "source": [
    "np.intersect1d(l1,l2)"
   ]
  },
  {
   "cell_type": "code",
   "execution_count": 145,
   "id": "67d68282",
   "metadata": {},
   "outputs": [
    {
     "data": {
      "text/plain": [
       "array([10, 20, 30, 40])"
      ]
     },
     "execution_count": 145,
     "metadata": {},
     "output_type": "execute_result"
    }
   ],
   "source": [
    "np.setdiff1d(l1,l2)"
   ]
  },
  {
   "cell_type": "code",
   "execution_count": 146,
   "id": "0a54f73b",
   "metadata": {},
   "outputs": [
    {
     "data": {
      "text/plain": [
       "array([70, 80, 90])"
      ]
     },
     "execution_count": 146,
     "metadata": {},
     "output_type": "execute_result"
    }
   ],
   "source": [
    "np.setdiff1d(l2,l1)"
   ]
  },
  {
   "cell_type": "code",
   "execution_count": 147,
   "id": "49ed3bfd",
   "metadata": {},
   "outputs": [],
   "source": [
    "n1 = np.array([10,20])\n",
    "n2 = np.array([30,40])"
   ]
  },
  {
   "cell_type": "code",
   "execution_count": 148,
   "id": "ce4b746d",
   "metadata": {},
   "outputs": [
    {
     "data": {
      "text/plain": [
       "100"
      ]
     },
     "execution_count": 148,
     "metadata": {},
     "output_type": "execute_result"
    }
   ],
   "source": [
    "np.sum([n1,n2])"
   ]
  },
  {
   "cell_type": "code",
   "execution_count": 149,
   "id": "557450c4",
   "metadata": {},
   "outputs": [
    {
     "data": {
      "text/plain": [
       "array([40, 60])"
      ]
     },
     "execution_count": 149,
     "metadata": {},
     "output_type": "execute_result"
    }
   ],
   "source": [
    "np.sum([n1,n2],axis = 0)"
   ]
  },
  {
   "cell_type": "code",
   "execution_count": 150,
   "id": "2a49cbd9",
   "metadata": {},
   "outputs": [
    {
     "data": {
      "text/plain": [
       "array([30, 70])"
      ]
     },
     "execution_count": 150,
     "metadata": {},
     "output_type": "execute_result"
    }
   ],
   "source": [
    "np.sum([n1,n2],axis = 1)"
   ]
  },
  {
   "cell_type": "code",
   "execution_count": 151,
   "id": "2a07e76e",
   "metadata": {},
   "outputs": [],
   "source": [
    "n1 = np.array([10,20,30])"
   ]
  },
  {
   "cell_type": "code",
   "execution_count": 152,
   "id": "d803b850",
   "metadata": {},
   "outputs": [],
   "source": [
    "n1 = n1+1"
   ]
  },
  {
   "cell_type": "code",
   "execution_count": 153,
   "id": "4d6aa816",
   "metadata": {},
   "outputs": [
    {
     "data": {
      "text/plain": [
       "array([11, 21, 31])"
      ]
     },
     "execution_count": 153,
     "metadata": {},
     "output_type": "execute_result"
    }
   ],
   "source": [
    "n1"
   ]
  },
  {
   "cell_type": "code",
   "execution_count": 154,
   "id": "00562059",
   "metadata": {},
   "outputs": [],
   "source": [
    "n1 = n1-1"
   ]
  },
  {
   "cell_type": "code",
   "execution_count": 155,
   "id": "ec67327a",
   "metadata": {},
   "outputs": [
    {
     "data": {
      "text/plain": [
       "array([10, 20, 30])"
      ]
     },
     "execution_count": 155,
     "metadata": {},
     "output_type": "execute_result"
    }
   ],
   "source": [
    "n1"
   ]
  },
  {
   "cell_type": "code",
   "execution_count": 156,
   "id": "4b06b3a2",
   "metadata": {},
   "outputs": [],
   "source": [
    "n2 = np.array([10,20,30])"
   ]
  },
  {
   "cell_type": "code",
   "execution_count": 157,
   "id": "e1dfb2b9",
   "metadata": {},
   "outputs": [],
   "source": [
    "n2 = n2*2"
   ]
  },
  {
   "cell_type": "code",
   "execution_count": 158,
   "id": "c29d3a18",
   "metadata": {},
   "outputs": [
    {
     "data": {
      "text/plain": [
       "array([20, 40, 60])"
      ]
     },
     "execution_count": 158,
     "metadata": {},
     "output_type": "execute_result"
    }
   ],
   "source": [
    "n2"
   ]
  },
  {
   "cell_type": "code",
   "execution_count": 159,
   "id": "4970729d",
   "metadata": {},
   "outputs": [],
   "source": [
    "n3 = np.array([10,20,30])"
   ]
  },
  {
   "cell_type": "code",
   "execution_count": 160,
   "id": "c4f52fae",
   "metadata": {},
   "outputs": [],
   "source": [
    "n3 = n3/2"
   ]
  },
  {
   "cell_type": "code",
   "execution_count": 161,
   "id": "ff75eb8a",
   "metadata": {},
   "outputs": [
    {
     "data": {
      "text/plain": [
       "array([ 5., 10., 15.])"
      ]
     },
     "execution_count": 161,
     "metadata": {},
     "output_type": "execute_result"
    }
   ],
   "source": [
    "n3"
   ]
  },
  {
   "cell_type": "code",
   "execution_count": 162,
   "id": "13bf773f",
   "metadata": {},
   "outputs": [
    {
     "data": {
      "text/plain": [
       "35.0"
      ]
     },
     "execution_count": 162,
     "metadata": {},
     "output_type": "execute_result"
    }
   ],
   "source": [
    "#mean\n",
    "n4 = np.array([10,20,30,40,50,60])\n",
    "np.mean(n4)"
   ]
  },
  {
   "cell_type": "code",
   "execution_count": 163,
   "id": "f9e664f5",
   "metadata": {},
   "outputs": [
    {
     "data": {
      "text/plain": [
       "107.94821131695797"
      ]
     },
     "execution_count": 163,
     "metadata": {},
     "output_type": "execute_result"
    }
   ],
   "source": [
    "#standard deviation\n",
    "n5 = np.array([1,5,3,100,200,300,39])\n",
    "np.std(n5)"
   ]
  },
  {
   "cell_type": "code",
   "execution_count": 164,
   "id": "7e8c2f05",
   "metadata": {},
   "outputs": [
    {
     "data": {
      "text/plain": [
       "44.5"
      ]
     },
     "execution_count": 164,
     "metadata": {},
     "output_type": "execute_result"
    }
   ],
   "source": [
    "#meadian\n",
    "n6 = np.array([11,44,23,45,67,78])\n",
    "np.median(n6)"
   ]
  },
  {
   "cell_type": "code",
   "execution_count": 165,
   "id": "b8e94876",
   "metadata": {},
   "outputs": [
    {
     "data": {
      "text/plain": [
       "array([10, 20, 30])"
      ]
     },
     "execution_count": 165,
     "metadata": {},
     "output_type": "execute_result"
    }
   ],
   "source": [
    "n1"
   ]
  },
  {
   "cell_type": "code",
   "execution_count": 166,
   "id": "c9507305",
   "metadata": {},
   "outputs": [],
   "source": [
    "np.save('myarray',n1)"
   ]
  },
  {
   "cell_type": "code",
   "execution_count": 167,
   "id": "46971786",
   "metadata": {},
   "outputs": [],
   "source": [
    "new_n1 = np.load('myarray.npy')"
   ]
  },
  {
   "cell_type": "code",
   "execution_count": 168,
   "id": "3da7a87f",
   "metadata": {},
   "outputs": [
    {
     "data": {
      "text/plain": [
       "array([10, 20, 30])"
      ]
     },
     "execution_count": 168,
     "metadata": {},
     "output_type": "execute_result"
    }
   ],
   "source": [
    "new_n1"
   ]
  },
  {
   "cell_type": "code",
   "execution_count": 169,
   "id": "f9b3ae4a",
   "metadata": {},
   "outputs": [],
   "source": [
    "#Pandas for Data Manipulation\n",
    "# Pandas stand for panel data and is the core library for data manipulation and data analysis"
   ]
  },
  {
   "cell_type": "code",
   "execution_count": 170,
   "id": "3387fe31",
   "metadata": {},
   "outputs": [],
   "source": [
    "import pandas as pd "
   ]
  },
  {
   "cell_type": "code",
   "execution_count": 171,
   "id": "81750dc7",
   "metadata": {},
   "outputs": [],
   "source": [
    "s1 = pd.Series([1,2,3,4,5])"
   ]
  },
  {
   "cell_type": "code",
   "execution_count": 172,
   "id": "bbb69ab5",
   "metadata": {},
   "outputs": [
    {
     "data": {
      "text/plain": [
       "0    1\n",
       "1    2\n",
       "2    3\n",
       "3    4\n",
       "4    5\n",
       "dtype: int64"
      ]
     },
     "execution_count": 172,
     "metadata": {},
     "output_type": "execute_result"
    }
   ],
   "source": [
    "s1"
   ]
  },
  {
   "cell_type": "code",
   "execution_count": 173,
   "id": "f85f0283",
   "metadata": {},
   "outputs": [
    {
     "data": {
      "text/plain": [
       "pandas.core.series.Series"
      ]
     },
     "execution_count": 173,
     "metadata": {},
     "output_type": "execute_result"
    }
   ],
   "source": [
    "type(s1)"
   ]
  },
  {
   "cell_type": "code",
   "execution_count": 174,
   "id": "6491a5ae",
   "metadata": {},
   "outputs": [],
   "source": [
    "s2 = pd.Series([1,2,3,4,5],index = ['a','b','c','d','e'])"
   ]
  },
  {
   "cell_type": "code",
   "execution_count": 175,
   "id": "ef1b0ae9",
   "metadata": {},
   "outputs": [
    {
     "data": {
      "text/plain": [
       "a    1\n",
       "b    2\n",
       "c    3\n",
       "d    4\n",
       "e    5\n",
       "dtype: int64"
      ]
     },
     "execution_count": 175,
     "metadata": {},
     "output_type": "execute_result"
    }
   ],
   "source": [
    "s2"
   ]
  },
  {
   "cell_type": "code",
   "execution_count": 176,
   "id": "0f4160a4",
   "metadata": {},
   "outputs": [
    {
     "data": {
      "text/plain": [
       "a1    10\n",
       "a2    20\n",
       "a3    30\n",
       "dtype: int64"
      ]
     },
     "execution_count": 176,
     "metadata": {},
     "output_type": "execute_result"
    }
   ],
   "source": [
    "pd.Series({'a1':10,'a2':20,'a3':30})"
   ]
  },
  {
   "cell_type": "code",
   "execution_count": 177,
   "id": "fa5205a3",
   "metadata": {},
   "outputs": [
    {
     "data": {
      "text/plain": [
       "b2    20.0\n",
       "c3    30.0\n",
       "d4     NaN\n",
       "a1    10.0\n",
       "dtype: float64"
      ]
     },
     "execution_count": 177,
     "metadata": {},
     "output_type": "execute_result"
    }
   ],
   "source": [
    "pd.Series({'a1':10,'b2':20,'c3':30},index = ['b2','c3','d4','a1']) # index position can change"
   ]
  },
  {
   "cell_type": "code",
   "execution_count": 178,
   "id": "022f3594",
   "metadata": {},
   "outputs": [
    {
     "data": {
      "text/plain": [
       "0    1\n",
       "1    2\n",
       "2    3\n",
       "3    4\n",
       "4    5\n",
       "5    6\n",
       "6    7\n",
       "7    8\n",
       "8    9\n",
       "dtype: int64"
      ]
     },
     "execution_count": 178,
     "metadata": {},
     "output_type": "execute_result"
    }
   ],
   "source": [
    "s1 = pd.Series([1,2,3,4,5,6,7,8,9])\n",
    "s1"
   ]
  },
  {
   "cell_type": "code",
   "execution_count": 179,
   "id": "b3dcd00a",
   "metadata": {},
   "outputs": [
    {
     "data": {
      "text/plain": [
       "4"
      ]
     },
     "execution_count": 179,
     "metadata": {},
     "output_type": "execute_result"
    }
   ],
   "source": [
    "s1[3] # extracting single element"
   ]
  },
  {
   "cell_type": "code",
   "execution_count": 180,
   "id": "c3bf7988",
   "metadata": {},
   "outputs": [
    {
     "data": {
      "text/plain": [
       "6    7\n",
       "7    8\n",
       "8    9\n",
       "dtype: int64"
      ]
     },
     "execution_count": 180,
     "metadata": {},
     "output_type": "execute_result"
    }
   ],
   "source": [
    "s1[-3:] # extracting elements from back"
   ]
  },
  {
   "cell_type": "code",
   "execution_count": 181,
   "id": "a4f5da19",
   "metadata": {},
   "outputs": [
    {
     "data": {
      "text/plain": [
       "0    1\n",
       "1    2\n",
       "2    3\n",
       "3    4\n",
       "dtype: int64"
      ]
     },
     "execution_count": 181,
     "metadata": {},
     "output_type": "execute_result"
    }
   ],
   "source": [
    "s1[:4] # extracting a sequence of elements"
   ]
  },
  {
   "cell_type": "code",
   "execution_count": 182,
   "id": "d6bc91e5",
   "metadata": {},
   "outputs": [
    {
     "data": {
      "text/plain": [
       "6"
      ]
     },
     "execution_count": 182,
     "metadata": {},
     "output_type": "execute_result"
    }
   ],
   "source": [
    "s1[5]"
   ]
  },
  {
   "cell_type": "code",
   "execution_count": 183,
   "id": "1a26e6d4",
   "metadata": {},
   "outputs": [
    {
     "data": {
      "text/plain": [
       "0    1\n",
       "1    2\n",
       "2    3\n",
       "3    4\n",
       "4    5\n",
       "dtype: int64"
      ]
     },
     "execution_count": 183,
     "metadata": {},
     "output_type": "execute_result"
    }
   ],
   "source": [
    "s1[:5]"
   ]
  },
  {
   "cell_type": "code",
   "execution_count": 184,
   "id": "84c926f2",
   "metadata": {},
   "outputs": [],
   "source": [
    "# adding a scalar value to series elements"
   ]
  },
  {
   "cell_type": "code",
   "execution_count": 185,
   "id": "f6cac785",
   "metadata": {},
   "outputs": [
    {
     "data": {
      "text/plain": [
       "0    1\n",
       "1    2\n",
       "2    3\n",
       "3    4\n",
       "4    5\n",
       "5    6\n",
       "6    7\n",
       "7    8\n",
       "8    9\n",
       "dtype: int64"
      ]
     },
     "execution_count": 185,
     "metadata": {},
     "output_type": "execute_result"
    }
   ],
   "source": [
    "s1"
   ]
  },
  {
   "cell_type": "code",
   "execution_count": 186,
   "id": "d49486e2",
   "metadata": {},
   "outputs": [
    {
     "data": {
      "text/plain": [
       "0     6\n",
       "1     7\n",
       "2     8\n",
       "3     9\n",
       "4    10\n",
       "5    11\n",
       "6    12\n",
       "7    13\n",
       "8    14\n",
       "dtype: int64"
      ]
     },
     "execution_count": 186,
     "metadata": {},
     "output_type": "execute_result"
    }
   ],
   "source": [
    "s1+5"
   ]
  },
  {
   "cell_type": "code",
   "execution_count": 187,
   "id": "01a3c3d6",
   "metadata": {},
   "outputs": [
    {
     "data": {
      "text/plain": [
       "0    11\n",
       "1    12\n",
       "2    13\n",
       "3    14\n",
       "4    15\n",
       "5    16\n",
       "6    17\n",
       "7    18\n",
       "8    19\n",
       "dtype: int64"
      ]
     },
     "execution_count": 187,
     "metadata": {},
     "output_type": "execute_result"
    }
   ],
   "source": [
    "s1+10"
   ]
  },
  {
   "cell_type": "code",
   "execution_count": 188,
   "id": "a7cb7107",
   "metadata": {},
   "outputs": [
    {
     "data": {
      "text/plain": [
       "0    0.5\n",
       "1    1.0\n",
       "2    1.5\n",
       "3    2.0\n",
       "4    2.5\n",
       "5    3.0\n",
       "6    3.5\n",
       "7    4.0\n",
       "8    4.5\n",
       "dtype: float64"
      ]
     },
     "execution_count": 188,
     "metadata": {},
     "output_type": "execute_result"
    }
   ],
   "source": [
    "s1/2"
   ]
  },
  {
   "cell_type": "code",
   "execution_count": 189,
   "id": "ed926c56",
   "metadata": {},
   "outputs": [],
   "source": [
    "# DataFrame is 2 dimensional labelled data-structure and its comprises of rowa and columns"
   ]
  },
  {
   "cell_type": "code",
   "execution_count": 190,
   "id": "bc0e0801",
   "metadata": {},
   "outputs": [
    {
     "data": {
      "text/html": [
       "<div>\n",
       "<style scoped>\n",
       "    .dataframe tbody tr th:only-of-type {\n",
       "        vertical-align: middle;\n",
       "    }\n",
       "\n",
       "    .dataframe tbody tr th {\n",
       "        vertical-align: top;\n",
       "    }\n",
       "\n",
       "    .dataframe thead th {\n",
       "        text-align: right;\n",
       "    }\n",
       "</style>\n",
       "<table border=\"1\" class=\"dataframe\">\n",
       "  <thead>\n",
       "    <tr style=\"text-align: right;\">\n",
       "      <th></th>\n",
       "      <th>Name</th>\n",
       "      <th>marks</th>\n",
       "    </tr>\n",
       "  </thead>\n",
       "  <tbody>\n",
       "    <tr>\n",
       "      <th>0</th>\n",
       "      <td>Anne</td>\n",
       "      <td>45</td>\n",
       "    </tr>\n",
       "    <tr>\n",
       "      <th>1</th>\n",
       "      <td>sam</td>\n",
       "      <td>56</td>\n",
       "    </tr>\n",
       "    <tr>\n",
       "      <th>2</th>\n",
       "      <td>bob</td>\n",
       "      <td>78</td>\n",
       "    </tr>\n",
       "  </tbody>\n",
       "</table>\n",
       "</div>"
      ],
      "text/plain": [
       "   Name  marks\n",
       "0  Anne     45\n",
       "1   sam     56\n",
       "2   bob     78"
      ]
     },
     "execution_count": 190,
     "metadata": {},
     "output_type": "execute_result"
    }
   ],
   "source": [
    "pd.DataFrame({\"Name\":['Anne','sam','bob'],\"marks\":[45,56,78]})"
   ]
  },
  {
   "cell_type": "code",
   "execution_count": 191,
   "id": "9f9c6e4b",
   "metadata": {},
   "outputs": [],
   "source": [
    "#Dataframe in built functions : head(), shape(), tail(), describe()"
   ]
  },
  {
   "cell_type": "code",
   "execution_count": 192,
   "id": "e39c8039",
   "metadata": {},
   "outputs": [],
   "source": [
    "import pandas as pd "
   ]
  },
  {
   "cell_type": "code",
   "execution_count": 193,
   "id": "e5b09753",
   "metadata": {},
   "outputs": [],
   "source": [
    "import numpy as np"
   ]
  },
  {
   "cell_type": "code",
   "execution_count": 194,
   "id": "48cebf84",
   "metadata": {},
   "outputs": [],
   "source": [
    "iris = pd.read_csv('flower_types.csv')"
   ]
  },
  {
   "cell_type": "code",
   "execution_count": 195,
   "id": "d13d0f01",
   "metadata": {},
   "outputs": [
    {
     "data": {
      "text/html": [
       "<div>\n",
       "<style scoped>\n",
       "    .dataframe tbody tr th:only-of-type {\n",
       "        vertical-align: middle;\n",
       "    }\n",
       "\n",
       "    .dataframe tbody tr th {\n",
       "        vertical-align: top;\n",
       "    }\n",
       "\n",
       "    .dataframe thead th {\n",
       "        text-align: right;\n",
       "    }\n",
       "</style>\n",
       "<table border=\"1\" class=\"dataframe\">\n",
       "  <thead>\n",
       "    <tr style=\"text-align: right;\">\n",
       "      <th></th>\n",
       "      <th>sepal length</th>\n",
       "      <th>sepal width</th>\n",
       "      <th>petal length</th>\n",
       "      <th>petal width</th>\n",
       "      <th>class</th>\n",
       "    </tr>\n",
       "  </thead>\n",
       "  <tbody>\n",
       "    <tr>\n",
       "      <th>0</th>\n",
       "      <td>5.1</td>\n",
       "      <td>3.5</td>\n",
       "      <td>1.4</td>\n",
       "      <td>0.2</td>\n",
       "      <td>setosa</td>\n",
       "    </tr>\n",
       "    <tr>\n",
       "      <th>1</th>\n",
       "      <td>4.9</td>\n",
       "      <td>3.0</td>\n",
       "      <td>1.4</td>\n",
       "      <td>0.2</td>\n",
       "      <td>setosa</td>\n",
       "    </tr>\n",
       "    <tr>\n",
       "      <th>2</th>\n",
       "      <td>4.7</td>\n",
       "      <td>3.2</td>\n",
       "      <td>1.3</td>\n",
       "      <td>0.2</td>\n",
       "      <td>setosa</td>\n",
       "    </tr>\n",
       "    <tr>\n",
       "      <th>3</th>\n",
       "      <td>4.6</td>\n",
       "      <td>3.1</td>\n",
       "      <td>1.5</td>\n",
       "      <td>0.2</td>\n",
       "      <td>setosa</td>\n",
       "    </tr>\n",
       "    <tr>\n",
       "      <th>4</th>\n",
       "      <td>5.0</td>\n",
       "      <td>3.6</td>\n",
       "      <td>1.4</td>\n",
       "      <td>0.2</td>\n",
       "      <td>setosa</td>\n",
       "    </tr>\n",
       "  </tbody>\n",
       "</table>\n",
       "</div>"
      ],
      "text/plain": [
       "   sepal length  sepal width  petal length  petal width   class\n",
       "0           5.1          3.5           1.4          0.2  setosa\n",
       "1           4.9          3.0           1.4          0.2  setosa\n",
       "2           4.7          3.2           1.3          0.2  setosa\n",
       "3           4.6          3.1           1.5          0.2  setosa\n",
       "4           5.0          3.6           1.4          0.2  setosa"
      ]
     },
     "execution_count": 195,
     "metadata": {},
     "output_type": "execute_result"
    }
   ],
   "source": [
    "iris.head()"
   ]
  },
  {
   "cell_type": "code",
   "execution_count": 196,
   "id": "7d189410",
   "metadata": {},
   "outputs": [
    {
     "data": {
      "text/html": [
       "<div>\n",
       "<style scoped>\n",
       "    .dataframe tbody tr th:only-of-type {\n",
       "        vertical-align: middle;\n",
       "    }\n",
       "\n",
       "    .dataframe tbody tr th {\n",
       "        vertical-align: top;\n",
       "    }\n",
       "\n",
       "    .dataframe thead th {\n",
       "        text-align: right;\n",
       "    }\n",
       "</style>\n",
       "<table border=\"1\" class=\"dataframe\">\n",
       "  <thead>\n",
       "    <tr style=\"text-align: right;\">\n",
       "      <th></th>\n",
       "      <th>sepal length</th>\n",
       "      <th>sepal width</th>\n",
       "      <th>petal length</th>\n",
       "      <th>petal width</th>\n",
       "      <th>class</th>\n",
       "    </tr>\n",
       "  </thead>\n",
       "  <tbody>\n",
       "    <tr>\n",
       "      <th>145</th>\n",
       "      <td>6.7</td>\n",
       "      <td>3.0</td>\n",
       "      <td>5.2</td>\n",
       "      <td>2.3</td>\n",
       "      <td>virginica</td>\n",
       "    </tr>\n",
       "    <tr>\n",
       "      <th>146</th>\n",
       "      <td>6.3</td>\n",
       "      <td>2.5</td>\n",
       "      <td>5.0</td>\n",
       "      <td>1.9</td>\n",
       "      <td>virginica</td>\n",
       "    </tr>\n",
       "    <tr>\n",
       "      <th>147</th>\n",
       "      <td>6.5</td>\n",
       "      <td>3.0</td>\n",
       "      <td>5.2</td>\n",
       "      <td>2.0</td>\n",
       "      <td>virginica</td>\n",
       "    </tr>\n",
       "    <tr>\n",
       "      <th>148</th>\n",
       "      <td>6.2</td>\n",
       "      <td>3.4</td>\n",
       "      <td>5.4</td>\n",
       "      <td>2.3</td>\n",
       "      <td>virginica</td>\n",
       "    </tr>\n",
       "    <tr>\n",
       "      <th>149</th>\n",
       "      <td>5.9</td>\n",
       "      <td>3.0</td>\n",
       "      <td>5.1</td>\n",
       "      <td>1.8</td>\n",
       "      <td>virginica</td>\n",
       "    </tr>\n",
       "  </tbody>\n",
       "</table>\n",
       "</div>"
      ],
      "text/plain": [
       "     sepal length  sepal width  petal length  petal width      class\n",
       "145           6.7          3.0           5.2          2.3  virginica\n",
       "146           6.3          2.5           5.0          1.9  virginica\n",
       "147           6.5          3.0           5.2          2.0  virginica\n",
       "148           6.2          3.4           5.4          2.3  virginica\n",
       "149           5.9          3.0           5.1          1.8  virginica"
      ]
     },
     "execution_count": 196,
     "metadata": {},
     "output_type": "execute_result"
    }
   ],
   "source": [
    "iris.tail()"
   ]
  },
  {
   "cell_type": "code",
   "execution_count": 197,
   "id": "e85494ee",
   "metadata": {},
   "outputs": [
    {
     "data": {
      "text/plain": [
       "(150, 5)"
      ]
     },
     "execution_count": 197,
     "metadata": {},
     "output_type": "execute_result"
    }
   ],
   "source": [
    "iris.shape"
   ]
  },
  {
   "cell_type": "code",
   "execution_count": 198,
   "id": "87475828",
   "metadata": {},
   "outputs": [
    {
     "data": {
      "text/html": [
       "<div>\n",
       "<style scoped>\n",
       "    .dataframe tbody tr th:only-of-type {\n",
       "        vertical-align: middle;\n",
       "    }\n",
       "\n",
       "    .dataframe tbody tr th {\n",
       "        vertical-align: top;\n",
       "    }\n",
       "\n",
       "    .dataframe thead th {\n",
       "        text-align: right;\n",
       "    }\n",
       "</style>\n",
       "<table border=\"1\" class=\"dataframe\">\n",
       "  <thead>\n",
       "    <tr style=\"text-align: right;\">\n",
       "      <th></th>\n",
       "      <th>sepal length</th>\n",
       "      <th>sepal width</th>\n",
       "      <th>petal length</th>\n",
       "      <th>petal width</th>\n",
       "    </tr>\n",
       "  </thead>\n",
       "  <tbody>\n",
       "    <tr>\n",
       "      <th>count</th>\n",
       "      <td>150.000000</td>\n",
       "      <td>150.000000</td>\n",
       "      <td>150.000000</td>\n",
       "      <td>150.000000</td>\n",
       "    </tr>\n",
       "    <tr>\n",
       "      <th>mean</th>\n",
       "      <td>5.843333</td>\n",
       "      <td>3.054000</td>\n",
       "      <td>3.758667</td>\n",
       "      <td>1.198667</td>\n",
       "    </tr>\n",
       "    <tr>\n",
       "      <th>std</th>\n",
       "      <td>0.828066</td>\n",
       "      <td>0.433594</td>\n",
       "      <td>1.764420</td>\n",
       "      <td>0.763161</td>\n",
       "    </tr>\n",
       "    <tr>\n",
       "      <th>min</th>\n",
       "      <td>4.300000</td>\n",
       "      <td>2.000000</td>\n",
       "      <td>1.000000</td>\n",
       "      <td>0.100000</td>\n",
       "    </tr>\n",
       "    <tr>\n",
       "      <th>25%</th>\n",
       "      <td>5.100000</td>\n",
       "      <td>2.800000</td>\n",
       "      <td>1.600000</td>\n",
       "      <td>0.300000</td>\n",
       "    </tr>\n",
       "    <tr>\n",
       "      <th>50%</th>\n",
       "      <td>5.800000</td>\n",
       "      <td>3.000000</td>\n",
       "      <td>4.350000</td>\n",
       "      <td>1.300000</td>\n",
       "    </tr>\n",
       "    <tr>\n",
       "      <th>75%</th>\n",
       "      <td>6.400000</td>\n",
       "      <td>3.300000</td>\n",
       "      <td>5.100000</td>\n",
       "      <td>1.800000</td>\n",
       "    </tr>\n",
       "    <tr>\n",
       "      <th>max</th>\n",
       "      <td>7.900000</td>\n",
       "      <td>4.400000</td>\n",
       "      <td>6.900000</td>\n",
       "      <td>2.500000</td>\n",
       "    </tr>\n",
       "  </tbody>\n",
       "</table>\n",
       "</div>"
      ],
      "text/plain": [
       "       sepal length  sepal width  petal length  petal width\n",
       "count    150.000000   150.000000    150.000000   150.000000\n",
       "mean       5.843333     3.054000      3.758667     1.198667\n",
       "std        0.828066     0.433594      1.764420     0.763161\n",
       "min        4.300000     2.000000      1.000000     0.100000\n",
       "25%        5.100000     2.800000      1.600000     0.300000\n",
       "50%        5.800000     3.000000      4.350000     1.300000\n",
       "75%        6.400000     3.300000      5.100000     1.800000\n",
       "max        7.900000     4.400000      6.900000     2.500000"
      ]
     },
     "execution_count": 198,
     "metadata": {},
     "output_type": "execute_result"
    }
   ],
   "source": [
    "iris.describe()"
   ]
  },
  {
   "cell_type": "code",
   "execution_count": 199,
   "id": "4655af00",
   "metadata": {},
   "outputs": [
    {
     "data": {
      "text/html": [
       "<div>\n",
       "<style scoped>\n",
       "    .dataframe tbody tr th:only-of-type {\n",
       "        vertical-align: middle;\n",
       "    }\n",
       "\n",
       "    .dataframe tbody tr th {\n",
       "        vertical-align: top;\n",
       "    }\n",
       "\n",
       "    .dataframe thead th {\n",
       "        text-align: right;\n",
       "    }\n",
       "</style>\n",
       "<table border=\"1\" class=\"dataframe\">\n",
       "  <thead>\n",
       "    <tr style=\"text-align: right;\">\n",
       "      <th></th>\n",
       "      <th>petal length</th>\n",
       "      <th>petal width</th>\n",
       "      <th>class</th>\n",
       "    </tr>\n",
       "  </thead>\n",
       "  <tbody>\n",
       "    <tr>\n",
       "      <th>5</th>\n",
       "      <td>1.7</td>\n",
       "      <td>0.4</td>\n",
       "      <td>setosa</td>\n",
       "    </tr>\n",
       "    <tr>\n",
       "      <th>6</th>\n",
       "      <td>1.4</td>\n",
       "      <td>0.3</td>\n",
       "      <td>setosa</td>\n",
       "    </tr>\n",
       "    <tr>\n",
       "      <th>7</th>\n",
       "      <td>1.5</td>\n",
       "      <td>0.2</td>\n",
       "      <td>setosa</td>\n",
       "    </tr>\n",
       "    <tr>\n",
       "      <th>8</th>\n",
       "      <td>1.4</td>\n",
       "      <td>0.2</td>\n",
       "      <td>setosa</td>\n",
       "    </tr>\n",
       "    <tr>\n",
       "      <th>9</th>\n",
       "      <td>1.5</td>\n",
       "      <td>0.1</td>\n",
       "      <td>setosa</td>\n",
       "    </tr>\n",
       "    <tr>\n",
       "      <th>10</th>\n",
       "      <td>1.5</td>\n",
       "      <td>0.2</td>\n",
       "      <td>setosa</td>\n",
       "    </tr>\n",
       "  </tbody>\n",
       "</table>\n",
       "</div>"
      ],
      "text/plain": [
       "    petal length  petal width   class\n",
       "5            1.7          0.4  setosa\n",
       "6            1.4          0.3  setosa\n",
       "7            1.5          0.2  setosa\n",
       "8            1.4          0.2  setosa\n",
       "9            1.5          0.1  setosa\n",
       "10           1.5          0.2  setosa"
      ]
     },
     "execution_count": 199,
     "metadata": {},
     "output_type": "execute_result"
    }
   ],
   "source": [
    "iris.iloc[5:11,2:]"
   ]
  },
  {
   "cell_type": "code",
   "execution_count": 200,
   "id": "69253f59",
   "metadata": {},
   "outputs": [
    {
     "data": {
      "text/html": [
       "<div>\n",
       "<style scoped>\n",
       "    .dataframe tbody tr th:only-of-type {\n",
       "        vertical-align: middle;\n",
       "    }\n",
       "\n",
       "    .dataframe tbody tr th {\n",
       "        vertical-align: top;\n",
       "    }\n",
       "\n",
       "    .dataframe thead th {\n",
       "        text-align: right;\n",
       "    }\n",
       "</style>\n",
       "<table border=\"1\" class=\"dataframe\">\n",
       "  <thead>\n",
       "    <tr style=\"text-align: right;\">\n",
       "      <th></th>\n",
       "      <th>petal length</th>\n",
       "      <th>class</th>\n",
       "    </tr>\n",
       "  </thead>\n",
       "  <tbody>\n",
       "    <tr>\n",
       "      <th>1</th>\n",
       "      <td>1.4</td>\n",
       "      <td>setosa</td>\n",
       "    </tr>\n",
       "    <tr>\n",
       "      <th>2</th>\n",
       "      <td>1.3</td>\n",
       "      <td>setosa</td>\n",
       "    </tr>\n",
       "    <tr>\n",
       "      <th>3</th>\n",
       "      <td>1.5</td>\n",
       "      <td>setosa</td>\n",
       "    </tr>\n",
       "    <tr>\n",
       "      <th>4</th>\n",
       "      <td>1.4</td>\n",
       "      <td>setosa</td>\n",
       "    </tr>\n",
       "    <tr>\n",
       "      <th>5</th>\n",
       "      <td>1.7</td>\n",
       "      <td>setosa</td>\n",
       "    </tr>\n",
       "    <tr>\n",
       "      <th>6</th>\n",
       "      <td>1.4</td>\n",
       "      <td>setosa</td>\n",
       "    </tr>\n",
       "    <tr>\n",
       "      <th>7</th>\n",
       "      <td>1.5</td>\n",
       "      <td>setosa</td>\n",
       "    </tr>\n",
       "    <tr>\n",
       "      <th>8</th>\n",
       "      <td>1.4</td>\n",
       "      <td>setosa</td>\n",
       "    </tr>\n",
       "    <tr>\n",
       "      <th>9</th>\n",
       "      <td>1.5</td>\n",
       "      <td>setosa</td>\n",
       "    </tr>\n",
       "    <tr>\n",
       "      <th>10</th>\n",
       "      <td>1.5</td>\n",
       "      <td>setosa</td>\n",
       "    </tr>\n",
       "  </tbody>\n",
       "</table>\n",
       "</div>"
      ],
      "text/plain": [
       "    petal length   class\n",
       "1            1.4  setosa\n",
       "2            1.3  setosa\n",
       "3            1.5  setosa\n",
       "4            1.4  setosa\n",
       "5            1.7  setosa\n",
       "6            1.4  setosa\n",
       "7            1.5  setosa\n",
       "8            1.4  setosa\n",
       "9            1.5  setosa\n",
       "10           1.5  setosa"
      ]
     },
     "execution_count": 200,
     "metadata": {},
     "output_type": "execute_result"
    }
   ],
   "source": [
    "iris.loc[1:10,('petal length','class')]"
   ]
  },
  {
   "cell_type": "code",
   "execution_count": 201,
   "id": "4357b9fd",
   "metadata": {},
   "outputs": [
    {
     "data": {
      "text/html": [
       "<div>\n",
       "<style scoped>\n",
       "    .dataframe tbody tr th:only-of-type {\n",
       "        vertical-align: middle;\n",
       "    }\n",
       "\n",
       "    .dataframe tbody tr th {\n",
       "        vertical-align: top;\n",
       "    }\n",
       "\n",
       "    .dataframe thead th {\n",
       "        text-align: right;\n",
       "    }\n",
       "</style>\n",
       "<table border=\"1\" class=\"dataframe\">\n",
       "  <thead>\n",
       "    <tr style=\"text-align: right;\">\n",
       "      <th></th>\n",
       "      <th>sepal length</th>\n",
       "      <th>sepal width</th>\n",
       "      <th>petal length</th>\n",
       "      <th>petal width</th>\n",
       "      <th>class</th>\n",
       "    </tr>\n",
       "  </thead>\n",
       "  <tbody>\n",
       "    <tr>\n",
       "      <th>0</th>\n",
       "      <td>5.1</td>\n",
       "      <td>3.5</td>\n",
       "      <td>1.4</td>\n",
       "      <td>0.2</td>\n",
       "      <td>setosa</td>\n",
       "    </tr>\n",
       "    <tr>\n",
       "      <th>1</th>\n",
       "      <td>4.9</td>\n",
       "      <td>3.0</td>\n",
       "      <td>1.4</td>\n",
       "      <td>0.2</td>\n",
       "      <td>setosa</td>\n",
       "    </tr>\n",
       "    <tr>\n",
       "      <th>2</th>\n",
       "      <td>4.7</td>\n",
       "      <td>3.2</td>\n",
       "      <td>1.3</td>\n",
       "      <td>0.2</td>\n",
       "      <td>setosa</td>\n",
       "    </tr>\n",
       "    <tr>\n",
       "      <th>3</th>\n",
       "      <td>4.6</td>\n",
       "      <td>3.1</td>\n",
       "      <td>1.5</td>\n",
       "      <td>0.2</td>\n",
       "      <td>setosa</td>\n",
       "    </tr>\n",
       "    <tr>\n",
       "      <th>4</th>\n",
       "      <td>5.0</td>\n",
       "      <td>3.6</td>\n",
       "      <td>1.4</td>\n",
       "      <td>0.2</td>\n",
       "      <td>setosa</td>\n",
       "    </tr>\n",
       "  </tbody>\n",
       "</table>\n",
       "</div>"
      ],
      "text/plain": [
       "   sepal length  sepal width  petal length  petal width   class\n",
       "0           5.1          3.5           1.4          0.2  setosa\n",
       "1           4.9          3.0           1.4          0.2  setosa\n",
       "2           4.7          3.2           1.3          0.2  setosa\n",
       "3           4.6          3.1           1.5          0.2  setosa\n",
       "4           5.0          3.6           1.4          0.2  setosa"
      ]
     },
     "execution_count": 201,
     "metadata": {},
     "output_type": "execute_result"
    }
   ],
   "source": [
    "iris.head()"
   ]
  },
  {
   "cell_type": "code",
   "execution_count": 202,
   "id": "8cee55a5",
   "metadata": {},
   "outputs": [
    {
     "data": {
      "text/html": [
       "<div>\n",
       "<style scoped>\n",
       "    .dataframe tbody tr th:only-of-type {\n",
       "        vertical-align: middle;\n",
       "    }\n",
       "\n",
       "    .dataframe tbody tr th {\n",
       "        vertical-align: top;\n",
       "    }\n",
       "\n",
       "    .dataframe thead th {\n",
       "        text-align: right;\n",
       "    }\n",
       "</style>\n",
       "<table border=\"1\" class=\"dataframe\">\n",
       "  <thead>\n",
       "    <tr style=\"text-align: right;\">\n",
       "      <th></th>\n",
       "      <th>sepal width</th>\n",
       "      <th>petal length</th>\n",
       "      <th>petal width</th>\n",
       "      <th>class</th>\n",
       "    </tr>\n",
       "  </thead>\n",
       "  <tbody>\n",
       "    <tr>\n",
       "      <th>0</th>\n",
       "      <td>3.5</td>\n",
       "      <td>1.4</td>\n",
       "      <td>0.2</td>\n",
       "      <td>setosa</td>\n",
       "    </tr>\n",
       "    <tr>\n",
       "      <th>1</th>\n",
       "      <td>3.0</td>\n",
       "      <td>1.4</td>\n",
       "      <td>0.2</td>\n",
       "      <td>setosa</td>\n",
       "    </tr>\n",
       "    <tr>\n",
       "      <th>2</th>\n",
       "      <td>3.2</td>\n",
       "      <td>1.3</td>\n",
       "      <td>0.2</td>\n",
       "      <td>setosa</td>\n",
       "    </tr>\n",
       "    <tr>\n",
       "      <th>3</th>\n",
       "      <td>3.1</td>\n",
       "      <td>1.5</td>\n",
       "      <td>0.2</td>\n",
       "      <td>setosa</td>\n",
       "    </tr>\n",
       "    <tr>\n",
       "      <th>4</th>\n",
       "      <td>3.6</td>\n",
       "      <td>1.4</td>\n",
       "      <td>0.2</td>\n",
       "      <td>setosa</td>\n",
       "    </tr>\n",
       "    <tr>\n",
       "      <th>...</th>\n",
       "      <td>...</td>\n",
       "      <td>...</td>\n",
       "      <td>...</td>\n",
       "      <td>...</td>\n",
       "    </tr>\n",
       "    <tr>\n",
       "      <th>145</th>\n",
       "      <td>3.0</td>\n",
       "      <td>5.2</td>\n",
       "      <td>2.3</td>\n",
       "      <td>virginica</td>\n",
       "    </tr>\n",
       "    <tr>\n",
       "      <th>146</th>\n",
       "      <td>2.5</td>\n",
       "      <td>5.0</td>\n",
       "      <td>1.9</td>\n",
       "      <td>virginica</td>\n",
       "    </tr>\n",
       "    <tr>\n",
       "      <th>147</th>\n",
       "      <td>3.0</td>\n",
       "      <td>5.2</td>\n",
       "      <td>2.0</td>\n",
       "      <td>virginica</td>\n",
       "    </tr>\n",
       "    <tr>\n",
       "      <th>148</th>\n",
       "      <td>3.4</td>\n",
       "      <td>5.4</td>\n",
       "      <td>2.3</td>\n",
       "      <td>virginica</td>\n",
       "    </tr>\n",
       "    <tr>\n",
       "      <th>149</th>\n",
       "      <td>3.0</td>\n",
       "      <td>5.1</td>\n",
       "      <td>1.8</td>\n",
       "      <td>virginica</td>\n",
       "    </tr>\n",
       "  </tbody>\n",
       "</table>\n",
       "<p>150 rows × 4 columns</p>\n",
       "</div>"
      ],
      "text/plain": [
       "     sepal width  petal length  petal width      class\n",
       "0            3.5           1.4          0.2     setosa\n",
       "1            3.0           1.4          0.2     setosa\n",
       "2            3.2           1.3          0.2     setosa\n",
       "3            3.1           1.5          0.2     setosa\n",
       "4            3.6           1.4          0.2     setosa\n",
       "..           ...           ...          ...        ...\n",
       "145          3.0           5.2          2.3  virginica\n",
       "146          2.5           5.0          1.9  virginica\n",
       "147          3.0           5.2          2.0  virginica\n",
       "148          3.4           5.4          2.3  virginica\n",
       "149          3.0           5.1          1.8  virginica\n",
       "\n",
       "[150 rows x 4 columns]"
      ]
     },
     "execution_count": 202,
     "metadata": {},
     "output_type": "execute_result"
    }
   ],
   "source": [
    "iris.drop('sepal length',axis = 1) # Column drop"
   ]
  },
  {
   "cell_type": "code",
   "execution_count": 203,
   "id": "b742a879",
   "metadata": {},
   "outputs": [
    {
     "data": {
      "text/html": [
       "<div>\n",
       "<style scoped>\n",
       "    .dataframe tbody tr th:only-of-type {\n",
       "        vertical-align: middle;\n",
       "    }\n",
       "\n",
       "    .dataframe tbody tr th {\n",
       "        vertical-align: top;\n",
       "    }\n",
       "\n",
       "    .dataframe thead th {\n",
       "        text-align: right;\n",
       "    }\n",
       "</style>\n",
       "<table border=\"1\" class=\"dataframe\">\n",
       "  <thead>\n",
       "    <tr style=\"text-align: right;\">\n",
       "      <th></th>\n",
       "      <th>sepal length</th>\n",
       "      <th>sepal width</th>\n",
       "      <th>petal length</th>\n",
       "      <th>petal width</th>\n",
       "      <th>class</th>\n",
       "    </tr>\n",
       "  </thead>\n",
       "  <tbody>\n",
       "    <tr>\n",
       "      <th>0</th>\n",
       "      <td>5.1</td>\n",
       "      <td>3.5</td>\n",
       "      <td>1.4</td>\n",
       "      <td>0.2</td>\n",
       "      <td>setosa</td>\n",
       "    </tr>\n",
       "    <tr>\n",
       "      <th>1</th>\n",
       "      <td>4.9</td>\n",
       "      <td>3.0</td>\n",
       "      <td>1.4</td>\n",
       "      <td>0.2</td>\n",
       "      <td>setosa</td>\n",
       "    </tr>\n",
       "    <tr>\n",
       "      <th>2</th>\n",
       "      <td>4.7</td>\n",
       "      <td>3.2</td>\n",
       "      <td>1.3</td>\n",
       "      <td>0.2</td>\n",
       "      <td>setosa</td>\n",
       "    </tr>\n",
       "    <tr>\n",
       "      <th>3</th>\n",
       "      <td>4.6</td>\n",
       "      <td>3.1</td>\n",
       "      <td>1.5</td>\n",
       "      <td>0.2</td>\n",
       "      <td>setosa</td>\n",
       "    </tr>\n",
       "    <tr>\n",
       "      <th>4</th>\n",
       "      <td>5.0</td>\n",
       "      <td>3.6</td>\n",
       "      <td>1.4</td>\n",
       "      <td>0.2</td>\n",
       "      <td>setosa</td>\n",
       "    </tr>\n",
       "  </tbody>\n",
       "</table>\n",
       "</div>"
      ],
      "text/plain": [
       "   sepal length  sepal width  petal length  petal width   class\n",
       "0           5.1          3.5           1.4          0.2  setosa\n",
       "1           4.9          3.0           1.4          0.2  setosa\n",
       "2           4.7          3.2           1.3          0.2  setosa\n",
       "3           4.6          3.1           1.5          0.2  setosa\n",
       "4           5.0          3.6           1.4          0.2  setosa"
      ]
     },
     "execution_count": 203,
     "metadata": {},
     "output_type": "execute_result"
    }
   ],
   "source": [
    "iris.head()"
   ]
  },
  {
   "cell_type": "code",
   "execution_count": 204,
   "id": "095348c4",
   "metadata": {},
   "outputs": [
    {
     "data": {
      "text/html": [
       "<div>\n",
       "<style scoped>\n",
       "    .dataframe tbody tr th:only-of-type {\n",
       "        vertical-align: middle;\n",
       "    }\n",
       "\n",
       "    .dataframe tbody tr th {\n",
       "        vertical-align: top;\n",
       "    }\n",
       "\n",
       "    .dataframe thead th {\n",
       "        text-align: right;\n",
       "    }\n",
       "</style>\n",
       "<table border=\"1\" class=\"dataframe\">\n",
       "  <thead>\n",
       "    <tr style=\"text-align: right;\">\n",
       "      <th></th>\n",
       "      <th>sepal length</th>\n",
       "      <th>sepal width</th>\n",
       "      <th>petal length</th>\n",
       "      <th>petal width</th>\n",
       "      <th>class</th>\n",
       "    </tr>\n",
       "  </thead>\n",
       "  <tbody>\n",
       "    <tr>\n",
       "      <th>0</th>\n",
       "      <td>5.1</td>\n",
       "      <td>3.5</td>\n",
       "      <td>1.4</td>\n",
       "      <td>0.2</td>\n",
       "      <td>setosa</td>\n",
       "    </tr>\n",
       "    <tr>\n",
       "      <th>4</th>\n",
       "      <td>5.0</td>\n",
       "      <td>3.6</td>\n",
       "      <td>1.4</td>\n",
       "      <td>0.2</td>\n",
       "      <td>setosa</td>\n",
       "    </tr>\n",
       "    <tr>\n",
       "      <th>5</th>\n",
       "      <td>5.4</td>\n",
       "      <td>3.9</td>\n",
       "      <td>1.7</td>\n",
       "      <td>0.4</td>\n",
       "      <td>setosa</td>\n",
       "    </tr>\n",
       "    <tr>\n",
       "      <th>6</th>\n",
       "      <td>4.6</td>\n",
       "      <td>3.4</td>\n",
       "      <td>1.4</td>\n",
       "      <td>0.3</td>\n",
       "      <td>setosa</td>\n",
       "    </tr>\n",
       "    <tr>\n",
       "      <th>7</th>\n",
       "      <td>5.0</td>\n",
       "      <td>3.4</td>\n",
       "      <td>1.5</td>\n",
       "      <td>0.2</td>\n",
       "      <td>setosa</td>\n",
       "    </tr>\n",
       "    <tr>\n",
       "      <th>...</th>\n",
       "      <td>...</td>\n",
       "      <td>...</td>\n",
       "      <td>...</td>\n",
       "      <td>...</td>\n",
       "      <td>...</td>\n",
       "    </tr>\n",
       "    <tr>\n",
       "      <th>145</th>\n",
       "      <td>6.7</td>\n",
       "      <td>3.0</td>\n",
       "      <td>5.2</td>\n",
       "      <td>2.3</td>\n",
       "      <td>virginica</td>\n",
       "    </tr>\n",
       "    <tr>\n",
       "      <th>146</th>\n",
       "      <td>6.3</td>\n",
       "      <td>2.5</td>\n",
       "      <td>5.0</td>\n",
       "      <td>1.9</td>\n",
       "      <td>virginica</td>\n",
       "    </tr>\n",
       "    <tr>\n",
       "      <th>147</th>\n",
       "      <td>6.5</td>\n",
       "      <td>3.0</td>\n",
       "      <td>5.2</td>\n",
       "      <td>2.0</td>\n",
       "      <td>virginica</td>\n",
       "    </tr>\n",
       "    <tr>\n",
       "      <th>148</th>\n",
       "      <td>6.2</td>\n",
       "      <td>3.4</td>\n",
       "      <td>5.4</td>\n",
       "      <td>2.3</td>\n",
       "      <td>virginica</td>\n",
       "    </tr>\n",
       "    <tr>\n",
       "      <th>149</th>\n",
       "      <td>5.9</td>\n",
       "      <td>3.0</td>\n",
       "      <td>5.1</td>\n",
       "      <td>1.8</td>\n",
       "      <td>virginica</td>\n",
       "    </tr>\n",
       "  </tbody>\n",
       "</table>\n",
       "<p>147 rows × 5 columns</p>\n",
       "</div>"
      ],
      "text/plain": [
       "     sepal length  sepal width  petal length  petal width      class\n",
       "0             5.1          3.5           1.4          0.2     setosa\n",
       "4             5.0          3.6           1.4          0.2     setosa\n",
       "5             5.4          3.9           1.7          0.4     setosa\n",
       "6             4.6          3.4           1.4          0.3     setosa\n",
       "7             5.0          3.4           1.5          0.2     setosa\n",
       "..            ...          ...           ...          ...        ...\n",
       "145           6.7          3.0           5.2          2.3  virginica\n",
       "146           6.3          2.5           5.0          1.9  virginica\n",
       "147           6.5          3.0           5.2          2.0  virginica\n",
       "148           6.2          3.4           5.4          2.3  virginica\n",
       "149           5.9          3.0           5.1          1.8  virginica\n",
       "\n",
       "[147 rows x 5 columns]"
      ]
     },
     "execution_count": 204,
     "metadata": {},
     "output_type": "execute_result"
    }
   ],
   "source": [
    "iris.drop([1,2,3],axis = 0)"
   ]
  },
  {
   "cell_type": "code",
   "execution_count": 205,
   "id": "3ea47eeb",
   "metadata": {},
   "outputs": [
    {
     "data": {
      "text/html": [
       "<div>\n",
       "<style scoped>\n",
       "    .dataframe tbody tr th:only-of-type {\n",
       "        vertical-align: middle;\n",
       "    }\n",
       "\n",
       "    .dataframe tbody tr th {\n",
       "        vertical-align: top;\n",
       "    }\n",
       "\n",
       "    .dataframe thead th {\n",
       "        text-align: right;\n",
       "    }\n",
       "</style>\n",
       "<table border=\"1\" class=\"dataframe\">\n",
       "  <thead>\n",
       "    <tr style=\"text-align: right;\">\n",
       "      <th></th>\n",
       "      <th>sepal length</th>\n",
       "      <th>sepal width</th>\n",
       "      <th>petal length</th>\n",
       "      <th>petal width</th>\n",
       "      <th>class</th>\n",
       "    </tr>\n",
       "  </thead>\n",
       "  <tbody>\n",
       "    <tr>\n",
       "      <th>0</th>\n",
       "      <td>5.1</td>\n",
       "      <td>3.5</td>\n",
       "      <td>1.4</td>\n",
       "      <td>0.2</td>\n",
       "      <td>setosa</td>\n",
       "    </tr>\n",
       "    <tr>\n",
       "      <th>1</th>\n",
       "      <td>4.9</td>\n",
       "      <td>3.0</td>\n",
       "      <td>1.4</td>\n",
       "      <td>0.2</td>\n",
       "      <td>setosa</td>\n",
       "    </tr>\n",
       "    <tr>\n",
       "      <th>2</th>\n",
       "      <td>4.7</td>\n",
       "      <td>3.2</td>\n",
       "      <td>1.3</td>\n",
       "      <td>0.2</td>\n",
       "      <td>setosa</td>\n",
       "    </tr>\n",
       "    <tr>\n",
       "      <th>3</th>\n",
       "      <td>4.6</td>\n",
       "      <td>3.1</td>\n",
       "      <td>1.5</td>\n",
       "      <td>0.2</td>\n",
       "      <td>setosa</td>\n",
       "    </tr>\n",
       "    <tr>\n",
       "      <th>4</th>\n",
       "      <td>5.0</td>\n",
       "      <td>3.6</td>\n",
       "      <td>1.4</td>\n",
       "      <td>0.2</td>\n",
       "      <td>setosa</td>\n",
       "    </tr>\n",
       "  </tbody>\n",
       "</table>\n",
       "</div>"
      ],
      "text/plain": [
       "   sepal length  sepal width  petal length  petal width   class\n",
       "0           5.1          3.5           1.4          0.2  setosa\n",
       "1           4.9          3.0           1.4          0.2  setosa\n",
       "2           4.7          3.2           1.3          0.2  setosa\n",
       "3           4.6          3.1           1.5          0.2  setosa\n",
       "4           5.0          3.6           1.4          0.2  setosa"
      ]
     },
     "execution_count": 205,
     "metadata": {},
     "output_type": "execute_result"
    }
   ],
   "source": [
    "iris.head()"
   ]
  },
  {
   "cell_type": "code",
   "execution_count": 206,
   "id": "20a937e7",
   "metadata": {},
   "outputs": [
    {
     "data": {
      "text/plain": [
       "(150, 5)"
      ]
     },
     "execution_count": 206,
     "metadata": {},
     "output_type": "execute_result"
    }
   ],
   "source": [
    "iris.shape"
   ]
  },
  {
   "cell_type": "code",
   "execution_count": 207,
   "id": "f435499e",
   "metadata": {},
   "outputs": [
    {
     "data": {
      "text/plain": [
       "sepal length    5.843333\n",
       "sepal width     3.054000\n",
       "petal length    3.758667\n",
       "petal width     1.198667\n",
       "dtype: float64"
      ]
     },
     "execution_count": 207,
     "metadata": {},
     "output_type": "execute_result"
    }
   ],
   "source": [
    "iris.mean()"
   ]
  },
  {
   "cell_type": "code",
   "execution_count": 208,
   "id": "929274fa",
   "metadata": {},
   "outputs": [
    {
     "data": {
      "text/plain": [
       "sepal length    5.80\n",
       "sepal width     3.00\n",
       "petal length    4.35\n",
       "petal width     1.30\n",
       "dtype: float64"
      ]
     },
     "execution_count": 208,
     "metadata": {},
     "output_type": "execute_result"
    }
   ],
   "source": [
    "iris.median()"
   ]
  },
  {
   "cell_type": "code",
   "execution_count": 209,
   "id": "70113459",
   "metadata": {},
   "outputs": [
    {
     "data": {
      "text/plain": [
       "sepal length          7.9\n",
       "sepal width           4.4\n",
       "petal length          6.9\n",
       "petal width           2.5\n",
       "class           virginica\n",
       "dtype: object"
      ]
     },
     "execution_count": 209,
     "metadata": {},
     "output_type": "execute_result"
    }
   ],
   "source": [
    "iris.max()"
   ]
  },
  {
   "cell_type": "code",
   "execution_count": 210,
   "id": "44c6229c",
   "metadata": {},
   "outputs": [
    {
     "data": {
      "text/plain": [
       "sepal length       4.3\n",
       "sepal width        2.0\n",
       "petal length       1.0\n",
       "petal width        0.1\n",
       "class           setosa\n",
       "dtype: object"
      ]
     },
     "execution_count": 210,
     "metadata": {},
     "output_type": "execute_result"
    }
   ],
   "source": [
    "iris.min()"
   ]
  },
  {
   "cell_type": "code",
   "execution_count": 211,
   "id": "ff48f9bc",
   "metadata": {},
   "outputs": [],
   "source": [
    "def half(s):\n",
    "    return s*0.5"
   ]
  },
  {
   "cell_type": "code",
   "execution_count": 212,
   "id": "db9411e5",
   "metadata": {},
   "outputs": [
    {
     "data": {
      "text/html": [
       "<div>\n",
       "<style scoped>\n",
       "    .dataframe tbody tr th:only-of-type {\n",
       "        vertical-align: middle;\n",
       "    }\n",
       "\n",
       "    .dataframe tbody tr th {\n",
       "        vertical-align: top;\n",
       "    }\n",
       "\n",
       "    .dataframe thead th {\n",
       "        text-align: right;\n",
       "    }\n",
       "</style>\n",
       "<table border=\"1\" class=\"dataframe\">\n",
       "  <thead>\n",
       "    <tr style=\"text-align: right;\">\n",
       "      <th></th>\n",
       "      <th>sepal length</th>\n",
       "      <th>petal length</th>\n",
       "    </tr>\n",
       "  </thead>\n",
       "  <tbody>\n",
       "    <tr>\n",
       "      <th>0</th>\n",
       "      <td>2.55</td>\n",
       "      <td>0.70</td>\n",
       "    </tr>\n",
       "    <tr>\n",
       "      <th>1</th>\n",
       "      <td>2.45</td>\n",
       "      <td>0.70</td>\n",
       "    </tr>\n",
       "    <tr>\n",
       "      <th>2</th>\n",
       "      <td>2.35</td>\n",
       "      <td>0.65</td>\n",
       "    </tr>\n",
       "    <tr>\n",
       "      <th>3</th>\n",
       "      <td>2.30</td>\n",
       "      <td>0.75</td>\n",
       "    </tr>\n",
       "    <tr>\n",
       "      <th>4</th>\n",
       "      <td>2.50</td>\n",
       "      <td>0.70</td>\n",
       "    </tr>\n",
       "    <tr>\n",
       "      <th>...</th>\n",
       "      <td>...</td>\n",
       "      <td>...</td>\n",
       "    </tr>\n",
       "    <tr>\n",
       "      <th>145</th>\n",
       "      <td>3.35</td>\n",
       "      <td>2.60</td>\n",
       "    </tr>\n",
       "    <tr>\n",
       "      <th>146</th>\n",
       "      <td>3.15</td>\n",
       "      <td>2.50</td>\n",
       "    </tr>\n",
       "    <tr>\n",
       "      <th>147</th>\n",
       "      <td>3.25</td>\n",
       "      <td>2.60</td>\n",
       "    </tr>\n",
       "    <tr>\n",
       "      <th>148</th>\n",
       "      <td>3.10</td>\n",
       "      <td>2.70</td>\n",
       "    </tr>\n",
       "    <tr>\n",
       "      <th>149</th>\n",
       "      <td>2.95</td>\n",
       "      <td>2.55</td>\n",
       "    </tr>\n",
       "  </tbody>\n",
       "</table>\n",
       "<p>150 rows × 2 columns</p>\n",
       "</div>"
      ],
      "text/plain": [
       "     sepal length  petal length\n",
       "0            2.55          0.70\n",
       "1            2.45          0.70\n",
       "2            2.35          0.65\n",
       "3            2.30          0.75\n",
       "4            2.50          0.70\n",
       "..            ...           ...\n",
       "145          3.35          2.60\n",
       "146          3.15          2.50\n",
       "147          3.25          2.60\n",
       "148          3.10          2.70\n",
       "149          2.95          2.55\n",
       "\n",
       "[150 rows x 2 columns]"
      ]
     },
     "execution_count": 212,
     "metadata": {},
     "output_type": "execute_result"
    }
   ],
   "source": [
    "iris[['sepal length','petal length']].apply(half)"
   ]
  },
  {
   "cell_type": "code",
   "execution_count": 213,
   "id": "00905f87",
   "metadata": {},
   "outputs": [],
   "source": [
    "def double_make(s):\n",
    "    return s*2"
   ]
  },
  {
   "cell_type": "code",
   "execution_count": 214,
   "id": "432d1404",
   "metadata": {},
   "outputs": [
    {
     "data": {
      "text/html": [
       "<div>\n",
       "<style scoped>\n",
       "    .dataframe tbody tr th:only-of-type {\n",
       "        vertical-align: middle;\n",
       "    }\n",
       "\n",
       "    .dataframe tbody tr th {\n",
       "        vertical-align: top;\n",
       "    }\n",
       "\n",
       "    .dataframe thead th {\n",
       "        text-align: right;\n",
       "    }\n",
       "</style>\n",
       "<table border=\"1\" class=\"dataframe\">\n",
       "  <thead>\n",
       "    <tr style=\"text-align: right;\">\n",
       "      <th></th>\n",
       "      <th>sepal width</th>\n",
       "      <th>petal width</th>\n",
       "    </tr>\n",
       "  </thead>\n",
       "  <tbody>\n",
       "    <tr>\n",
       "      <th>0</th>\n",
       "      <td>7.0</td>\n",
       "      <td>0.4</td>\n",
       "    </tr>\n",
       "    <tr>\n",
       "      <th>1</th>\n",
       "      <td>6.0</td>\n",
       "      <td>0.4</td>\n",
       "    </tr>\n",
       "    <tr>\n",
       "      <th>2</th>\n",
       "      <td>6.4</td>\n",
       "      <td>0.4</td>\n",
       "    </tr>\n",
       "    <tr>\n",
       "      <th>3</th>\n",
       "      <td>6.2</td>\n",
       "      <td>0.4</td>\n",
       "    </tr>\n",
       "    <tr>\n",
       "      <th>4</th>\n",
       "      <td>7.2</td>\n",
       "      <td>0.4</td>\n",
       "    </tr>\n",
       "    <tr>\n",
       "      <th>...</th>\n",
       "      <td>...</td>\n",
       "      <td>...</td>\n",
       "    </tr>\n",
       "    <tr>\n",
       "      <th>145</th>\n",
       "      <td>6.0</td>\n",
       "      <td>4.6</td>\n",
       "    </tr>\n",
       "    <tr>\n",
       "      <th>146</th>\n",
       "      <td>5.0</td>\n",
       "      <td>3.8</td>\n",
       "    </tr>\n",
       "    <tr>\n",
       "      <th>147</th>\n",
       "      <td>6.0</td>\n",
       "      <td>4.0</td>\n",
       "    </tr>\n",
       "    <tr>\n",
       "      <th>148</th>\n",
       "      <td>6.8</td>\n",
       "      <td>4.6</td>\n",
       "    </tr>\n",
       "    <tr>\n",
       "      <th>149</th>\n",
       "      <td>6.0</td>\n",
       "      <td>3.6</td>\n",
       "    </tr>\n",
       "  </tbody>\n",
       "</table>\n",
       "<p>150 rows × 2 columns</p>\n",
       "</div>"
      ],
      "text/plain": [
       "     sepal width  petal width\n",
       "0            7.0          0.4\n",
       "1            6.0          0.4\n",
       "2            6.4          0.4\n",
       "3            6.2          0.4\n",
       "4            7.2          0.4\n",
       "..           ...          ...\n",
       "145          6.0          4.6\n",
       "146          5.0          3.8\n",
       "147          6.0          4.0\n",
       "148          6.8          4.6\n",
       "149          6.0          3.6\n",
       "\n",
       "[150 rows x 2 columns]"
      ]
     },
     "execution_count": 214,
     "metadata": {},
     "output_type": "execute_result"
    }
   ],
   "source": [
    "iris[['sepal width','petal width']].apply(double_make)"
   ]
  },
  {
   "cell_type": "code",
   "execution_count": 215,
   "id": "f1032b63",
   "metadata": {},
   "outputs": [
    {
     "data": {
      "text/html": [
       "<div>\n",
       "<style scoped>\n",
       "    .dataframe tbody tr th:only-of-type {\n",
       "        vertical-align: middle;\n",
       "    }\n",
       "\n",
       "    .dataframe tbody tr th {\n",
       "        vertical-align: top;\n",
       "    }\n",
       "\n",
       "    .dataframe thead th {\n",
       "        text-align: right;\n",
       "    }\n",
       "</style>\n",
       "<table border=\"1\" class=\"dataframe\">\n",
       "  <thead>\n",
       "    <tr style=\"text-align: right;\">\n",
       "      <th></th>\n",
       "      <th>sepal length</th>\n",
       "      <th>sepal width</th>\n",
       "      <th>petal length</th>\n",
       "      <th>petal width</th>\n",
       "      <th>class</th>\n",
       "    </tr>\n",
       "  </thead>\n",
       "  <tbody>\n",
       "    <tr>\n",
       "      <th>0</th>\n",
       "      <td>5.1</td>\n",
       "      <td>3.5</td>\n",
       "      <td>1.4</td>\n",
       "      <td>0.2</td>\n",
       "      <td>setosa</td>\n",
       "    </tr>\n",
       "    <tr>\n",
       "      <th>1</th>\n",
       "      <td>4.9</td>\n",
       "      <td>3.0</td>\n",
       "      <td>1.4</td>\n",
       "      <td>0.2</td>\n",
       "      <td>setosa</td>\n",
       "    </tr>\n",
       "    <tr>\n",
       "      <th>2</th>\n",
       "      <td>4.7</td>\n",
       "      <td>3.2</td>\n",
       "      <td>1.3</td>\n",
       "      <td>0.2</td>\n",
       "      <td>setosa</td>\n",
       "    </tr>\n",
       "    <tr>\n",
       "      <th>3</th>\n",
       "      <td>4.6</td>\n",
       "      <td>3.1</td>\n",
       "      <td>1.5</td>\n",
       "      <td>0.2</td>\n",
       "      <td>setosa</td>\n",
       "    </tr>\n",
       "    <tr>\n",
       "      <th>4</th>\n",
       "      <td>5.0</td>\n",
       "      <td>3.6</td>\n",
       "      <td>1.4</td>\n",
       "      <td>0.2</td>\n",
       "      <td>setosa</td>\n",
       "    </tr>\n",
       "  </tbody>\n",
       "</table>\n",
       "</div>"
      ],
      "text/plain": [
       "   sepal length  sepal width  petal length  petal width   class\n",
       "0           5.1          3.5           1.4          0.2  setosa\n",
       "1           4.9          3.0           1.4          0.2  setosa\n",
       "2           4.7          3.2           1.3          0.2  setosa\n",
       "3           4.6          3.1           1.5          0.2  setosa\n",
       "4           5.0          3.6           1.4          0.2  setosa"
      ]
     },
     "execution_count": 215,
     "metadata": {},
     "output_type": "execute_result"
    }
   ],
   "source": [
    "iris.head()"
   ]
  },
  {
   "cell_type": "code",
   "execution_count": 216,
   "id": "a1fcb4f4",
   "metadata": {},
   "outputs": [
    {
     "data": {
      "text/plain": [
       "versicolor    50\n",
       "virginica     50\n",
       "setosa        50\n",
       "Name: class, dtype: int64"
      ]
     },
     "execution_count": 216,
     "metadata": {},
     "output_type": "execute_result"
    }
   ],
   "source": [
    "iris['class'].value_counts()"
   ]
  },
  {
   "cell_type": "code",
   "execution_count": 217,
   "id": "61c9cfa8",
   "metadata": {},
   "outputs": [
    {
     "data": {
      "text/html": [
       "<div>\n",
       "<style scoped>\n",
       "    .dataframe tbody tr th:only-of-type {\n",
       "        vertical-align: middle;\n",
       "    }\n",
       "\n",
       "    .dataframe tbody tr th {\n",
       "        vertical-align: top;\n",
       "    }\n",
       "\n",
       "    .dataframe thead th {\n",
       "        text-align: right;\n",
       "    }\n",
       "</style>\n",
       "<table border=\"1\" class=\"dataframe\">\n",
       "  <thead>\n",
       "    <tr style=\"text-align: right;\">\n",
       "      <th></th>\n",
       "      <th>sepal length</th>\n",
       "      <th>sepal width</th>\n",
       "      <th>petal length</th>\n",
       "      <th>petal width</th>\n",
       "      <th>class</th>\n",
       "    </tr>\n",
       "  </thead>\n",
       "  <tbody>\n",
       "    <tr>\n",
       "      <th>13</th>\n",
       "      <td>4.3</td>\n",
       "      <td>3.0</td>\n",
       "      <td>1.1</td>\n",
       "      <td>0.1</td>\n",
       "      <td>setosa</td>\n",
       "    </tr>\n",
       "    <tr>\n",
       "      <th>42</th>\n",
       "      <td>4.4</td>\n",
       "      <td>3.2</td>\n",
       "      <td>1.3</td>\n",
       "      <td>0.2</td>\n",
       "      <td>setosa</td>\n",
       "    </tr>\n",
       "    <tr>\n",
       "      <th>38</th>\n",
       "      <td>4.4</td>\n",
       "      <td>3.0</td>\n",
       "      <td>1.3</td>\n",
       "      <td>0.2</td>\n",
       "      <td>setosa</td>\n",
       "    </tr>\n",
       "    <tr>\n",
       "      <th>8</th>\n",
       "      <td>4.4</td>\n",
       "      <td>2.9</td>\n",
       "      <td>1.4</td>\n",
       "      <td>0.2</td>\n",
       "      <td>setosa</td>\n",
       "    </tr>\n",
       "    <tr>\n",
       "      <th>41</th>\n",
       "      <td>4.5</td>\n",
       "      <td>2.3</td>\n",
       "      <td>1.3</td>\n",
       "      <td>0.3</td>\n",
       "      <td>setosa</td>\n",
       "    </tr>\n",
       "    <tr>\n",
       "      <th>...</th>\n",
       "      <td>...</td>\n",
       "      <td>...</td>\n",
       "      <td>...</td>\n",
       "      <td>...</td>\n",
       "      <td>...</td>\n",
       "    </tr>\n",
       "    <tr>\n",
       "      <th>122</th>\n",
       "      <td>7.7</td>\n",
       "      <td>2.8</td>\n",
       "      <td>6.7</td>\n",
       "      <td>2.0</td>\n",
       "      <td>virginica</td>\n",
       "    </tr>\n",
       "    <tr>\n",
       "      <th>118</th>\n",
       "      <td>7.7</td>\n",
       "      <td>2.6</td>\n",
       "      <td>6.9</td>\n",
       "      <td>2.3</td>\n",
       "      <td>virginica</td>\n",
       "    </tr>\n",
       "    <tr>\n",
       "      <th>117</th>\n",
       "      <td>7.7</td>\n",
       "      <td>3.8</td>\n",
       "      <td>6.7</td>\n",
       "      <td>2.2</td>\n",
       "      <td>virginica</td>\n",
       "    </tr>\n",
       "    <tr>\n",
       "      <th>135</th>\n",
       "      <td>7.7</td>\n",
       "      <td>3.0</td>\n",
       "      <td>6.1</td>\n",
       "      <td>2.3</td>\n",
       "      <td>virginica</td>\n",
       "    </tr>\n",
       "    <tr>\n",
       "      <th>131</th>\n",
       "      <td>7.9</td>\n",
       "      <td>3.8</td>\n",
       "      <td>6.4</td>\n",
       "      <td>2.0</td>\n",
       "      <td>virginica</td>\n",
       "    </tr>\n",
       "  </tbody>\n",
       "</table>\n",
       "<p>150 rows × 5 columns</p>\n",
       "</div>"
      ],
      "text/plain": [
       "     sepal length  sepal width  petal length  petal width      class\n",
       "13            4.3          3.0           1.1          0.1     setosa\n",
       "42            4.4          3.2           1.3          0.2     setosa\n",
       "38            4.4          3.0           1.3          0.2     setosa\n",
       "8             4.4          2.9           1.4          0.2     setosa\n",
       "41            4.5          2.3           1.3          0.3     setosa\n",
       "..            ...          ...           ...          ...        ...\n",
       "122           7.7          2.8           6.7          2.0  virginica\n",
       "118           7.7          2.6           6.9          2.3  virginica\n",
       "117           7.7          3.8           6.7          2.2  virginica\n",
       "135           7.7          3.0           6.1          2.3  virginica\n",
       "131           7.9          3.8           6.4          2.0  virginica\n",
       "\n",
       "[150 rows x 5 columns]"
      ]
     },
     "execution_count": 217,
     "metadata": {},
     "output_type": "execute_result"
    }
   ],
   "source": [
    "iris.sort_values(by = 'sepal length')"
   ]
  },
  {
   "cell_type": "markdown",
   "id": "7bf5e83c",
   "metadata": {},
   "source": [
    "# Data Visulaization"
   ]
  },
  {
   "cell_type": "code",
   "execution_count": 218,
   "id": "1b1a3ea8",
   "metadata": {},
   "outputs": [],
   "source": [
    "import numpy as np\n",
    "from matplotlib import pyplot as plt"
   ]
  },
  {
   "cell_type": "code",
   "execution_count": 219,
   "id": "f3226e65",
   "metadata": {},
   "outputs": [
    {
     "data": {
      "text/plain": [
       "array([ 1,  2,  3,  4,  5,  6,  7,  8,  9, 10])"
      ]
     },
     "execution_count": 219,
     "metadata": {},
     "output_type": "execute_result"
    }
   ],
   "source": [
    "x = np.arange(1,11)\n",
    "x"
   ]
  },
  {
   "cell_type": "code",
   "execution_count": 220,
   "id": "e962596d",
   "metadata": {},
   "outputs": [
    {
     "data": {
      "text/plain": [
       "array([ 2,  4,  6,  8, 10, 12, 14, 16, 18, 20])"
      ]
     },
     "execution_count": 220,
     "metadata": {},
     "output_type": "execute_result"
    }
   ],
   "source": [
    "y = 2*x\n",
    "y"
   ]
  },
  {
   "cell_type": "markdown",
   "id": "2588979e",
   "metadata": {},
   "source": [
    "# line plot"
   ]
  },
  {
   "cell_type": "code",
   "execution_count": 221,
   "id": "a84e03ee",
   "metadata": {},
   "outputs": [
    {
     "data": {
      "image/png": "[encoded data removed]",
      "text/plain": [
       "<Figure size 432x288 with 1 Axes>"
      ]
     },
     "metadata": {
      "needs_background": "light"
     },
     "output_type": "display_data"
    }
   ],
   "source": [
    "plt.plot(x,y)\n",
    "plt.show()"
   ]
  },
  {
   "cell_type": "code",
   "execution_count": 222,
   "id": "9b5dff58",
   "metadata": {},
   "outputs": [
    {
     "data": {
      "image/png": "[encoded data removed]",
      "text/plain": [
       "<Figure size 432x288 with 1 Axes>"
      ]
     },
     "metadata": {
      "needs_background": "light"
     },
     "output_type": "display_data"
    }
   ],
   "source": [
    "# changong line Aesthetics\n",
    "plt.plot(x,y,color='g',linestyle=':',linewidth=5)\n",
    "\n",
    "plt.title('Line plot')\n",
    "plt.xlabel('x label')\n",
    "plt.ylabel('y label')\n",
    "\n",
    "plt.show()"
   ]
  },
  {
   "cell_type": "code",
   "execution_count": 223,
   "id": "7392b13d",
   "metadata": {},
   "outputs": [],
   "source": [
    "#adding 2 lines in same plot\n",
    "\n",
    "x = np.arange(1,11)\n",
    "y1 = 2*x\n",
    "y2 = 3*x"
   ]
  },
  {
   "cell_type": "code",
   "execution_count": 224,
   "id": "dfbfee8c",
   "metadata": {},
   "outputs": [
    {
     "data": {
      "image/png": "[encoded data removed]",
      "text/plain": [
       "<Figure size 432x288 with 1 Axes>"
      ]
     },
     "metadata": {
      "needs_background": "light"
     },
     "output_type": "display_data"
    }
   ],
   "source": [
    "plt.plot(x,y1,color='g',linewidth = 5,linestyle=':')\n",
    "plt.plot(x,y2,color='b',linewidth = 5,linestyle='--')\n",
    "plt.xlabel('X-axis')\n",
    "plt.ylabel('Y-axis')\n",
    "plt.title('Two Lines plot')\n",
    "plt.grid(True)\n",
    "plt.show()"
   ]
  },
  {
   "cell_type": "code",
   "execution_count": 225,
   "id": "5925ffeb",
   "metadata": {},
   "outputs": [],
   "source": [
    "# adding sub plot\n",
    "x = np.arange(1,11)\n",
    "y1 = 2*x\n",
    "y2 = 3*x"
   ]
  },
  {
   "cell_type": "code",
   "execution_count": 226,
   "id": "5c093f38",
   "metadata": {},
   "outputs": [
    {
     "data": {
      "image/png": "[encoded data removed]",
      "text/plain": [
       "<Figure size 432x288 with 2 Axes>"
      ]
     },
     "metadata": {
      "needs_background": "light"
     },
     "output_type": "display_data"
    }
   ],
   "source": [
    "plt.subplot(1,2,1)\n",
    "plt.plot(x,y1,color = 'g',linewidth=5,linestyle=':')\n",
    "\n",
    "plt.subplot(1,2,2)\n",
    "plt.plot(x,y2,color = 'r',linewidth =5,linestyle='-')\n",
    "plt.xlabel('X-axis')\n",
    "plt.ylabel('Y-axis')\n",
    "plt.title('Two Lines plot')\n",
    "plt.grid(True)\n",
    "plt.show()"
   ]
  },
  {
   "cell_type": "markdown",
   "id": "50998708",
   "metadata": {},
   "source": [
    "# Bar Plot"
   ]
  },
  {
   "cell_type": "code",
   "execution_count": 227,
   "id": "a8b974fe",
   "metadata": {},
   "outputs": [],
   "source": [
    "student = {'Bob':75, 'mat': 64, 'sam': 45}"
   ]
  },
  {
   "cell_type": "code",
   "execution_count": 228,
   "id": "b693d101",
   "metadata": {},
   "outputs": [],
   "source": [
    "names = list(student.keys())\n",
    "values = list(student.values())"
   ]
  },
  {
   "cell_type": "code",
   "execution_count": 229,
   "id": "6ba36910",
   "metadata": {},
   "outputs": [
    {
     "data": {
      "image/png": "[encoded data removed]",
      "text/plain": [
       "<Figure size 432x288 with 1 Axes>"
      ]
     },
     "metadata": {
      "needs_background": "light"
     },
     "output_type": "display_data"
    }
   ],
   "source": [
    "plt.bar(names,values)\n",
    "plt.title('Distribution of student marks')\n",
    "plt.xlabel('Names')\n",
    "plt.ylabel('Marks')\n",
    "plt.grid(True)\n",
    "plt.show()"
   ]
  },
  {
   "cell_type": "code",
   "execution_count": 230,
   "id": "3a51a89e",
   "metadata": {},
   "outputs": [],
   "source": [
    "# horizontal Bar plot"
   ]
  },
  {
   "cell_type": "code",
   "execution_count": 231,
   "id": "5cdfe2bf",
   "metadata": {},
   "outputs": [
    {
     "data": {
      "image/png": "[encoded data removed]",
      "text/plain": [
       "<Figure size 432x288 with 1 Axes>"
      ]
     },
     "metadata": {
      "needs_background": "light"
     },
     "output_type": "display_data"
    }
   ],
   "source": [
    "plt.barh(names,values,color = 'g')\n",
    "plt.title('Distribution of student marks')\n",
    "plt.xlabel('Names')\n",
    "plt.ylabel('Marks')\n",
    "plt.grid(True)\n",
    "plt.show()"
   ]
  },
  {
   "cell_type": "markdown",
   "id": "b78dc9ca",
   "metadata": {},
   "source": [
    "# Scatter Plot"
   ]
  },
  {
   "cell_type": "code",
   "execution_count": 232,
   "id": "882ba070",
   "metadata": {},
   "outputs": [
    {
     "data": {
      "image/png": "[encoded data removed]",
      "text/plain": [
       "<Figure size 432x288 with 1 Axes>"
      ]
     },
     "metadata": {
      "needs_background": "light"
     },
     "output_type": "display_data"
    }
   ],
   "source": [
    "x = [10,20,30,40,50,60,70,80,90]\n",
    "a = [8,1,7,2,0,3,7,3,2]\n",
    "\n",
    "plt.scatter(x,a,color ='r')\n",
    "plt.show()"
   ]
  },
  {
   "cell_type": "code",
   "execution_count": 233,
   "id": "825a1f6a",
   "metadata": {},
   "outputs": [
    {
     "data": {
      "image/png": "[encoded data removed]",
      "text/plain": [
       "<Figure size 432x288 with 1 Axes>"
      ]
     },
     "metadata": {
      "needs_background": "light"
     },
     "output_type": "display_data"
    }
   ],
   "source": [
    "x = [10,20,30,40,50,60,70,80,90]\n",
    "a = [8,1,7,2,0,3,7,3,2]\n",
    "\n",
    "plt.scatter(x,a,color ='r',marker='*',s=100)\n",
    "plt.show()"
   ]
  },
  {
   "cell_type": "markdown",
   "id": "68e9e641",
   "metadata": {},
   "source": [
    "# Histogram"
   ]
  },
  {
   "cell_type": "code",
   "execution_count": 234,
   "id": "c12fe5d7",
   "metadata": {},
   "outputs": [
    {
     "data": {
      "image/png": "[encoded data removed]",
      "text/plain": [
       "<Figure size 432x288 with 1 Axes>"
      ]
     },
     "metadata": {
      "needs_background": "light"
     },
     "output_type": "display_data"
    }
   ],
   "source": [
    "data = [1,3,4,5,6,7,2,3,5,8,9,7,8,9]\n",
    "plt.hist(data,color ='g',bins = 10)\n",
    "plt.show()"
   ]
  },
  {
   "cell_type": "code",
   "execution_count": 235,
   "id": "bb3005aa",
   "metadata": {},
   "outputs": [
    {
     "data": {
      "text/html": [
       "<div>\n",
       "<style scoped>\n",
       "    .dataframe tbody tr th:only-of-type {\n",
       "        vertical-align: middle;\n",
       "    }\n",
       "\n",
       "    .dataframe tbody tr th {\n",
       "        vertical-align: top;\n",
       "    }\n",
       "\n",
       "    .dataframe thead th {\n",
       "        text-align: right;\n",
       "    }\n",
       "</style>\n",
       "<table border=\"1\" class=\"dataframe\">\n",
       "  <thead>\n",
       "    <tr style=\"text-align: right;\">\n",
       "      <th></th>\n",
       "      <th>sepal length</th>\n",
       "      <th>sepal width</th>\n",
       "      <th>petal length</th>\n",
       "      <th>petal width</th>\n",
       "      <th>class</th>\n",
       "    </tr>\n",
       "  </thead>\n",
       "  <tbody>\n",
       "    <tr>\n",
       "      <th>0</th>\n",
       "      <td>5.1</td>\n",
       "      <td>3.5</td>\n",
       "      <td>1.4</td>\n",
       "      <td>0.2</td>\n",
       "      <td>setosa</td>\n",
       "    </tr>\n",
       "    <tr>\n",
       "      <th>1</th>\n",
       "      <td>4.9</td>\n",
       "      <td>3.0</td>\n",
       "      <td>1.4</td>\n",
       "      <td>0.2</td>\n",
       "      <td>setosa</td>\n",
       "    </tr>\n",
       "    <tr>\n",
       "      <th>2</th>\n",
       "      <td>4.7</td>\n",
       "      <td>3.2</td>\n",
       "      <td>1.3</td>\n",
       "      <td>0.2</td>\n",
       "      <td>setosa</td>\n",
       "    </tr>\n",
       "    <tr>\n",
       "      <th>3</th>\n",
       "      <td>4.6</td>\n",
       "      <td>3.1</td>\n",
       "      <td>1.5</td>\n",
       "      <td>0.2</td>\n",
       "      <td>setosa</td>\n",
       "    </tr>\n",
       "    <tr>\n",
       "      <th>4</th>\n",
       "      <td>5.0</td>\n",
       "      <td>3.6</td>\n",
       "      <td>1.4</td>\n",
       "      <td>0.2</td>\n",
       "      <td>setosa</td>\n",
       "    </tr>\n",
       "  </tbody>\n",
       "</table>\n",
       "</div>"
      ],
      "text/plain": [
       "   sepal length  sepal width  petal length  petal width   class\n",
       "0           5.1          3.5           1.4          0.2  setosa\n",
       "1           4.9          3.0           1.4          0.2  setosa\n",
       "2           4.7          3.2           1.3          0.2  setosa\n",
       "3           4.6          3.1           1.5          0.2  setosa\n",
       "4           5.0          3.6           1.4          0.2  setosa"
      ]
     },
     "execution_count": 235,
     "metadata": {},
     "output_type": "execute_result"
    }
   ],
   "source": [
    "iris.head()"
   ]
  },
  {
   "cell_type": "code",
   "execution_count": 236,
   "id": "15ddac4a",
   "metadata": {},
   "outputs": [
    {
     "data": {
      "image/png": "[encoded data removed]",
      "text/plain": [
       "<Figure size 432x288 with 1 Axes>"
      ]
     },
     "metadata": {
      "needs_background": "light"
     },
     "output_type": "display_data"
    }
   ],
   "source": [
    "plt.hist(iris['sepal length'],color='b',bins=30)\n",
    "plt.show()"
   ]
  },
  {
   "cell_type": "markdown",
   "id": "7355114c",
   "metadata": {},
   "source": [
    "# Box Plot"
   ]
  },
  {
   "cell_type": "code",
   "execution_count": 237,
   "id": "678d5579",
   "metadata": {},
   "outputs": [
    {
     "data": {
      "text/plain": [
       "[[1, 2, 3, 4, 5, 6, 7, 8, 9],\n",
       " [1, 2, 3, 4, 5, 4, 3, 2, 1, 3],\n",
       " [6, 7, 8, 9, 10, 1, 2, 4, 6, 7, 8]]"
      ]
     },
     "execution_count": 237,
     "metadata": {},
     "output_type": "execute_result"
    }
   ],
   "source": [
    "one = [1,2,3,4,5,6,7,8,9]\n",
    "two = [1,2,3,4,5,4,3,2,1,3]\n",
    "three= [6,7,8,9,10,1,2,4,6,7,8]\n",
    "\n",
    "data = list([one,two,three])\n",
    "data"
   ]
  },
  {
   "cell_type": "code",
   "execution_count": 238,
   "id": "62d17f79",
   "metadata": {},
   "outputs": [
    {
     "data": {
      "image/png": "[encoded data removed]",
      "text/plain": [
       "<Figure size 432x288 with 1 Axes>"
      ]
     },
     "metadata": {
      "needs_background": "light"
     },
     "output_type": "display_data"
    }
   ],
   "source": [
    "plt.boxplot(data)\n",
    "plt.show()"
   ]
  },
  {
   "cell_type": "markdown",
   "id": "d17033e8",
   "metadata": {},
   "source": [
    "# Violin-Plot"
   ]
  },
  {
   "cell_type": "code",
   "execution_count": 239,
   "id": "9bfd8d0e",
   "metadata": {},
   "outputs": [
    {
     "data": {
      "text/plain": [
       "[[1, 2, 3, 4, 5, 6, 7, 8, 9],\n",
       " [1, 2, 3, 4, 5, 4, 3, 2, 1, 3],\n",
       " [6, 7, 8, 9, 10, 1, 2, 4, 6, 7, 8]]"
      ]
     },
     "execution_count": 239,
     "metadata": {},
     "output_type": "execute_result"
    }
   ],
   "source": [
    "one = [1,2,3,4,5,6,7,8,9]\n",
    "two = [1,2,3,4,5,4,3,2,1,3]\n",
    "three= [6,7,8,9,10,1,2,4,6,7,8]\n",
    "\n",
    "data = list([one,two,three])\n",
    "data"
   ]
  },
  {
   "cell_type": "code",
   "execution_count": 240,
   "id": "d9148254",
   "metadata": {},
   "outputs": [
    {
     "data": {
      "image/png": "[encoded data removed]",
      "text/plain": [
       "<Figure size 432x288 with 1 Axes>"
      ]
     },
     "metadata": {
      "needs_background": "light"
     },
     "output_type": "display_data"
    }
   ],
   "source": [
    "plt.violinplot(data,showmedians=True)\n",
    "plt.show()"
   ]
  },
  {
   "cell_type": "code",
   "execution_count": 1,
   "id": "e3f94730",
   "metadata": {},
   "outputs": [],
   "source": [
    "#Practice:"
   ]
  },
  {
   "cell_type": "code",
   "execution_count": 2,
   "id": "f8591934",
   "metadata": {},
   "outputs": [
    {
     "name": "stdout",
     "output_type": "stream",
     "text": [
      " x is positive and odd\n"
     ]
    }
   ],
   "source": [
    "x = 5\n",
    "if x < 0:\n",
    "    print(\"x is negative\")\n",
    "elif x % 2:\n",
    "    print(\" x is positive and odd\")\n",
    "else:\n",
    "    print(\" x is even and non negative\")"
   ]
  },
  {
   "cell_type": "code",
   "execution_count": 3,
   "id": "389e2fe0",
   "metadata": {},
   "outputs": [
    {
     "name": "stdout",
     "output_type": "stream",
     "text": [
      "55\n"
     ]
    }
   ],
   "source": [
    "n = 10\n",
    "sum = 0\n",
    "i = 1\n",
    "\n",
    "while i <=n:\n",
    "    sum = sum + i\n",
    "    i = i+1\n",
    "print(sum)"
   ]
  },
  {
   "cell_type": "code",
   "execution_count": 4,
   "id": "21b1da18",
   "metadata": {},
   "outputs": [
    {
     "name": "stdout",
     "output_type": "stream",
     "text": [
      "I\n",
      " \n",
      "l\n",
      "o\n",
      "v\n",
      "e\n",
      " \n",
      "P\n",
      "y\n",
      "t\n",
      "h\n",
      "o\n",
      "n\n"
     ]
    }
   ],
   "source": [
    "string = 'I love Python'\n",
    "for i in string:\n",
    "    print(i)"
   ]
  },
  {
   "cell_type": "code",
   "execution_count": 11,
   "id": "2e0c89c3",
   "metadata": {},
   "outputs": [
    {
     "name": "stdout",
     "output_type": "stream",
     "text": [
      "['python']\n"
     ]
    }
   ],
   "source": [
    "course = ['data science', 'machine learning', 'python', 'html', 'big data' ]\n",
    "print([course[2]])"
   ]
  },
  {
   "cell_type": "code",
   "execution_count": 12,
   "id": "02568e17",
   "metadata": {},
   "outputs": [
    {
     "data": {
      "text/plain": [
       "5"
      ]
     },
     "execution_count": 12,
     "metadata": {},
     "output_type": "execute_result"
    }
   ],
   "source": [
    "len(course)"
   ]
  },
  {
   "cell_type": "code",
   "execution_count": 13,
   "id": "7bacd6ba",
   "metadata": {},
   "outputs": [
    {
     "name": "stdout",
     "output_type": "stream",
     "text": [
      "['data science', 'machine learning', 'python', 'html', 'big data', ['statistics']]\n"
     ]
    }
   ],
   "source": [
    "course2 = ['statistics'] \n",
    "course.append(course2)\n",
    "print(course)"
   ]
  },
  {
   "cell_type": "code",
   "execution_count": 14,
   "id": "5a4da9d9",
   "metadata": {},
   "outputs": [
    {
     "data": {
      "text/plain": [
       "['data science',\n",
       " 'machine learning',\n",
       " 'statistics',\n",
       " 'python',\n",
       " 'html',\n",
       " 'big data']"
      ]
     },
     "execution_count": 14,
     "metadata": {},
     "output_type": "execute_result"
    }
   ],
   "source": [
    "l1 = ['data science', 'machine learning', 'python', 'html', 'big data' ]\n",
    "l1.insert(2,'statistics')\n",
    "l1"
   ]
  },
  {
   "cell_type": "code",
   "execution_count": 20,
   "id": "62c948b1",
   "metadata": {},
   "outputs": [
    {
     "data": {
      "text/plain": [
       "['a', 'fox', 'the', 'over', 'lazy', 'frog', 'quick', 'brown', 'jumps']"
      ]
     },
     "execution_count": 20,
     "metadata": {},
     "output_type": "execute_result"
    }
   ],
   "source": [
    "sentence = ['a', 'quick', 'brown', 'fox', 'jumps', 'over', 'the', 'lazy', 'frog']\n",
    "sentence.sort(key = len)\n",
    "sentence"
   ]
  },
  {
   "cell_type": "code",
   "execution_count": 21,
   "id": "c9ad0aa1",
   "metadata": {},
   "outputs": [
    {
     "name": "stdout",
     "output_type": "stream",
     "text": [
      "{'world', 'hi', 'python'}\n"
     ]
    }
   ],
   "source": [
    "my_set = {'python','world'}\n",
    "my_set.add(\"hi\")\n",
    "print(my_set)"
   ]
  },
  {
   "cell_type": "code",
   "execution_count": 22,
   "id": "c4695399",
   "metadata": {},
   "outputs": [
    {
     "data": {
      "text/plain": [
       "{'data science', 'hi', 'machine learning', 'python', 'world'}"
      ]
     },
     "execution_count": 22,
     "metadata": {},
     "output_type": "execute_result"
    }
   ],
   "source": [
    "my_set.update(['data science','machine learning'])\n",
    "my_set"
   ]
  },
  {
   "cell_type": "code",
   "execution_count": 23,
   "id": "3c903179",
   "metadata": {},
   "outputs": [
    {
     "data": {
      "text/plain": [
       "5"
      ]
     },
     "execution_count": 23,
     "metadata": {},
     "output_type": "execute_result"
    }
   ],
   "source": [
    "len(my_set)"
   ]
  },
  {
   "cell_type": "code",
   "execution_count": 24,
   "id": "20ae6c4f",
   "metadata": {},
   "outputs": [
    {
     "data": {
      "text/plain": [
       "'world'"
      ]
     },
     "execution_count": 24,
     "metadata": {},
     "output_type": "execute_result"
    }
   ],
   "source": [
    "my_set = {'data science', 'machine learning', 'python', 'world'}\n",
    "my_set.pop()"
   ]
  },
  {
   "cell_type": "code",
   "execution_count": 25,
   "id": "13435edb",
   "metadata": {},
   "outputs": [
    {
     "data": {
      "text/plain": [
       "1"
      ]
     },
     "execution_count": 25,
     "metadata": {},
     "output_type": "execute_result"
    }
   ],
   "source": [
    "my_set1 = {1,2,3,\"data\", \"science\"}\n",
    "my_set1.pop()"
   ]
  },
  {
   "cell_type": "code",
   "execution_count": 1,
   "id": "3751f922",
   "metadata": {},
   "outputs": [
    {
     "name": "stdout",
     "output_type": "stream",
     "text": [
      "150\n",
      "18.75\n"
     ]
    }
   ],
   "source": [
    "n = 150\n",
    "print(n)\n",
    "result = n*8 if n > 400 else n / 8\n",
    "print(result)"
   ]
  },
  {
   "cell_type": "code",
   "execution_count": 6,
   "id": "56b1f97b",
   "metadata": {},
   "outputs": [
    {
     "name": "stdout",
     "output_type": "stream",
     "text": [
      "Enter your userid: xyz\n",
      "Enter your password: xyz123\n",
      "successfully logged in!\n"
     ]
    }
   ],
   "source": [
    "string1 = input(\"Enter your userid: \")\n",
    "string2 = input(\"Enter your password: \")\n",
    "\n",
    "if(string1 == 'xyz' and string2 == 'xyz123'):\n",
    "    print(\"successfully logged in!\")\n",
    "else:\n",
    "    print(\"Please check your userid and password!\")"
   ]
  },
  {
   "cell_type": "code",
   "execution_count": 7,
   "id": "5f4268de",
   "metadata": {},
   "outputs": [
    {
     "name": "stdout",
     "output_type": "stream",
     "text": [
      " Number is greater than 50\n"
     ]
    }
   ],
   "source": [
    "num = 100\n",
    "if (num == 0):\n",
    "    print(\"NUmber is zero\")\n",
    "elif (num > 50):\n",
    "    print(\" Number is greater than 50\")\n",
    "else:\n",
    "    print(\"NUmber is smaller than 50\")"
   ]
  },
  {
   "cell_type": "code",
   "execution_count": 9,
   "id": "1607df6f",
   "metadata": {},
   "outputs": [
    {
     "name": "stdout",
     "output_type": "stream",
     "text": [
      "Enter your score: 75\n",
      "B Grade\n"
     ]
    }
   ],
   "source": [
    "score = int(input(\"Enter your score: \"))\n",
    "\n",
    "if(score <=100 and score >=90):\n",
    "    print(\"Distinction\")\n",
    "elif(score < 90 and score >= 80):\n",
    "    print(\"A Grade\")\n",
    "elif(score < 80 and score >= 70):\n",
    "    print(\"B Grade\")\n",
    "elif(score < 70 and score >= 60):\n",
    "    print(\"C Grade\")\n",
    "elif(score < 60 and score >= 50):\n",
    "    print(\"D Grade\")\n",
    "elif(score == 50):\n",
    "    print(\"E Grade\")\n",
    "elif(score <50 and score >= 0):\n",
    "    print(\"U Grade\")\n",
    "else:\n",
    "    print(\" Enter a valid score between 0 to 100\")"
   ]
  },
  {
   "cell_type": "code",
   "execution_count": null,
   "id": "2321acfa",
   "metadata": {},
   "outputs": [],
   "source": [
    "# https://python-course.eu/advanced-python/recursive-functions.php"
   ]
  },
  {
   "cell_type": "code",
   "execution_count": 1,
   "id": "0421e0a1",
   "metadata": {},
   "outputs": [],
   "source": [
    "# https://www.w3resource.com/python-exercises/list/"
   ]
  },
  {
   "cell_type": "code",
   "execution_count": 2,
   "id": "faf44849",
   "metadata": {},
   "outputs": [],
   "source": [
    "# Python 3 program to find N-th\n",
    "# term in the series\n",
    " \n",
    "# import sqrt method from math module\n",
    "from math import sqrt\n",
    " \n",
    "# Globally declare constant value\n",
    "MAX = 1000\n",
    " \n",
    "# Function to find Nth Prime Number\n",
    "def NthPrime(n) :\n",
    "     \n",
    "    count = 0\n",
    "    for i in range(2, MAX + 1) :\n",
    "         \n",
    "        check = 0\n",
    "        for j in range(2, int(sqrt(i)) + 1) :\n",
    "             \n",
    "            if i % j == 0 :\n",
    "                check = 1\n",
    "                break\n",
    " \n",
    "        if check == 0 :\n",
    "            count += 1\n",
    " \n",
    "        if count == n :\n",
    "            return i\n",
    "            break"
   ]
  },
  {
   "cell_type": "code",
   "execution_count": 3,
   "id": "196c3b42",
   "metadata": {},
   "outputs": [
    {
     "data": {
      "text/plain": [
       "19"
      ]
     },
     "execution_count": 3,
     "metadata": {},
     "output_type": "execute_result"
    }
   ],
   "source": [
    "NthPrime(8)"
   ]
  },
  {
   "cell_type": "markdown",
   "id": "db7a02d3",
   "metadata": {},
   "source": [
    "# Check whether the number is smaller than 4738 or not?"
   ]
  },
  {
   "cell_type": "code",
   "execution_count": 2,
   "id": "f69adf10",
   "metadata": {},
   "outputs": [
    {
     "name": "stdout",
     "output_type": "stream",
     "text": [
      "Number is smaller than 4738\n"
     ]
    }
   ],
   "source": [
    "val = 3624\n",
    "\n",
    "if (val<4738):\n",
    "    print(\"Number is smaller than 4738\")"
   ]
  },
  {
   "cell_type": "markdown",
   "id": "108ca55a",
   "metadata": {},
   "source": [
    "# Find out if the given number is non negative?"
   ]
  },
  {
   "cell_type": "code",
   "execution_count": 3,
   "id": "b1904c0a",
   "metadata": {},
   "outputs": [
    {
     "name": "stdout",
     "output_type": "stream",
     "text": [
      "The number is even\n"
     ]
    }
   ],
   "source": [
    "num = 22\n",
    "if num % 2==0:\n",
    "    print(\"The number is even\")\n",
    "else:\n",
    "    print(\"The number is odd\")"
   ]
  },
  {
   "cell_type": "code",
   "execution_count": 7,
   "id": "27e545de",
   "metadata": {},
   "outputs": [
    {
     "name": "stdout",
     "output_type": "stream",
     "text": [
      "Enter the number: 30\n",
      "The number is even\n"
     ]
    }
   ],
   "source": [
    "num = int(input(\"Enter the number: \"))\n",
    "if num % 2==0:\n",
    "    print(\"The number is even\")\n",
    "else:\n",
    "    print(\"The number is odd\")"
   ]
  },
  {
   "cell_type": "code",
   "execution_count": 8,
   "id": "c4a7bae7",
   "metadata": {},
   "outputs": [
    {
     "name": "stdout",
     "output_type": "stream",
     "text": [
      "Enter the number: 33\n",
      "The number is odd\n"
     ]
    }
   ],
   "source": [
    "num = int(input(\"Enter the number: \"))\n",
    "if num % 2==0:\n",
    "    print(\"The number is even\")\n",
    "else:\n",
    "    print(\"The number is odd\")"
   ]
  },
  {
   "cell_type": "markdown",
   "id": "fded12df",
   "metadata": {},
   "source": [
    "# Let’s check whether the given number is odd as well as greater than 20"
   ]
  },
  {
   "cell_type": "code",
   "execution_count": 10,
   "id": "7bf454bd",
   "metadata": {},
   "outputs": [
    {
     "name": "stdout",
     "output_type": "stream",
     "text": [
      "The number is odd and is greater than 20\n"
     ]
    }
   ],
   "source": [
    "x = 45\n",
    "if x % 2 != 0:\n",
    "    if x > 20:\n",
    "        print(\"The number is odd and is greater than 20\")\n",
    "    else:\n",
    "        print(\"The number is odd but not greater than 20\")\n",
    "else:\n",
    "    print(\"The number is even\")\n",
    "        "
   ]
  },
  {
   "cell_type": "markdown",
   "id": "f6512ac1",
   "metadata": {},
   "source": [
    "# Create a simple calculator using if elif condition"
   ]
  },
  {
   "cell_type": "code",
   "execution_count": 12,
   "id": "3d6e21c5",
   "metadata": {},
   "outputs": [
    {
     "name": "stdout",
     "output_type": "stream",
     "text": [
      "Enter the number: 23\n",
      "Enter the operator: -\n",
      "Enter the number: 14\n",
      "9.0\n"
     ]
    }
   ],
   "source": [
    "val1 = float(input(\"Enter the number: \"))\n",
    "op = input('Enter the operator: ')\n",
    "val2 = float(input(\"Enter the number: \"))\n",
    "\n",
    "if op == '+':\n",
    "    print(val1+val2)\n",
    "elif op == '-':\n",
    "    print(val1-val2)\n",
    "elif op == '/':\n",
    "    print(val1/val2)\n",
    "elif op == '*':\n",
    "    print(val1*val2)\n",
    "else:\n",
    "    print('Invalid operator')"
   ]
  },
  {
   "cell_type": "code",
   "execution_count": 17,
   "id": "006a19f1",
   "metadata": {},
   "outputs": [
    {
     "name": "stdout",
     "output_type": "stream",
     "text": [
      "Enter the age here: 28\n",
      "You are eligible for the application\n",
      "please fill in the required details and apply\n"
     ]
    }
   ],
   "source": [
    "person_age = int(input(\"Enter the age here: \"))\n",
    "if person_age < 18:\n",
    "    print(\"You are eligible\")\n",
    "else:\n",
    "    if person_age >=18 and person_age <=60:\n",
    "        print(\"You are eligible for the application\")\n",
    "        print(\"please fill in the required details and apply\")\n",
    "    else:\n",
    "        print(\"You are not eligible as per the rule\")        "
   ]
  },
  {
   "cell_type": "markdown",
   "id": "eab55852",
   "metadata": {},
   "source": [
    "# Enter the Selling Price and calculate discount based on the range of Selling Price.The discount rate is:\n",
    "\n",
    "5% if Selling Price is atmost 5000\n",
    "\n",
    "12% if Selling Price is atmost 15000\n",
    "\n",
    "20% if Selling Price is atmost 25000\n",
    "\n",
    "30% if Selling Price is more than 25000"
   ]
  },
  {
   "cell_type": "code",
   "execution_count": 20,
   "id": "9519ebcf",
   "metadata": {},
   "outputs": [
    {
     "name": "stdout",
     "output_type": "stream",
     "text": [
      "Enter selling price: 45000\n",
      "discount :  13500.0\n",
      "Final amount due :  31500.0\n"
     ]
    }
   ],
   "source": [
    "amt = int(input(\"Enter selling price: \"))\n",
    "if(amt > 0):\n",
    "    if amt <= 5000:\n",
    "        disc = amt * 0.05\n",
    "    elif amt <= 15000:\n",
    "        disc = amt * 0.12\n",
    "    elif amt <= 25000:\n",
    "        disc = amt * 0.20\n",
    "    else:\n",
    "        disc = amt * 0.30\n",
    "    print(\"discount : \", disc)\n",
    "    print(\"Final amount due : \",amt - disc)\n",
    "else:\n",
    "    print(\"Invalid amount\")"
   ]
  },
  {
   "cell_type": "markdown",
   "id": "99909bfc",
   "metadata": {},
   "source": [
    "# Find largest number among three numbers"
   ]
  },
  {
   "cell_type": "code",
   "execution_count": 21,
   "id": "2e2cc88a",
   "metadata": {},
   "outputs": [
    {
     "name": "stdout",
     "output_type": "stream",
     "text": [
      "Enter the number: 12\n",
      "Enter the number: 34\n",
      "Enter the number: 56\n",
      "The largest number is  56.0\n"
     ]
    }
   ],
   "source": [
    "num1 = float(input(\"Enter the number: \"))\n",
    "num2 = float(input(\"Enter the number: \"))\n",
    "num3 = float(input('Enter the number: '))\n",
    "\n",
    "if(num1 > num2) and (num1 > num3):\n",
    "    largest = num1\n",
    "    print(\"The largest number is \",largest)\n",
    "elif (num2 > num1) and (num2 > num3):\n",
    "    print(\"The largest number is \", largest)\n",
    "else:\n",
    "    largest = num3\n",
    "    print(\"The largest number is \", largest)"
   ]
  },
  {
   "cell_type": "markdown",
   "id": "b22c7424",
   "metadata": {},
   "source": [
    "# Find the sum of natural numbers up to n"
   ]
  },
  {
   "cell_type": "code",
   "execution_count": 23,
   "id": "572d8ae5",
   "metadata": {},
   "outputs": [
    {
     "name": "stdout",
     "output_type": "stream",
     "text": [
      "The sum is 136\n"
     ]
    }
   ],
   "source": [
    "num = 16\n",
    "\n",
    "if num < 0:\n",
    "    print(\"Enter a positive number\")\n",
    "else:\n",
    "    sum = 0\n",
    "    while (num > 0):\n",
    "        sum += num\n",
    "        num -= 1\n",
    "    print(\"The sum is\",sum)\n",
    "\n",
    "    "
   ]
  },
  {
   "cell_type": "markdown",
   "id": "1db14a57",
   "metadata": {},
   "source": [
    "# find the sum of all numbers in a given list"
   ]
  },
  {
   "cell_type": "code",
   "execution_count": 1,
   "id": "80d2ceb3",
   "metadata": {},
   "outputs": [
    {
     "name": "stdout",
     "output_type": "stream",
     "text": [
      "The sum is  2068\n"
     ]
    }
   ],
   "source": [
    "num_list = [66, 545, 223, 438, 224, 122, 125, 214, 111]\n",
    "total = 0\n",
    "for val in num_list:\n",
    "    total = total+val\n",
    "print(\"The sum is \",total)"
   ]
  },
  {
   "cell_type": "code",
   "execution_count": 2,
   "id": "1dc2ccb8",
   "metadata": {},
   "outputs": [
    {
     "name": "stdout",
     "output_type": "stream",
     "text": [
      "0\n",
      "1\n",
      "2\n",
      "3\n",
      "4\n",
      "5\n"
     ]
    }
   ],
   "source": [
    "for x in range(6):\n",
    "    print(x)"
   ]
  },
  {
   "cell_type": "code",
   "execution_count": 3,
   "id": "3e1109b5",
   "metadata": {},
   "outputs": [
    {
     "name": "stdout",
     "output_type": "stream",
     "text": [
      "Sum =  1698\n",
      "Avg =  283.0\n"
     ]
    }
   ],
   "source": [
    "int_list = [134, 222, 113, 234, 375, 620]\n",
    "\n",
    "sum = 0\n",
    "\n",
    "for iter in int_list:\n",
    "    sum+=iter\n",
    "print(\"Sum = \", sum)\n",
    "print(\"Avg = \", sum/len(int_list))"
   ]
  },
  {
   "cell_type": "code",
   "execution_count": 4,
   "id": "17da1f4b",
   "metadata": {},
   "outputs": [
    {
     "name": "stdout",
     "output_type": "stream",
     "text": [
      "0\n",
      "1\n",
      "2\n",
      "3\n",
      "4\n"
     ]
    }
   ],
   "source": [
    "x = 0\n",
    "while (x < 5):\n",
    "    print(x)\n",
    "    x+=1"
   ]
  },
  {
   "cell_type": "code",
   "execution_count": 5,
   "id": "8b518493",
   "metadata": {},
   "outputs": [
    {
     "name": "stdout",
     "output_type": "stream",
     "text": [
      "The sum of first 9 integers:  45\n"
     ]
    }
   ],
   "source": [
    "a = 0\n",
    "b = 0\n",
    "while (a < 10):\n",
    "    b = b+a\n",
    "    a = a+1\n",
    "else:\n",
    "    print(\"The sum of first 9 integers: \", b)"
   ]
  },
  {
   "cell_type": "code",
   "execution_count": 7,
   "id": "ce7189ef",
   "metadata": {},
   "outputs": [
    {
     "name": "stdout",
     "output_type": "stream",
     "text": [
      "4566\n",
      "length is  4\n"
     ]
    }
   ],
   "source": [
    "# find the length of input\n",
    "n = int(input())\n",
    "length = 0\n",
    "while True:\n",
    "    length += 1\n",
    "    n //= 10\n",
    "    if n == 0:\n",
    "        break\n",
    "print(\"length is \", length)"
   ]
  },
  {
   "cell_type": "markdown",
   "id": "71571399",
   "metadata": {},
   "source": [
    "# display all the number before 838"
   ]
  },
  {
   "cell_type": "code",
   "execution_count": 10,
   "id": "8549ba85",
   "metadata": {},
   "outputs": [
    {
     "name": "stdout",
     "output_type": "stream",
     "text": [
      "131\n",
      "92\n",
      "838\n",
      "The number 838 is found\n",
      "Terminating the loop\n"
     ]
    }
   ],
   "source": [
    "for num in [131, 92, 838, 120, 920, 233,321, 119]:\n",
    "    print(num)\n",
    "    if(num==838):\n",
    "        print(\"The number 838 is found\")\n",
    "        print(\"Terminating the loop\")\n",
    "        break"
   ]
  },
  {
   "cell_type": "code",
   "execution_count": 17,
   "id": "7b477a45",
   "metadata": {},
   "outputs": [
    {
     "name": "stdout",
     "output_type": "stream",
     "text": [
      "56\n",
      "No negative numbers met\n",
      "-78\n",
      "Met a negative number -78\n"
     ]
    }
   ],
   "source": [
    "for i in range(5):\n",
    "    a = int(input())\n",
    "    if a < 0:\n",
    "        print('Met a negative number', a)\n",
    "        break\n",
    "    else:\n",
    "        print('No negative numbers met')"
   ]
  },
  {
   "cell_type": "code",
   "execution_count": 20,
   "id": "da02b3e6",
   "metadata": {},
   "outputs": [
    {
     "name": "stdout",
     "output_type": "stream",
     "text": [
      " Current character:  p\n",
      " Current character:  t\n",
      " Current character:  h\n",
      " Current character:  o\n",
      " Current character:  n\n"
     ]
    }
   ],
   "source": [
    "for char in 'python':\n",
    "    if (char == 'y'):\n",
    "        continue\n",
    "    print(\" Current character: \" , char)"
   ]
  },
  {
   "cell_type": "code",
   "execution_count": 21,
   "id": "1e58863e",
   "metadata": {},
   "outputs": [
    {
     "name": "stdout",
     "output_type": "stream",
     "text": [
      "1 2 3 4 5 7 8 9 10 "
     ]
    }
   ],
   "source": [
    "for i in range(1,11):\n",
    "    if i == 6:\n",
    "        continue\n",
    "    else:\n",
    "        print(i, end = ' ')"
   ]
  },
  {
   "cell_type": "code",
   "execution_count": 22,
   "id": "e3716c69",
   "metadata": {},
   "outputs": [
    {
     "name": "stdout",
     "output_type": "stream",
     "text": [
      "1\n",
      "2\n",
      "4\n",
      "5\n",
      "6\n",
      "7\n",
      "8\n",
      "9\n"
     ]
    }
   ],
   "source": [
    "i = 0\n",
    "while i < 9:\n",
    "    i += 1\n",
    "    if i == 3:\n",
    "        continue\n",
    "    print(i)"
   ]
  },
  {
   "cell_type": "markdown",
   "id": "f1360e52",
   "metadata": {},
   "source": [
    "# Calculate the square of each element in the list"
   ]
  },
  {
   "cell_type": "code",
   "execution_count": 23,
   "id": "daf4abfa",
   "metadata": {},
   "outputs": [
    {
     "name": "stdout",
     "output_type": "stream",
     "text": [
      "1\n",
      "9\n",
      "169\n",
      "8281\n",
      "10000\n",
      "40000\n"
     ]
    }
   ],
   "source": [
    "list_1 = [1,3,13,91,100,200]\n",
    "for i in list_1:\n",
    "    print(i*i)"
   ]
  },
  {
   "cell_type": "code",
   "execution_count": 24,
   "id": "823487c9",
   "metadata": {},
   "outputs": [
    {
     "name": "stdout",
     "output_type": "stream",
     "text": [
      "5\n",
      "5 x 1 = 5\n",
      "5 x 2 = 10\n",
      "5 x 3 = 15\n",
      "5 x 4 = 20\n",
      "5 x 5 = 25\n",
      "5 x 6 = 30\n",
      "5 x 7 = 35\n",
      "5 x 8 = 40\n",
      "5 x 9 = 45\n",
      "5 x 10 = 50\n"
     ]
    }
   ],
   "source": [
    "# Write a code to print table of given number\n",
    "n = int(input())\n",
    "\n",
    "for i in range(1,11):\n",
    "    print(n ,'x', i, '=', n*i)"
   ]
  },
  {
   "cell_type": "markdown",
   "id": "50ab1b46",
   "metadata": {},
   "source": [
    "# how to print full pyramid and asterisk(star) patterns in python"
   ]
  },
  {
   "cell_type": "code",
   "execution_count": 25,
   "id": "65398900",
   "metadata": {},
   "outputs": [
    {
     "name": "stdout",
     "output_type": "stream",
     "text": [
      "Print full tringle using stars\n",
      "        *   \n",
      "       *  *   \n",
      "      *  *  *   \n",
      "     *  *  *  *   \n",
      "    *  *  *  *  *   \n"
     ]
    }
   ],
   "source": [
    "print(\"Print full tringle using stars\")\n",
    "size = 5\n",
    "m = (2*size) - 2\n",
    "for i in range (0,size):\n",
    "    for j in range(0,m):\n",
    "        print(end = ' ')\n",
    "    m = m-1\n",
    "    for j in range(0,i+1):\n",
    "        print(\"* \", end = ' ')\n",
    "    print(\" \")        "
   ]
  },
  {
   "cell_type": "code",
   "execution_count": 27,
   "id": "09841405",
   "metadata": {},
   "outputs": [
    {
     "name": "stdout",
     "output_type": "stream",
     "text": [
      "        *   \n",
      "       *  *   \n",
      "      *  *  *   \n",
      "     *  *  *  *   \n",
      "    *  *  *  *  *   \n"
     ]
    }
   ],
   "source": [
    "size = 5\n",
    "m = (2*size) - 2\n",
    "for i in range(0,size):\n",
    "    for j in range(0,m):\n",
    "        print(end = ' ')\n",
    "    m = m-1\n",
    "    for j in range(0,i+1):\n",
    "        print('* ',end = ' ')\n",
    "    print(\" \")"
   ]
  },
  {
   "cell_type": "code",
   "execution_count": 29,
   "id": "20df2af9",
   "metadata": {},
   "outputs": [
    {
     "name": "stdout",
     "output_type": "stream",
     "text": [
      "* \n",
      "* * \n",
      "* * * \n",
      "* * * * \n",
      "* * * * * \n"
     ]
    }
   ],
   "source": [
    "#Form a lower tringular matrix in ' * ' pattern\n",
    "for i in range(0,5):\n",
    "    for j in range(0,i+1):\n",
    "        print(\"* \",end = \"\")\n",
    "    print()"
   ]
  },
  {
   "cell_type": "markdown",
   "id": "38f82ab9",
   "metadata": {},
   "source": [
    "# Write a program to print alphabetical pattern using ascii values"
   ]
  },
  {
   "cell_type": "code",
   "execution_count": 32,
   "id": "4caaed28",
   "metadata": {},
   "outputs": [
    {
     "name": "stdout",
     "output_type": "stream",
     "text": [
      "A\n",
      "AB\n",
      "ABC\n",
      "ABCD\n",
      "ABCDE\n"
     ]
    }
   ],
   "source": [
    "for i in range(65,70):\n",
    "    for j in range(65,i+1):\n",
    "        print(chr(j),end = \"\")\n",
    "    print()"
   ]
  },
  {
   "cell_type": "code",
   "execution_count": 43,
   "id": "e17951f7",
   "metadata": {},
   "outputs": [
    {
     "name": "stdout",
     "output_type": "stream",
     "text": [
      "A\n",
      "AB\n",
      "ABC\n",
      "ABCD\n",
      "ABCDE\n",
      "ABCDEF\n",
      "ABCDEFG\n",
      "ABCDEFGH\n",
      "ABCDEFGHI\n",
      "ABCDEFGHIJ\n",
      "ABCDEFGHIJK\n",
      "ABCDEFGHIJKL\n",
      "ABCDEFGHIJKLM\n",
      "ABCDEFGHIJKLMN\n",
      "ABCDEFGHIJKLMNO\n",
      "ABCDEFGHIJKLMNOP\n",
      "ABCDEFGHIJKLMNOPQ\n",
      "ABCDEFGHIJKLMNOPQR\n",
      "ABCDEFGHIJKLMNOPQRS\n",
      "ABCDEFGHIJKLMNOPQRST\n",
      "ABCDEFGHIJKLMNOPQRSTU\n",
      "ABCDEFGHIJKLMNOPQRSTUV\n",
      "ABCDEFGHIJKLMNOPQRSTUVW\n",
      "ABCDEFGHIJKLMNOPQRSTUVWX\n",
      "ABCDEFGHIJKLMNOPQRSTUVWXY\n",
      "ABCDEFGHIJKLMNOPQRSTUVWXYZ\n"
     ]
    }
   ],
   "source": [
    "for i in range(65,91):\n",
    "    for j in range(65,i+1):\n",
    "        print(chr(j),end = '')\n",
    "    print()"
   ]
  },
  {
   "cell_type": "markdown",
   "id": "4ec6c05b",
   "metadata": {},
   "source": [
    "# Access each individual item of the sublists using nested for loop"
   ]
  },
  {
   "cell_type": "code",
   "execution_count": 44,
   "id": "409c3423",
   "metadata": {},
   "outputs": [
    {
     "name": "stdout",
     "output_type": "stream",
     "text": [
      "Pune\n",
      "Mumbai\n",
      "Delhi\n",
      "23\n",
      "12\n",
      "32\n",
      "9.29\n",
      "8.28\n",
      "7.27\n"
     ]
    }
   ],
   "source": [
    "list_of_lists = [['Pune', 'Mumbai', 'Delhi'],[23, 12, 32],[9.29, 8.28, 7.27]]\n",
    "for list in list_of_lists:\n",
    "    for item in list:\n",
    "        print(item)"
   ]
  },
  {
   "cell_type": "markdown",
   "id": "a6e2ecf0",
   "metadata": {},
   "source": [
    "# Read a number n and print an identity matrix of the same order"
   ]
  },
  {
   "cell_type": "code",
   "execution_count": 51,
   "id": "a0592430",
   "metadata": {},
   "outputs": [
    {
     "name": "stdout",
     "output_type": "stream",
     "text": [
      "Enter a number: 4\n",
      "1 0 0 0 \n",
      "0 1 0 0 \n",
      "0 0 1 0 \n",
      "0 0 0 1 \n"
     ]
    }
   ],
   "source": [
    "n = int(input(\"Enter a number: \"))\n",
    "for i in range(0,n):\n",
    "    for j in range(0,n):\n",
    "        if (i==j):\n",
    "            print(\"1\",sep = \" \",end = \" \")\n",
    "        else:\n",
    "            print(\"0\",sep = \" \",end = \" \")\n",
    "    print()"
   ]
  },
  {
   "cell_type": "markdown",
   "id": "996b64bd",
   "metadata": {},
   "source": [
    "# Access each individual letter from the given list of words"
   ]
  },
  {
   "cell_type": "code",
   "execution_count": 52,
   "id": "3d5b548e",
   "metadata": {},
   "outputs": [
    {
     "name": "stdout",
     "output_type": "stream",
     "text": [
      "The following lines will print each letters of Apple\n",
      "A\n",
      "p\n",
      "p\n",
      "l\n",
      "e\n",
      "\n",
      "The following lines will print each letters of Banana\n",
      "B\n",
      "a\n",
      "n\n",
      "a\n",
      "n\n",
      "a\n",
      "\n",
      "The following lines will print each letters of Car\n",
      "C\n",
      "a\n",
      "r\n",
      "\n",
      "The following lines will print each letters of Dolphin\n",
      "D\n",
      "o\n",
      "l\n",
      "p\n",
      "h\n",
      "i\n",
      "n\n",
      "\n"
     ]
    }
   ],
   "source": [
    "words= [\"Apple\", \"Banana\", \"Car\", \"Dolphin\" ]\n",
    "\n",
    "for word in words:\n",
    "    print(\"The following lines will print each letters of \"+word)\n",
    "    for letter in word:\n",
    "        print(letter)\n",
    "    print(\"\")\n",
    "        "
   ]
  },
  {
   "cell_type": "markdown",
   "id": "abff5c17",
   "metadata": {},
   "source": [
    "# Print a number pattern using a for loop and range function"
   ]
  },
  {
   "cell_type": "code",
   "execution_count": 54,
   "id": "cef377ec",
   "metadata": {},
   "outputs": [
    {
     "name": "stdout",
     "output_type": "stream",
     "text": [
      "\n",
      "\n",
      "1 \n",
      "\n",
      "2 2 \n",
      "\n",
      "3 3 3 \n",
      "\n",
      "4 4 4 4 \n",
      "\n",
      "5 5 5 5 5 \n",
      "\n",
      "6 6 6 6 6 6 \n",
      "\n",
      "7 7 7 7 7 7 7 \n",
      "\n",
      "8 8 8 8 8 8 8 8 \n",
      "\n",
      "9 9 9 9 9 9 9 9 9 \n",
      "\n",
      "10 10 10 10 10 10 10 10 10 10 \n",
      "\n",
      "11 11 11 11 11 11 11 11 11 11 11 \n",
      "\n",
      "12 12 12 12 12 12 12 12 12 12 12 12 \n",
      "\n",
      "13 13 13 13 13 13 13 13 13 13 13 13 13 \n",
      "\n",
      "14 14 14 14 14 14 14 14 14 14 14 14 14 14 \n",
      "\n",
      "15 15 15 15 15 15 15 15 15 15 15 15 15 15 15 \n",
      "\n"
     ]
    }
   ],
   "source": [
    "for num in range(16):\n",
    "    for i in range(num):\n",
    "        print(num,end=\" \")\n",
    "    print(\"\\n\")"
   ]
  },
  {
   "cell_type": "markdown",
   "id": "0e35c969",
   "metadata": {},
   "source": [
    "# Find the first 3-digit number that’s divisible by 12"
   ]
  },
  {
   "cell_type": "code",
   "execution_count": 57,
   "id": "7dc1f271",
   "metadata": {},
   "outputs": [
    {
     "name": "stdout",
     "output_type": "stream",
     "text": [
      "108\n"
     ]
    }
   ],
   "source": [
    "for i in range(0,1000,12):\n",
    "    if len(str(i)) == 3:\n",
    "        print(i)\n",
    "        break"
   ]
  },
  {
   "cell_type": "markdown",
   "id": "dc12cf9c",
   "metadata": {},
   "source": [
    "# Display all the odd numbers in a given list.Make use of 'continue' statement"
   ]
  },
  {
   "cell_type": "code",
   "execution_count": 1,
   "id": "4f2608d9",
   "metadata": {},
   "outputs": [
    {
     "name": "stdout",
     "output_type": "stream",
     "text": [
      "211\n",
      "829\n"
     ]
    }
   ],
   "source": [
    "for num in [230, 211, 932, 626, 234, 829, 424]:\n",
    "    if num%2 == 0:\n",
    "        continue\n",
    "    print(num)"
   ]
  },
  {
   "cell_type": "code",
   "execution_count": 2,
   "id": "3cd1197b",
   "metadata": {},
   "outputs": [
    {
     "name": "stdout",
     "output_type": "stream",
     "text": [
      "6\n",
      "5\n",
      "4\n",
      "3\n"
     ]
    }
   ],
   "source": [
    "# while loop with if else\n",
    "a = 7\n",
    "while a > 0:\n",
    "    a = a-1\n",
    "    if a == 2:\n",
    "        break\n",
    "    print(a)\n",
    "else:\n",
    "    print('Loop is Finished')"
   ]
  },
  {
   "cell_type": "code",
   "execution_count": 3,
   "id": "b3a60f84",
   "metadata": {},
   "outputs": [
    {
     "name": "stdout",
     "output_type": "stream",
     "text": [
      "9\n",
      "8\n",
      "7\n",
      "6\n",
      "5\n",
      "4\n",
      "3\n"
     ]
    }
   ],
   "source": [
    "a = 10\n",
    "while a > 0:\n",
    "    a = a-1\n",
    "    if a == 2:\n",
    "        break\n",
    "    print(a)\n",
    "else:\n",
    "    print('Loop is Finished')"
   ]
  },
  {
   "cell_type": "code",
   "execution_count": 4,
   "id": "a75bb782",
   "metadata": {},
   "outputs": [
    {
     "name": "stdout",
     "output_type": "stream",
     "text": [
      "1\n",
      "2\n",
      "3\n"
     ]
    }
   ],
   "source": [
    "# break in while\n",
    "i = 1\n",
    "while i < 6:\n",
    "    print(i)\n",
    "    if i == 3:\n",
    "        break\n",
    "    i+=1"
   ]
  },
  {
   "cell_type": "code",
   "execution_count": 5,
   "id": "cb5d2aca",
   "metadata": {},
   "outputs": [
    {
     "name": "stdout",
     "output_type": "stream",
     "text": [
      "Please enter 'hello':Hello\n",
      "Please enter 'hello':hello\n"
     ]
    }
   ],
   "source": [
    "# break in while loop\n",
    "while True:\n",
    "    n = input(\"Please enter 'hello':\")\n",
    "    if n.strip() == 'hello':\n",
    "        break"
   ]
  },
  {
   "cell_type": "code",
   "execution_count": 6,
   "id": "f92667b0",
   "metadata": {},
   "outputs": [
    {
     "name": "stdout",
     "output_type": "stream",
     "text": [
      " Sum of first 4 integer is : 6\n"
     ]
    }
   ],
   "source": [
    "num_sum = 0\n",
    "count = 0\n",
    "while(count<10):\n",
    "    num_sum = num_sum + count\n",
    "    count = count + 1\n",
    "    if count == 4:\n",
    "        break\n",
    "print(\" Sum of first\" , count , \"integer is :\", num_sum)"
   ]
  },
  {
   "cell_type": "code",
   "execution_count": 7,
   "id": "cd816074",
   "metadata": {},
   "outputs": [
    {
     "name": "stdout",
     "output_type": "stream",
     "text": [
      "1\n",
      "2\n",
      "3\n",
      "5\n",
      "6\n",
      "7\n"
     ]
    }
   ],
   "source": [
    "i = 0\n",
    "while i < 7:\n",
    "    i+=1\n",
    "    if i ==4:\n",
    "        continue\n",
    "    print(i)"
   ]
  },
  {
   "cell_type": "code",
   "execution_count": 8,
   "id": "c9c5f887",
   "metadata": {},
   "outputs": [
    {
     "name": "stdout",
     "output_type": "stream",
     "text": [
      "1\n",
      "2\n",
      "3\n",
      "4\n",
      "6\n",
      "7\n",
      "8\n",
      "9\n"
     ]
    }
   ],
   "source": [
    "i = 0\n",
    "while i < 9:\n",
    "    i+=1\n",
    "    if i ==5:\n",
    "        continue\n",
    "    print(i)"
   ]
  },
  {
   "cell_type": "code",
   "execution_count": 11,
   "id": "f9de60c1",
   "metadata": {},
   "outputs": [
    {
     "name": "stdout",
     "output_type": "stream",
     "text": [
      "0\n",
      "1\n",
      "2\n",
      "4\n",
      "5\n",
      "7\n",
      "8\n",
      "9\n"
     ]
    }
   ],
   "source": [
    "for x in range(10):\n",
    "    if (x == 3 or x == 6):\n",
    "        continue\n",
    "    print(x)"
   ]
  },
  {
   "cell_type": "markdown",
   "id": "be42c927",
   "metadata": {},
   "source": [
    "# List Comprehension"
   ]
  },
  {
   "cell_type": "code",
   "execution_count": 2,
   "id": "9708ec30",
   "metadata": {},
   "outputs": [
    {
     "data": {
      "text/plain": [
       "['G', 'r', 'e', 'a', 't', ' ', 'L', 'a', 'k', 'e', 's']"
      ]
     },
     "execution_count": 2,
     "metadata": {},
     "output_type": "execute_result"
    }
   ],
   "source": [
    "letter_list = []\n",
    "for i in 'Great Lakes':\n",
    "    letter_list.append(i)\n",
    "letter_list"
   ]
  },
  {
   "cell_type": "code",
   "execution_count": 3,
   "id": "3e3a49fb",
   "metadata": {},
   "outputs": [
    {
     "name": "stdout",
     "output_type": "stream",
     "text": [
      "['G', 'r', 'e', 'a', 't', ' ', 'L', 'a', 'k', 'e', 's']\n"
     ]
    }
   ],
   "source": [
    "newlist = [i for i in 'Great Lakes']\n",
    "print(newlist)"
   ]
  },
  {
   "cell_type": "markdown",
   "id": "521e2f4c",
   "metadata": {},
   "source": [
    "# Find the squares of each element using list comprehension"
   ]
  },
  {
   "cell_type": "code",
   "execution_count": 4,
   "id": "721304ff",
   "metadata": {},
   "outputs": [
    {
     "name": "stdout",
     "output_type": "stream",
     "text": [
      "[169, 1024, 1089, 576]\n"
     ]
    }
   ],
   "source": [
    "num = [13, 32, 33, 24]\n",
    "num_sq = [n**2 for n in num]\n",
    "print(num_sq)"
   ]
  },
  {
   "cell_type": "markdown",
   "id": "8d440e6e",
   "metadata": {},
   "source": [
    "#  Convert all the words in the given list to the upper case"
   ]
  },
  {
   "cell_type": "code",
   "execution_count": 5,
   "id": "8214d65a",
   "metadata": {},
   "outputs": [
    {
     "name": "stdout",
     "output_type": "stream",
     "text": [
      "['YES', \"IT'S\", 'A', 'BEAUTIFUL', 'DAY']\n"
     ]
    }
   ],
   "source": [
    "list_1 = [\"yes\", \"it's\", \"a\", \"Beautiful\", \"Day\"]\n",
    "upper_list_1 = [str.upper() for str in list_1]\n",
    "print(upper_list_1)"
   ]
  },
  {
   "cell_type": "markdown",
   "id": "5a059427",
   "metadata": {},
   "source": [
    "# produce a list of a lists, as shown below:"
   ]
  },
  {
   "cell_type": "code",
   "execution_count": 6,
   "id": "5574a98d",
   "metadata": {},
   "outputs": [
    {
     "name": "stdout",
     "output_type": "stream",
     "text": [
      "[[121, 1331], [144, 1728], [169, 2197], [196, 2744]]\n"
     ]
    }
   ],
   "source": [
    "list_1 = [11, 12, 13, 14]\n",
    "\n",
    "sq_cube_num = [[a **2,a**3] for a in list_1]\n",
    "print(sq_cube_num)"
   ]
  },
  {
   "cell_type": "code",
   "execution_count": 10,
   "id": "588a4abf",
   "metadata": {},
   "outputs": [
    {
     "name": "stdout",
     "output_type": "stream",
     "text": [
      "[[121, 1331], [144, 1728], [169, 2197], [196, 2744]]\n"
     ]
    }
   ],
   "source": [
    "list_1 = [11, 12, 13, 14]\n",
    "\n",
    "sq_cube_num = [[a ** 2,a**3] for a in list_1]\n",
    "print(sq_cube_num)"
   ]
  },
  {
   "cell_type": "code",
   "execution_count": 22,
   "id": "14dcbb66",
   "metadata": {},
   "outputs": [
    {
     "name": "stdout",
     "output_type": "stream",
     "text": [
      "[[5], [10], [15], [20], [25], [30], [35], [40], [45], [50], [55], [60], [65], [70], [75], [80], [85], [90], [95], [100]]\n"
     ]
    }
   ],
   "source": [
    "list_22 = range(1,21)\n",
    "\n",
    "num = [[a * 5] for a in list_22]\n",
    "print(num)"
   ]
  },
  {
   "cell_type": "markdown",
   "id": "268a5da9",
   "metadata": {},
   "source": [
    "# nested for loop"
   ]
  },
  {
   "cell_type": "markdown",
   "id": "2a37f427",
   "metadata": {},
   "source": [
    "# Print the tables of numbers from 13 to 17"
   ]
  },
  {
   "cell_type": "code",
   "execution_count": 25,
   "id": "29083463",
   "metadata": {},
   "outputs": [
    {
     "data": {
      "text/plain": [
       "[[11, 22, 33, 44, 55, 66, 77, 88, 99, 110],\n",
       " [12, 24, 36, 48, 60, 72, 84, 96, 108, 120],\n",
       " [13, 26, 39, 52, 65, 78, 91, 104, 117, 130],\n",
       " [14, 28, 42, 56, 70, 84, 98, 112, 126, 140],\n",
       " [15, 30, 45, 60, 75, 90, 105, 120, 135, 150],\n",
       " [16, 32, 48, 64, 80, 96, 112, 128, 144, 160],\n",
       " [17, 34, 51, 68, 85, 102, 119, 136, 153, 170],\n",
       " [18, 36, 54, 72, 90, 108, 126, 144, 162, 180],\n",
       " [19, 38, 57, 76, 95, 114, 133, 152, 171, 190]]"
      ]
     },
     "execution_count": 25,
     "metadata": {},
     "output_type": "execute_result"
    }
   ],
   "source": [
    "[[i * j for j in range(1,11)] for i in range(11,20)]"
   ]
  },
  {
   "cell_type": "code",
   "execution_count": null,
   "id": "4dbe5897",
   "metadata": {},
   "outputs": [],
   "source": [
    "s"
   ]
  },
  {
   "cell_type": "code",
   "execution_count": null,
   "id": "3f53c3d7",
   "metadata": {},
   "outputs": [],
   "source": []
  },
  {
   "cell_type": "code",
   "execution_count": null,
   "id": "b155f803",
   "metadata": {},
   "outputs": [],
   "source": []
  },
  {
   "cell_type": "code",
   "execution_count": null,
   "id": "cde097c0",
   "metadata": {},
   "outputs": [],
   "source": []
  },
  {
   "cell_type": "markdown",
   "id": "60b36add",
   "metadata": {},
   "source": [
    "https://www.brianheinold.net/python/worked_exercises.html\n",
    "\n",
    "https://www.w3resource.com/python-exercises/python-basic-exercises.php"
   ]
  },
  {
   "cell_type": "markdown",
   "id": "f48d9cba",
   "metadata": {},
   "source": [
    "# 1. Write a Python program to print the following string in a specific format.\n",
    "        Sample String : \"Twinkle, twinkle, little star, \n",
    "                                    How I wonder what you are! \n",
    "                                                Up above the world so high, \n",
    "                                                Like a diamond in the sky. \n",
    "                         Twinkle, twinkle, little star, \n",
    "                         How I wonder what you are\""
   ]
  },
  {
   "cell_type": "code",
   "execution_count": 241,
   "id": "6502183e",
   "metadata": {},
   "outputs": [
    {
     "name": "stdout",
     "output_type": "stream",
     "text": [
      "Twinkle, twinkle, little star, \n",
      "\tHow I wonder what you are! \n",
      "\t\tUp above the world so high, \n",
      "\t\tLike a diamond in the sky. \n",
      "Twinkle, twinkle, little star, \n",
      "\tHow I wonder what you are!\n"
     ]
    }
   ],
   "source": [
    "print(\"Twinkle, twinkle, little star, \\n\\tHow I wonder what you are! \\n\\t\\tUp above the world so high, \\n\\t\\tLike a diamond in the sky. \\nTwinkle, twinkle, little star, \\n\\tHow I wonder what you are!\")\n",
    "\n"
   ]
  },
  {
   "cell_type": "markdown",
   "id": "d26d085e",
   "metadata": {},
   "source": [
    "# 2.Write a Python program to get the Python version you are using."
   ]
  },
  {
   "cell_type": "code",
   "execution_count": 242,
   "id": "c037fe28",
   "metadata": {},
   "outputs": [
    {
     "name": "stdout",
     "output_type": "stream",
     "text": [
      "3.8.8\n"
     ]
    }
   ],
   "source": [
    "import platform\n",
    "print(platform.python_version())"
   ]
  },
  {
   "cell_type": "markdown",
   "id": "8183c661",
   "metadata": {},
   "source": [
    "# 3.Write a Python program to display the current date and time."
   ]
  },
  {
   "cell_type": "code",
   "execution_count": 278,
   "id": "29470d65",
   "metadata": {},
   "outputs": [
    {
     "name": "stdout",
     "output_type": "stream",
     "text": [
      "Current date and time: \n",
      "2021-12-06 21:48:37\n"
     ]
    }
   ],
   "source": [
    "import datetime\n",
    "now = datetime.datetime.now()\n",
    "print(\"Current date and time: \")\n",
    "print(now.strftime(\"%Y-%m-%d %H:%M:%S\"))"
   ]
  },
  {
   "cell_type": "markdown",
   "id": "0ac3acd6",
   "metadata": {},
   "source": [
    "# 4.Write a Python program which accepts the radius of a circle from the user and compute the area."
   ]
  },
  {
   "cell_type": "code",
   "execution_count": 244,
   "id": "98e94115",
   "metadata": {},
   "outputs": [],
   "source": [
    "from math import pi"
   ]
  },
  {
   "cell_type": "code",
   "execution_count": 245,
   "id": "65a95393",
   "metadata": {},
   "outputs": [
    {
     "name": "stdout",
     "output_type": "stream",
     "text": [
      "Input the radius of a circle : 2.1\n",
      "The area of circle with radius 2.1 is: 13.854423602330987\n"
     ]
    }
   ],
   "source": [
    "r = float(input(\"Input the radius of a circle : \"))\n",
    "print(\"The area of circle with radius \" +  str(r) + \" is: \" + str(pi * r**2))"
   ]
  },
  {
   "cell_type": "markdown",
   "id": "8c2648eb",
   "metadata": {},
   "source": [
    "# 5. Write a Python program which accepts the user's first and last name and print them in reverse order with a space between them."
   ]
  },
  {
   "cell_type": "code",
   "execution_count": 246,
   "id": "db367182",
   "metadata": {},
   "outputs": [
    {
     "name": "stdout",
     "output_type": "stream",
     "text": [
      "Input your first name: Bhavika\n",
      "Input your last name: Patel\n",
      "Hello Patel Bhavika\n"
     ]
    }
   ],
   "source": [
    "fname = input(\"Input your first name: \")\n",
    "lname = input(\"Input your last name: \" )\n",
    "print(\"Hello \" + lname + \" \" + fname)"
   ]
  },
  {
   "cell_type": "markdown",
   "id": "6eb437dd",
   "metadata": {},
   "source": [
    "# 6. Write a Python program which accepts a sequence of comma-separated numbers from user and generate a list and a tuple with those numbers.\n",
    "\n",
    "Sample data: 3, 5, 7, 23"
   ]
  },
  {
   "cell_type": "code",
   "execution_count": 247,
   "id": "94237be8",
   "metadata": {},
   "outputs": [
    {
     "name": "stdout",
     "output_type": "stream",
     "text": [
      "Enter comma seperated Numbers: 3,5,,7,23\n",
      "List :  ['3', '5', '', '7', '23']\n",
      " Tuple :  ('3', '5', '', '7', '23')\n"
     ]
    }
   ],
   "source": [
    "values = input(\"Enter comma seperated Numbers: \")\n",
    "list = values.split(\",\")\n",
    "tuple = tuple(list)\n",
    "print(\"List : \" , list)\n",
    "print(\" Tuple : \", tuple)"
   ]
  },
  {
   "cell_type": "markdown",
   "id": "88e77314",
   "metadata": {},
   "source": [
    "# 7.Write a Python program to accept a filename from the user and print the extension of that.\n",
    "\n",
    "Sample filename: abc.java"
   ]
  },
  {
   "cell_type": "code",
   "execution_count": 248,
   "id": "f37d25e5",
   "metadata": {},
   "outputs": [
    {
     "name": "stdout",
     "output_type": "stream",
     "text": [
      "Input the filenameabc.java\n",
      "THe extension of the file is: 'java'\n"
     ]
    }
   ],
   "source": [
    "filename = input(\"Input the filename\")\n",
    "f_extn = filename.split(\".\")\n",
    "print(\"THe extension of the file is: \"+ repr(f_extn[-1]))"
   ]
  },
  {
   "cell_type": "markdown",
   "id": "e5553162",
   "metadata": {},
   "source": [
    "# 8.Write a Python program to display the first and last colors from the following list.\n",
    "\n",
    "color_list = [\"Red\",\"Green\",\"White\" ,\"Black\"]"
   ]
  },
  {
   "cell_type": "code",
   "execution_count": 250,
   "id": "232fb88f",
   "metadata": {},
   "outputs": [
    {
     "name": "stdout",
     "output_type": "stream",
     "text": [
      "Red Black\n"
     ]
    }
   ],
   "source": [
    "colors_list = [\"Red\",\"Green\",\"White\" ,\"Black\"]\n",
    "print(\"%s %s\"%(colors_list[0],colors_list[-1]))"
   ]
  },
  {
   "cell_type": "code",
   "execution_count": 251,
   "id": "0d399e35",
   "metadata": {},
   "outputs": [
    {
     "data": {
      "text/plain": [
       "('Red', 'Black')"
      ]
     },
     "execution_count": 251,
     "metadata": {},
     "output_type": "execute_result"
    }
   ],
   "source": [
    "(colors_list[0],colors_list[-1])"
   ]
  },
  {
   "cell_type": "markdown",
   "id": "44674116",
   "metadata": {},
   "source": [
    "# 9.Write a Python program to display the examination schedule. (extract the date from exam_st_date).\n",
    "\n",
    "exam_st_date = (11, 12, 2014)\n",
    "\n",
    "SampleOutput: The examination will start from : 11 / 12 / 2014"
   ]
  },
  {
   "cell_type": "code",
   "execution_count": 255,
   "id": "311b6564",
   "metadata": {},
   "outputs": [
    {
     "name": "stdout",
     "output_type": "stream",
     "text": [
      "The examination will start from : 11 / 12 / 2014\n"
     ]
    }
   ],
   "source": [
    "exam_st_date = (11, 12, 2014)\n",
    "print(\"The examination will start from : %i / %i / %i\"%exam_st_date)"
   ]
  },
  {
   "cell_type": "markdown",
   "id": "1133f9b5",
   "metadata": {},
   "source": [
    "# 10.Write a Python program that accepts an integer (n) and computes the value of n+nn+nnn.\n",
    "\n",
    "Sample value of n is 5"
   ]
  },
  {
   "cell_type": "code",
   "execution_count": 258,
   "id": "2a777609",
   "metadata": {},
   "outputs": [
    {
     "name": "stdout",
     "output_type": "stream",
     "text": [
      "Input an Integer : 5\n",
      "615\n"
     ]
    }
   ],
   "source": [
    "a = int(input(\"Input an Integer : \"))\n",
    "n1 = int(\"%s\" % a)\n",
    "n2 = int(\"%s%s\" % (a,a))\n",
    "n3 = int(\"%s%s%s\" % (a,a,a,))\n",
    "print(n1+n2+n3)"
   ]
  },
  {
   "cell_type": "code",
   "execution_count": 259,
   "id": "666ed14d",
   "metadata": {},
   "outputs": [
    {
     "data": {
      "text/plain": [
       "615"
      ]
     },
     "execution_count": 259,
     "metadata": {},
     "output_type": "execute_result"
    }
   ],
   "source": [
    "5+55+555"
   ]
  },
  {
   "cell_type": "markdown",
   "id": "ff3df2a6",
   "metadata": {},
   "source": [
    "# 11.Write a Python program to print the documents (syntax, description etc.) of Python built-in function(s).\n",
    "\n",
    "Sample function: abs()"
   ]
  },
  {
   "cell_type": "code",
   "execution_count": 260,
   "id": "0d921dfb",
   "metadata": {},
   "outputs": [
    {
     "name": "stdout",
     "output_type": "stream",
     "text": [
      "Return the absolute value of the argument.\n"
     ]
    }
   ],
   "source": [
    "print(abs.__doc__)"
   ]
  },
  {
   "cell_type": "markdown",
   "id": "021c88bd",
   "metadata": {},
   "source": [
    "# 12.Write a Python program to print the calendar of a given month and year.\n",
    "\n",
    "Note: Use 'calendar' module."
   ]
  },
  {
   "cell_type": "code",
   "execution_count": 262,
   "id": "80dd7a8c",
   "metadata": {},
   "outputs": [],
   "source": [
    "import calendar"
   ]
  },
  {
   "cell_type": "code",
   "execution_count": 274,
   "id": "11fb4efa",
   "metadata": {},
   "outputs": [
    {
     "name": "stdout",
     "output_type": "stream",
     "text": [
      "Input the year : 2021\n",
      "Input the month : 12\n",
      "   December 2021\n",
      "Mo Tu We Th Fr Sa Su\n",
      "       1  2  3  4  5\n",
      " 6  7  8  9 10 11 12\n",
      "13 14 15 16 17 18 19\n",
      "20 21 22 23 24 25 26\n",
      "27 28 29 30 31\n",
      "\n"
     ]
    }
   ],
   "source": [
    "y = int(input(\"Input the year : \"))\n",
    "m = int(input(\"Input the month : \"))\n",
    "print(calendar.month(y,m))"
   ]
  },
  {
   "cell_type": "markdown",
   "id": "45ac61f6",
   "metadata": {},
   "source": [
    "# 13.Write a Python program to print the following 'here document'.\n",
    "\n",
    "        Sample string:\n",
    "        a string that you \"don't\" have to escape\n",
    "        This\n",
    "        is a ....... multi-line\n",
    "        heredoc string --------> example"
   ]
  },
  {
   "cell_type": "code",
   "execution_count": 265,
   "id": "5b9cc4f0",
   "metadata": {},
   "outputs": [
    {
     "name": "stdout",
     "output_type": "stream",
     "text": [
      "\n",
      "a string that you \"don't\" have to escape\n",
      "This\n",
      "is a ....... multi-line\n",
      "heredoc string --------> example\n",
      "\n"
     ]
    }
   ],
   "source": [
    "print(\"\"\"\n",
    "a string that you \"don't\" have to escape\n",
    "This\n",
    "is a ....... multi-line\n",
    "heredoc string --------> example\n",
    "\"\"\")"
   ]
  },
  {
   "cell_type": "markdown",
   "id": "789d7f70",
   "metadata": {},
   "source": [
    "# 14.Write a Python program to calculate number of days between two dates."
   ]
  },
  {
   "cell_type": "code",
   "execution_count": 266,
   "id": "a855ec3a",
   "metadata": {},
   "outputs": [
    {
     "name": "stdout",
     "output_type": "stream",
     "text": [
      "25\n"
     ]
    }
   ],
   "source": [
    "from datetime import date\n",
    "f_date = date(2021,12,6)\n",
    "l_date = date(2021,12,31)\n",
    "delta = l_date - f_date\n",
    "print(delta.days)"
   ]
  },
  {
   "cell_type": "markdown",
   "id": "c7bc4b0d",
   "metadata": {},
   "source": [
    "# 15.Write a Python program to get the volume of a sphere with radius 6."
   ]
  },
  {
   "cell_type": "code",
   "execution_count": 277,
   "id": "1f83177a",
   "metadata": {},
   "outputs": [
    {
     "name": "stdout",
     "output_type": "stream",
     "text": [
      "The value of Sphere is:  904.7786842338603\n"
     ]
    }
   ],
   "source": [
    "pi = 3.1415926535897931\n",
    "r = 6.0\n",
    "v = 4.0/3.0*pi*r**3\n",
    "print(\"The value of Sphere is: \",v)"
   ]
  },
  {
   "cell_type": "code",
   "execution_count": 279,
   "id": "f35f31e4",
   "metadata": {},
   "outputs": [
    {
     "data": {
      "text/plain": [
       "500"
      ]
     },
     "execution_count": 279,
     "metadata": {},
     "output_type": "execute_result"
    }
   ],
   "source": [
    "50+50+50+50+50+50+50+50+50+50"
   ]
  },
  {
   "cell_type": "code",
   "execution_count": 280,
   "id": "b2721dc1",
   "metadata": {},
   "outputs": [
    {
     "data": {
      "text/plain": [
       "1440"
      ]
     },
     "execution_count": 280,
     "metadata": {},
     "output_type": "execute_result"
    }
   ],
   "source": [
    "24*60"
   ]
  },
  {
   "cell_type": "markdown",
   "id": "611931d5",
   "metadata": {},
   "source": [
    "# 16. Display the following pattern using print()"
   ]
  },
  {
   "cell_type": "markdown",
   "id": "a928ba0b",
   "metadata": {},
   "source": [
    "            *    \n",
    "           ***    \n",
    "          *****   \n",
    "         *******  \n",
    "        ********* "
   ]
  },
  {
   "cell_type": "code",
   "execution_count": 2,
   "id": "5d32e188",
   "metadata": {},
   "outputs": [
    {
     "name": "stdout",
     "output_type": "stream",
     "text": [
      "     *     \n",
      "    ***    \n",
      "   *****   \n",
      "  *******  \n",
      " ********* \n"
     ]
    }
   ],
   "source": [
    "print(\"     *     \")\n",
    "print(\"    ***    \")\n",
    "print(\"   *****   \")\n",
    "print(\"  *******  \")\n",
    "print(\" ********* \")"
   ]
  },
  {
   "cell_type": "markdown",
   "id": "5a1540d7",
   "metadata": {},
   "source": [
    "# 17. Write the alphabets 'A', 'B', 'C' on new lines using a single print function."
   ]
  },
  {
   "cell_type": "code",
   "execution_count": 5,
   "id": "0cc5cb8a",
   "metadata": {},
   "outputs": [
    {
     "name": "stdout",
     "output_type": "stream",
     "text": [
      "A\n",
      "B\n",
      "C\n"
     ]
    }
   ],
   "source": [
    "print(\"A\\nB\\nC\")"
   ]
  },
  {
   "cell_type": "markdown",
   "id": "f1a11c7c",
   "metadata": {},
   "source": [
    "# 18. Calculate BMI of a person (take input for height and weight from user)."
   ]
  },
  {
   "cell_type": "code",
   "execution_count": 7,
   "id": "9042734d",
   "metadata": {},
   "outputs": [
    {
     "name": "stdout",
     "output_type": "stream",
     "text": [
      "Enter (in m): 148\n",
      "Enter (in kg): 42\n"
     ]
    },
    {
     "data": {
      "text/plain": [
       "0.14189189189189189"
      ]
     },
     "execution_count": 7,
     "metadata": {},
     "output_type": "execute_result"
    }
   ],
   "source": [
    "height = input(\"Enter (in m): \")\n",
    "weight = input(\"Enter (in kg): \")\n",
    "\n",
    "height = float(height)\n",
    "weight = float(weight)\n",
    "\n",
    "BMI = weight/(height*2)\n",
    "BMI"
   ]
  },
  {
   "cell_type": "markdown",
   "id": "aae13b4d",
   "metadata": {},
   "source": [
    "# 19. Create a string with the name 'country' and 'India' as its element. Perform the following on it:\n",
    "                     \n",
    "                        <i>Find its length.\n",
    "                        <ii>Extract it first two letters.\n",
    "                       "
   ]
  },
  {
   "cell_type": "code",
   "execution_count": 8,
   "id": "6d424758",
   "metadata": {},
   "outputs": [],
   "source": [
    "country = 'India'"
   ]
  },
  {
   "cell_type": "code",
   "execution_count": 9,
   "id": "4a1f10f0",
   "metadata": {},
   "outputs": [
    {
     "data": {
      "text/plain": [
       "5"
      ]
     },
     "execution_count": 9,
     "metadata": {},
     "output_type": "execute_result"
    }
   ],
   "source": [
    "len(country)"
   ]
  },
  {
   "cell_type": "code",
   "execution_count": 10,
   "id": "1a113d98",
   "metadata": {},
   "outputs": [
    {
     "name": "stdout",
     "output_type": "stream",
     "text": [
      "I\n",
      "n\n"
     ]
    }
   ],
   "source": [
    "print(country[0])\n",
    "print(country[1])"
   ]
  },
  {
   "cell_type": "markdown",
   "id": "95c7aba2",
   "metadata": {},
   "source": [
    "# 20.Given the string 'Today is a sunny day.'\n",
    "\n",
    "Write a code to get 'Today' and 'sunny'.\n",
    "\n",
    "Obtain the last two letters.\n",
    "\n",
    "Write the statement backwards."
   ]
  },
  {
   "cell_type": "code",
   "execution_count": 17,
   "id": "2b061c86",
   "metadata": {},
   "outputs": [],
   "source": [
    "statement = \"Today is a sunny day\""
   ]
  },
  {
   "cell_type": "code",
   "execution_count": 18,
   "id": "8efccda7",
   "metadata": {},
   "outputs": [
    {
     "name": "stdout",
     "output_type": "stream",
     "text": [
      "Today\n",
      "sunny\n"
     ]
    }
   ],
   "source": [
    "print(statement[0:5])\n",
    "print(statement[11:16])"
   ]
  },
  {
   "cell_type": "code",
   "execution_count": 20,
   "id": "0a32d884",
   "metadata": {},
   "outputs": [
    {
     "data": {
      "text/plain": [
       "'ay'"
      ]
     },
     "execution_count": 20,
     "metadata": {},
     "output_type": "execute_result"
    }
   ],
   "source": [
    "statement[-2:]"
   ]
  },
  {
   "cell_type": "code",
   "execution_count": 21,
   "id": "5c5c141e",
   "metadata": {},
   "outputs": [
    {
     "data": {
      "text/plain": [
       "'yad ynnus a si yadoT'"
      ]
     },
     "execution_count": 21,
     "metadata": {},
     "output_type": "execute_result"
    }
   ],
   "source": [
    "statement[::-1]"
   ]
  },
  {
   "cell_type": "markdown",
   "id": "db039bfa",
   "metadata": {},
   "source": [
    "# 21.Write a program to convert the value of 'pi' to integer."
   ]
  },
  {
   "cell_type": "code",
   "execution_count": 3,
   "id": "09912860",
   "metadata": {},
   "outputs": [
    {
     "name": "stdout",
     "output_type": "stream",
     "text": [
      "pi =  3\n"
     ]
    }
   ],
   "source": [
    "pi = 3.142\n",
    "pi = int(pi)\n",
    "print(\"pi = \",pi)"
   ]
  },
  {
   "cell_type": "markdown",
   "id": "91c2fc73",
   "metadata": {},
   "source": [
    "# 22. Write a program to swap the two integers passed as runtime variables."
   ]
  },
  {
   "cell_type": "code",
   "execution_count": 5,
   "id": "6e0150a9",
   "metadata": {},
   "outputs": [
    {
     "name": "stdout",
     "output_type": "stream",
     "text": [
      "Enter num_1 = 5\n",
      "Enter num_2 = 9\n",
      "After swapping : num_1 = 9 num_2 = 5\n"
     ]
    }
   ],
   "source": [
    "num_1 = int(input(\"Enter num_1 = \"))\n",
    "num_2 = int(input(\"Enter num_2 = \"))\n",
    "\n",
    "num_1 = num_1 + num_2\n",
    "num_2 = num_1 - num_2\n",
    "num_1 = num_1 - num_2\n",
    "\n",
    "print(\"After swapping : num_1 =\",num_1,\"num_2 =\", num_2)"
   ]
  },
  {
   "cell_type": "markdown",
   "id": "ee6f0547",
   "metadata": {},
   "source": [
    "# 23. whether a number is within 100 of 1000 or 2000."
   ]
  },
  {
   "cell_type": "code",
   "execution_count": 3,
   "id": "929a4c3e",
   "metadata": {},
   "outputs": [
    {
     "name": "stdout",
     "output_type": "stream",
     "text": [
      "True\n",
      "False\n",
      "True\n",
      "False\n"
     ]
    }
   ],
   "source": [
    "def near_thousand(n):\n",
    "    return((abs(1000 - n)<= 100) or (abs(200-n) <= 100))\n",
    "print(near_thousand(1000))\n",
    "print(near_thousand(800))\n",
    "print(near_thousand(200))\n",
    "print(near_thousand(2200))"
   ]
  },
  {
   "cell_type": "code",
   "execution_count": null,
   "id": "dc1dbb4b",
   "metadata": {},
   "outputs": [],
   "source": []
  }
 ],
 "metadata": {
  "kernelspec": {
   "display_name": "Python 3",
   "language": "python",
   "name": "python3"
  },
  "language_info": {
   "codemirror_mode": {
    "name": "ipython",
    "version": 3
   },
   "file_extension": ".py",
   "mimetype": "text/x-python",
   "name": "python",
   "nbconvert_exporter": "python",
   "pygments_lexer": "ipython3",
   "version": "3.8.8"
  }
 },
 "nbformat": 4,
 "nbformat_minor": 5
}
